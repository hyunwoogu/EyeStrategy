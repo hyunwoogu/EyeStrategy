{
 "cells": [
  {
   "cell_type": "markdown",
   "metadata": {},
   "source": [
    "## Questions"
   ]
  },
  {
   "cell_type": "markdown",
   "metadata": {},
   "source": [
    "### 1. 집단 간 샘플 수의 차이"
   ]
  },
  {
   "cell_type": "markdown",
   "metadata": {},
   "source": [
    "집단을 나타내는 변수가 있다고 할 때, 각 집단에 속하는 샘플 size, 즉 $n_1, n_2, \\cdots$들이 다를 경우 (e.g. 1000 vs. 10) regression에서 문제가 생기게 되나요? Log rank test에서는 따로 집단 간 $n$에 대해 가정을 하지 않았던 것 같은데, 이 경우에도 문제가 생길지 궁금합니다."
   ]
  },
  {
   "cell_type": "markdown",
   "metadata": {},
   "source": [
    "### 2. 피험자 전부를 predictor로 추가한 Regression \n",
    "\n",
    "현재 log-rank test는 각 피험자별로 진행하고 있는데, "
   ]
  },
  {
   "cell_type": "markdown",
   "metadata": {},
   "source": [
    "### 3. Cox PH regression assumption 관련\n",
    "\n"
   ]
  },
  {
   "cell_type": "markdown",
   "metadata": {},
   "source": []
  }
 ],
 "metadata": {
  "kernelspec": {
   "display_name": "R",
   "language": "R",
   "name": "ir"
  },
  "language_info": {
   "codemirror_mode": "r",
   "file_extension": ".r",
   "mimetype": "text/x-r-source",
   "name": "R",
   "pygments_lexer": "r",
   "version": "3.4.3"
  }
 },
 "nbformat": 4,
 "nbformat_minor": 2
}
