{
 "cells": [
  {
   "cell_type": "markdown",
   "metadata": {},
   "source": [
    "## Additional"
   ]
  },
  {
   "cell_type": "markdown",
   "metadata": {},
   "source": [
    "아래에서는 추가적인 분석을 시도하였다. 내용은 아래와 같다. \n",
    "\n",
    "+ **Simpson's Paradox** : 전체 데이터를 고려했을 때와 개별 데이터를 고려했을 때의 관계 역전 현상\n",
    "\n",
    "+ Hazard : 전체/피험자별 hazard를 도출하고 왜 **200ms** 부근의 특이적 peak가 관찰되는 현상에 대한 설명\n",
    "\n",
    "+ empirical CDF vs. Survival Plot\n",
    "\n",
    "+ Cox PH vs. AFT comparison"
   ]
  },
  {
   "cell_type": "markdown",
   "metadata": {},
   "source": [
    "### Simpson's Paradox"
   ]
  },
  {
   "cell_type": "markdown",
   "metadata": {},
   "source": [
    "### Hazard"
   ]
  },
  {
   "cell_type": "markdown",
   "metadata": {},
   "source": [
    "그림이 이상한 피험자가 왜 이리 많지?"
   ]
  },
  {
   "cell_type": "markdown",
   "metadata": {},
   "source": [
    "![](../EyeTracking_data/Figures/Hazards.png)"
   ]
  },
  {
   "cell_type": "markdown",
   "metadata": {},
   "source": [
    "+ 그룹별 Hazard의 비교 : 독특한 피험자들 위주로"
   ]
  },
  {
   "cell_type": "markdown",
   "metadata": {},
   "source": [
    "### emp CDF vs. Survival Plot"
   ]
  }
 ],
 "metadata": {
  "kernelspec": {
   "display_name": "Python [default]",
   "language": "python",
   "name": "python3"
  },
  "language_info": {
   "codemirror_mode": {
    "name": "ipython",
    "version": 3
   },
   "file_extension": ".py",
   "mimetype": "text/x-python",
   "name": "python",
   "nbconvert_exporter": "python",
   "pygments_lexer": "ipython3",
   "version": "3.6.3"
  }
 },
 "nbformat": 4,
 "nbformat_minor": 2
}
