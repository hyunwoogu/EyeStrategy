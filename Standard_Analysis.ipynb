{
 "cells": [
  {
   "cell_type": "markdown",
   "metadata": {},
   "source": [
    "# 타인의 얼굴을 보는 첫 시선의 생존 분석"
   ]
  },
  {
   "cell_type": "markdown",
   "metadata": {},
   "source": [
    "## 목차\n",
    "+ Abstract\n",
    "+ 서론\n",
    "+ 이론적 배경\n",
    "+ 데이터 \n",
    "+ 전체 관측치의 생존함수 분석\n",
    "+ 피험자별 생존함수 분석\n",
    "+ **가설검정**\n",
    "+ 응용 : \"map of importance\"\n",
    "+ 결론"
   ]
  },
  {
   "cell_type": "markdown",
   "metadata": {},
   "source": [
    "### Abstract"
   ]
  },
  {
   "cell_type": "markdown",
   "metadata": {},
   "source": [
    "결과적으로 ~이었다. \n",
    "\n",
    "오른쪽으로 "
   ]
  },
  {
   "cell_type": "markdown",
   "metadata": {},
   "source": [
    "## 서론"
   ]
  },
  {
   "cell_type": "markdown",
   "metadata": {},
   "source": [
    "Saliency map은 얼굴에서 어떤 부위가 시선을 끄는지를 나타내는 그림이다. 반면, 시선을 끌더라도 그 시선이 오래 지속되지 않는다면 중요한 시선이 아닐 것이다. 즉, 고정된 시선이 얼마나 오래 지속되는지는 그 부위가 얼마나 중요한지를 드러내주는 지표이다. \n",
    "\n",
    "본 보고서에서는 **처음 고정된 시선이 얼마나 생존하는지**, **다른 얼굴의 부위에 비해 눈이 상대적으로 얼마나 더 시선을 끄는지**를 비교해보았다."
   ]
  },
  {
   "cell_type": "markdown",
   "metadata": {},
   "source": [
    "본 프로젝트에서 중점을 둔 가설은 **다른 얼굴의 부위에 비해 우측 및 좌측 눈이 상대적으로 얼마나 더 시선을 끄는지**, **얼굴의 중심 부위로 알려진 코**가 얼마나 시선을 잡아두는지를 비교하는 것이며, 추가적으로 심리적인 탐색(exploration)을 반영하는 지표로 알려진 **첫 시선고정까지의 시간**(TTFF)을 공변량으로 추가하여 분석해보았다. "
   ]
  },
  {
   "cell_type": "markdown",
   "metadata": {},
   "source": [
    "## 이론적 배경"
   ]
  },
  {
   "cell_type": "markdown",
   "metadata": {},
   "source": [
    "### 1. \n",
    "\n",
    "전통적으로 글(text)에 대해서는 좌뇌가, 얼굴(face)의 처리에 대해서는 우뇌가 기여하는 것으로 생각되어 왔다(reference). 한편 좌뇌는 우측 시각장(right visual field)과, 우뇌는 좌측 시각장(left visual field)와 연관되므로, eye-tracking 연구 결과에서는 text에 대해서는 우측이, face에 대해서는 좌측이 더 선호되었다(asymmetry : reference). "
   ]
  },
  {
   "cell_type": "markdown",
   "metadata": {},
   "source": [
    "### 2. 기존 연구의 모델"
   ]
  },
  {
   "cell_type": "markdown",
   "metadata": {},
   "source": [
    "$$\n",
    "f(t) = \\frac{1}{\\lambda} e^{-(t - \\alpha)/\\lambda} I_{(t > \\alpha)}, (\\alpha > 0)\n",
    "$$"
   ]
  },
  {
   "cell_type": "markdown",
   "metadata": {},
   "source": [
    "### 3. Survival Analysis\n",
    "\n",
    "$$\n",
    "\\hat{S}(t) = \\prod_{i: t_i \\le t } \\left(1 -  \\frac{d_i}{Y_i} \\right)\n",
    "$$"
   ]
  },
  {
   "cell_type": "markdown",
   "metadata": {},
   "source": [
    "## 데이터"
   ]
  },
  {
   "cell_type": "markdown",
   "metadata": {},
   "source": [
    "### 1. 데이터 정보"
   ]
  },
  {
   "cell_type": "markdown",
   "metadata": {},
   "source": [
    "Nature 저널 scientific data 플랫폼에 공개된 eye movement dataset(Wilming et al., 2017)을 활용할 예정이다. 본 데이터는 컴퓨터 생성 에 대한 실험 참가자들의 fixation을 모은 데이터로, 실험 참가자들이 컴퓨터 그래픽으로 생성된 실제 크기의 얼굴을 1.5초 동안 보고 기억을 하는 과제를 수행한 결과다."
   ]
  },
  {
   "cell_type": "markdown",
   "metadata": {},
   "source": [
    "+ Experimental error를 반영하기 위해 50ms의 $\\epsilon$을 설정해주었다."
   ]
  },
  {
   "cell_type": "markdown",
   "metadata": {},
   "source": [
    "### 2. 데이터 구조"
   ]
  },
  {
   "cell_type": "markdown",
   "metadata": {},
   "source": [
    "+ 어떻게 pooling되어서 '평균' 얼굴을 산출했는지\n",
    "+ ROI 구조"
   ]
  },
  {
   "cell_type": "markdown",
   "metadata": {},
   "source": [
    "<img src=\"../EyeTracking_data/Figures/Freq.png\" width=\"400\">"
   ]
  },
  {
   "cell_type": "markdown",
   "metadata": {},
   "source": [
    "(**무슨 커널을 썼는지 언급할 것**)"
   ]
  },
  {
   "cell_type": "markdown",
   "metadata": {},
   "source": [
    "데이터의 구조를 보면, 각각의 fixation을 독립적인 관측치로 사용할 수 없는 이유 두 가지, 즉 1) 얼굴 반복 제시 문제와 2) 피험자별 반복 측정 문제가 존재하기 때문이다. 아래에서는 **이러한 문제를 해결 ~**. 결론적으로 분석에서는 **전체 데이터보다는** 피험자별로 고려하였으며, 피험자 내에서 얼굴의 반복적 제시는 독립적 관측치로 간주되었다."
   ]
  },
  {
   "cell_type": "markdown",
   "metadata": {},
   "source": [
    "다음은 **데이터의 구조상 발생할 수 있는 문제에 대한 검토 내용**이다."
   ]
  },
  {
   "cell_type": "markdown",
   "metadata": {},
   "source": [
    "#### 2.1. 얼굴 반복 제시 문제"
   ]
  },
  {
   "cell_type": "markdown",
   "metadata": {},
   "source": [
    "총 32개의 얼굴이 무작위 제시되었다. \n",
    "\n",
    "무작위로 선택된 피험자에 대해서 "
   ]
  },
  {
   "cell_type": "markdown",
   "metadata": {},
   "source": [
    "![](../EyeTracking_data/Figures/presentNum.png)"
   ]
  },
  {
   "cell_type": "markdown",
   "metadata": {},
   "source": [
    "+ UnCen이 깨지는 문제.."
   ]
  },
  {
   "cell_type": "markdown",
   "metadata": {},
   "source": [
    "#### 2.2. 피험자별 반복 측정 문제"
   ]
  },
  {
   "cell_type": "markdown",
   "metadata": {},
   "source": [
    "**피험자별로 분석하였다. **"
   ]
  },
  {
   "cell_type": "markdown",
   "metadata": {},
   "source": [
    "### 2. Window 설정"
   ]
  },
  {
   "cell_type": "markdown",
   "metadata": {},
   "source": [
    "실제 코에 fixation이 되는 빈도가 가장 높으며, 눈은 얼굴의 식별을 위해 사용된다. \n",
    "\n",
    "입은 정서의 탐지를 위해 사용되어 흔히 분석되기도 하나, 본 프로젝트에서 사용한 데이터의 경우 **식별 과제였**으므로 중요하지 않았다. \n",
    "\n",
    "Window는 **~와 같이 논의되었으나**, **위 그림**에서 보는 바와 같이 **입 부위의 관측치가 매우 빈약하므로 좌측 눈, 우측 눈, 코 부위를 중심으로 window를 그리는 것이 적절하다고 판단되었다.**\n",
    "\n",
    "**아래에서는 전체 데이터를 사용하는 것의 문제를 밝혀보고,**"
   ]
  },
  {
   "cell_type": "markdown",
   "metadata": {},
   "source": [
    "## 생존함수의 추정 : 전체 데이터"
   ]
  },
  {
   "cell_type": "markdown",
   "metadata": {},
   "source": [
    "### 1. Non-parametric"
   ]
  },
  {
   "cell_type": "markdown",
   "metadata": {},
   "source": [
    "먼저 전체 데이터에서 비모수적 방법으로 Kaplan-Meier estimator와 Nelson-Aalen estimator를 사용하여 생존함수를 추정하였다."
   ]
  },
  {
   "cell_type": "markdown",
   "metadata": {},
   "source": [
    "<img src=\"../EyeTracking_data/Figures/survTotal2.png\" width=\"1000\">"
   ]
  },
  {
   "cell_type": "markdown",
   "metadata": {},
   "source": [
    "+ 최소와 최대 두 두 피험자 비교! (상하)"
   ]
  },
  {
   "cell_type": "markdown",
   "metadata": {},
   "source": [
    "#### Summary statistics "
   ]
  },
  {
   "cell_type": "markdown",
   "metadata": {},
   "source": []
  },
  {
   "cell_type": "markdown",
   "metadata": {},
   "source": [
    "### 2. Parametric "
   ]
  },
  {
   "cell_type": "markdown",
   "metadata": {},
   "source": [
    "Maximum Likelihood Estimation을 진행하였다. "
   ]
  },
  {
   "cell_type": "markdown",
   "metadata": {},
   "source": [
    "Exponential, Weibull 모형의 적합성을 확인하기 위해 $\\log S(t)$ vs. $t$의 산점도???\n",
    "\n",
    "그 결과 $\\log S(t)$ vs. $$"
   ]
  },
  {
   "cell_type": "markdown",
   "metadata": {},
   "source": [
    "추정을 위해 다음의 식을 사용하였다. \n",
    "\n",
    "$$\n",
    "\\frac{\\sum \\delta_i}{\\sum d_i}\n",
    "$$"
   ]
  },
  {
   "cell_type": "markdown",
   "metadata": {},
   "source": [
    "각각의 경우에 Expected value ~ variance의 추정치들. "
   ]
  },
  {
   "cell_type": "markdown",
   "metadata": {},
   "source": [
    "### 2. 각 부위별 생존함수의 추정\n",
    "\n",
    "시선이 머무르는 시간은 얼굴의 부위에 따라 차이가 있을 수 있다. 이러한 분류 기준에 따라 생존함수의 차이가 있는지 검정하였다."
   ]
  },
  {
   "cell_type": "markdown",
   "metadata": {},
   "source": [
    "### 3. 피험자를 고려해야 하는 필요성"
   ]
  },
  {
   "cell_type": "markdown",
   "metadata": {},
   "source": [
    "+ 피험자마다 censoring 횟수가 다름\n",
    "\n",
    "+ Simpson's paradox"
   ]
  },
  {
   "cell_type": "markdown",
   "metadata": {},
   "source": [
    "## 생존함수의 추정 : 피험자별"
   ]
  },
  {
   "cell_type": "markdown",
   "metadata": {},
   "source": [
    "### 1. Non-parametric"
   ]
  },
  {
   "cell_type": "markdown",
   "metadata": {},
   "source": [
    "+ 제안 : Hazard vs. Survival Curve를 비교해볼 것 (일부 극단적인 피험자들)"
   ]
  },
  {
   "cell_type": "markdown",
   "metadata": {},
   "source": [
    "![](../EyeTracking_data/Figures/survPart.png)"
   ]
  },
  {
   "cell_type": "markdown",
   "metadata": {},
   "source": [
    "#### Summary statistics "
   ]
  },
  {
   "cell_type": "markdown",
   "metadata": {},
   "source": [
    "Subject|# Censored|Median survival time(KM)|Var|Median survival time(NA)|Var\n",
    "-|-|-|-|-|-\n",
    "\n"
   ]
  },
  {
   "cell_type": "markdown",
   "metadata": {},
   "source": [
    "### 2. Parametric"
   ]
  },
  {
   "cell_type": "markdown",
   "metadata": {},
   "source": []
  },
  {
   "cell_type": "markdown",
   "metadata": {},
   "source": [
    "## 가설 = 얼굴 부위별 비교"
   ]
  },
  {
   "cell_type": "markdown",
   "metadata": {},
   "source": [
    "**본 보고서에서는 ** "
   ]
  },
  {
   "cell_type": "markdown",
   "metadata": {},
   "source": [
    "+ 기타 부위에 비해 눈, 코의 생존 시간은 다를 것이다.\n",
    "\n",
    "+ Contrast 만들어서 검정\n",
    "\n",
    "$$\n",
    "C^T \\beta \\sim Normal()\n",
    "$$"
   ]
  },
  {
   "cell_type": "markdown",
   "metadata": {},
   "source": [
    "### 1. Log Rank Test\n",
    "\n",
    "시선이 머무르는 시간은 어떤 부위인지에 따라 다를 수 있다. (k-variable)\n",
    "\n",
    "+ two sided-test임을 언급할 것\n",
    "+ one sided-test도 같이 할 것"
   ]
  },
  {
   "cell_type": "markdown",
   "metadata": {},
   "source": [
    "변수|추정값|표준 오차|Wald Chi Square | p-value\n",
    "-|-|-|-|-\n",
    "Intercept|1|1|1|1"
   ]
  },
  {
   "cell_type": "markdown",
   "metadata": {},
   "source": [
    "나중에 Simpson's paradox 발생함을 보여줄 예정"
   ]
  },
  {
   "cell_type": "markdown",
   "metadata": {},
   "source": [
    "![](../EyeTracking_data/Figures/LogRankRank.png)"
   ]
  },
  {
   "cell_type": "markdown",
   "metadata": {},
   "source": [
    "## 각 변수에 따른 생존함수 : 피험자별"
   ]
  },
  {
   "cell_type": "markdown",
   "metadata": {},
   "source": [
    "parametric(연하게) + nonparametric(진하게) + 각 그룹별로 (legend 포함)"
   ]
  },
  {
   "cell_type": "markdown",
   "metadata": {},
   "source": [
    "한 눈에 안 들어온다.. + 좀 더 길쭉하게"
   ]
  },
  {
   "cell_type": "markdown",
   "metadata": {},
   "source": [
    "Median + SD, parametric까지 포함"
   ]
  },
  {
   "cell_type": "markdown",
   "metadata": {},
   "source": [
    "![](../EyeTracking_data/Figures/PartGroup.png)"
   ]
  },
  {
   "cell_type": "markdown",
   "metadata": {},
   "source": [
    "#### Summary Statistics"
   ]
  },
  {
   "cell_type": "markdown",
   "metadata": {},
   "source": [
    "Subject|Median survival time(KM)|Var|Median survival time(NA)|Var\n",
    "-|-|-|-|-\n"
   ]
  },
  {
   "cell_type": "markdown",
   "metadata": {},
   "source": [
    "### 1. Log Rank Test : 피험자별\n",
    "\n",
    "시선이 머무르는 시간은 어떤 부위인지에 따라 다를 수 있다. (k-variable)\n",
    "\n",
    "효율적인 제시 방법을 생각해볼 것"
   ]
  },
  {
   "cell_type": "markdown",
   "metadata": {},
   "source": [
    "## 회귀분석"
   ]
  },
  {
   "cell_type": "markdown",
   "metadata": {},
   "source": [
    "**둘 사이의 장단점 비교**를 꼭 추가할 것"
   ]
  },
  {
   "cell_type": "markdown",
   "metadata": {},
   "source": [
    "### 1. AFT model"
   ]
  },
  {
   "cell_type": "markdown",
   "metadata": {},
   "source": [
    "**AFT**\n",
    "\n",
    "$$\n",
    "\\log X = \\mu + \\gamma^T Z + \\sigma W\n",
    "$$"
   ]
  },
  {
   "cell_type": "markdown",
   "metadata": {},
   "source": [
    "+ AFT의 특수한 해석방법을 인지할 것"
   ]
  },
  {
   "cell_type": "markdown",
   "metadata": {},
   "source": [
    "+ Wald statistic 계산하기"
   ]
  },
  {
   "cell_type": "markdown",
   "metadata": {},
   "source": [
    "### 2. Cox Proportional Hazard Model"
   ]
  },
  {
   "cell_type": "markdown",
   "metadata": {},
   "source": [
    "+ Intercept를 추정할 수는 없음. (상수배)\n",
    "\n",
    "+ Proportional 가정이 성립하지 않음 : time-varying model로 고려했다.\n",
    "\n",
    "$$\n",
    "Y = \\exp (\\beta_0 x) exp(\\beta x + W) ??\n",
    "$$"
   ]
  },
  {
   "cell_type": "markdown",
   "metadata": {},
   "source": [
    "![](../EyeTracking_data/Figures/hazParti.png)"
   ]
  },
  {
   "cell_type": "markdown",
   "metadata": {},
   "source": [
    "## 응용 : Importance Map"
   ]
  },
  {
   "cell_type": "markdown",
   "metadata": {},
   "source": [
    "#### 이론적 배경\n",
    "\n",
    "기존에는 빈도에 기반한 분석은 salience map을 도출\n",
    "\n",
    "+ 첫 시선과 같은 순서를 고려하지 않고 독립적인 샘플로 가정\n",
    "+ 우연히 어떤 곳을 봤지만 금방 흥미가 떨어지는 경우 -> variability가 높은 방식"
   ]
  },
  {
   "cell_type": "markdown",
   "metadata": {},
   "source": [
    "### 1. Parametric model을 이용한 Mapping"
   ]
  },
  {
   "cell_type": "markdown",
   "metadata": {},
   "source": [
    "**Exponential & Weibull**"
   ]
  },
  {
   "cell_type": "markdown",
   "metadata": {},
   "source": [
    "Censoring을 고려하지 않고 그냥 찍어보면 bias가 생길 수 있음."
   ]
  },
  {
   "cell_type": "markdown",
   "metadata": {},
   "source": [
    "<img src=\"../EyeTracking_data/Figures/expImport.png\" width=\"400\">\n",
    "<img src=\"../EyeTracking_data/Figures/weibImport.png\" width=\"400\">"
   ]
  },
  {
   "cell_type": "markdown",
   "metadata": {},
   "source": [
    "+ 반드시 cmap : color bar 추가할 것! : **smoothing 과정** (sigma 의미까지!)도 설명할 것\n",
    "+ Frequency Heatmap과의 차이!\n",
    "+ **관측치가 없는 경우와 혼동을 줄 수 있음을 언급할 것!**\n",
    "+ **중심 좌표**를 기준으로"
   ]
  },
  {
   "cell_type": "markdown",
   "metadata": {},
   "source": [
    "## 결론"
   ]
  },
  {
   "cell_type": "markdown",
   "metadata": {},
   "source": [
    "본 데이터는 관측치가 전체 인구로부터 랜덤 추출된 개별 피험자들에 따라 clustering되어 있으므로, 가장 robust한 방법은 mixed-effects model이다(**Reference**). "
   ]
  },
  {
   "cell_type": "markdown",
   "metadata": {},
   "source": [
    "본 방법은 only to the sample and not to the population"
   ]
  },
  {
   "cell_type": "markdown",
   "metadata": {},
   "source": [
    "### 1."
   ]
  },
  {
   "cell_type": "markdown",
   "metadata": {},
   "source": [
    "### 2. 시사점 및 한계\n",
    "\n",
    "하지만 본 데이터에서 피험자의 왼손잡이 여부가 확인되지 않으므로, 이를 검증할 수 없었다는 한계가 있다. \n",
    "\n",
    "Time-varying covariate을 사용하는 것 : 기존 연구의 한계점도 지적할 것!"
   ]
  },
  {
   "cell_type": "markdown",
   "metadata": {},
   "source": [
    "### 3. How to go actionable?"
   ]
  },
  {
   "cell_type": "markdown",
   "metadata": {},
   "source": [
    "본 프로젝트에서는 얼굴 부위별로 얼마나 시선의 지속 시간이 다른지를 생존분석을 통해 살펴보고, 이를 이용해 얼굴의 상대적인 중요성을 보여주는 결과를 도출하였다."
   ]
  },
  {
   "cell_type": "markdown",
   "metadata": {},
   "source": [
    "+ **광고**에서의 활용 : 모델의 눈과 가까운 부위에 핵심적인 정보를 둘 수 있다. \n",
    "+ **몽타주**에서의 활용 : \n",
    "+ **인간-로봇 상호작용**(HRI)에서의 활용 : "
   ]
  },
  {
   "cell_type": "markdown",
   "metadata": {},
   "source": [
    "CoxPH model이 의미적으로\n",
    "\n",
    "CoxPH model은 parametric이므로, assumption이 적음. \n",
    "\n",
    "Parametric 모형에서 더 robust한 결과를 낸다. "
   ]
  },
  {
   "cell_type": "markdown",
   "metadata": {},
   "source": [
    "Conditional hazard가 5배 높다는 것"
   ]
  }
 ],
 "metadata": {
  "kernelspec": {
   "display_name": "R",
   "language": "R",
   "name": "ir"
  },
  "language_info": {
   "codemirror_mode": "r",
   "file_extension": ".r",
   "mimetype": "text/x-r-source",
   "name": "R",
   "pygments_lexer": "r",
   "version": "3.4.3"
  }
 },
 "nbformat": 4,
 "nbformat_minor": 2
}
