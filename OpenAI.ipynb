{
 "cells": [
  {
   "cell_type": "code",
   "execution_count": 9,
   "metadata": {},
   "outputs": [
    {
     "name": "stdout",
     "output_type": "stream",
     "text": [
      "2019-02-03 11:22:47,722 - root - INFO - BananaEnv - Version 0.1.0\n"
     ]
    }
   ],
   "source": [
    "import gym\n",
    "import gym_banana\n",
    "import spinup\n",
    "import tensorflow as tf\n",
    "\n",
    "env = gym.make('Banana-v0')"
   ]
  },
  {
   "cell_type": "code",
   "execution_count": 12,
   "metadata": {},
   "outputs": [],
   "source": [
    "from spinup.utils.run_utils import ExperimentGrid\n",
    "from spinup import ppo\n",
    "eg = ExperimentGrid(name='ppo-bench')\n",
    "eg.add('env_name', 'Banana-v0', '', True)"
   ]
  },
  {
   "cell_type": "code",
   "execution_count": 18,
   "metadata": {},
   "outputs": [
    {
     "name": "stderr",
     "output_type": "stream",
     "text": [
      "Launching in...:                                                       | ? 00:00"
     ]
    },
    {
     "name": "stdout",
     "output_type": "stream",
     "text": [
      "================================================================================\n",
      "\u001b[32;1mExperimentGrid [ppo-bench] runs over parameters:\n",
      "\u001b[0m\n",
      " \u001b[36;1menv_name                                \u001b[0m [] \n",
      "\n",
      "\tBanana-v0\n",
      "\n",
      " \u001b[36;1mepochs                                  \u001b[0m [epo] \n",
      "\n",
      "\t10\n",
      "\n",
      " \u001b[36;1msteps_per_epoch                         \u001b[0m [ste] \n",
      "\n",
      "\t1000\n",
      "\n",
      " \u001b[36;1mac_kwargs:hidden_sizes                  \u001b[0m [hid] \n",
      "\n",
      "\t(32,)\n",
      "\t(64, 64)\n",
      "\n",
      " \u001b[36;1mac_kwargs:activation                    \u001b[0m [] \n",
      "\n",
      "\ttanh\n",
      "\trelu\n",
      "\n",
      " \u001b[36;1mepochs                                  \u001b[0m [epo] \n",
      "\n",
      "\t10\n",
      "\n",
      " \u001b[36;1msteps_per_epoch                         \u001b[0m [ste] \n",
      "\n",
      "\t1000\n",
      "\n",
      " \u001b[36;1mac_kwargs:hidden_sizes                  \u001b[0m [hid] \n",
      "\n",
      "\t(32,)\n",
      "\t(64, 64)\n",
      "\n",
      " \u001b[36;1mac_kwargs:activation                    \u001b[0m [] \n",
      "\n",
      "\ttanh\n",
      "\trelu\n",
      "\n",
      " Variants, counting seeds:               16\n",
      " Variants, not counting seeds:           16\n",
      "\n",
      "================================================================================\n",
      "\n",
      "\u001b[32;1mPreparing to run the following experiments...\u001b[0m\n",
      "\n",
      "ppo-bench_banana-v0_hid32_relu_hid32_relu\n",
      "ppo-bench_banana-v0_hid32_tanh_hid32_tanh\n",
      "ppo-bench_banana-v0_hid64-64_relu_hid64-64_relu\n",
      "ppo-bench_banana-v0_hid64-64_tanh_hid64-64_tanh\n",
      "\n",
      "================================================================================\n",
      "\u001b[36;1m\n",
      "Launch delayed to give you a few seconds to review your experiments.\n",
      "\n",
      "To customize or disable this behavior, change WAIT_BEFORE_LAUNCH in\n",
      "spinup/user_config.py.\n",
      "\n",
      "\u001b[0m================================================================================\n"
     ]
    },
    {
     "name": "stderr",
     "output_type": "stream",
     "text": []
    },
    {
     "name": "stdout",
     "output_type": "stream",
     "text": [
      "\u001b[36;1mRunning experiment:\n",
      "\u001b[0m\n",
      "ppo-bench_banana-v0_hid32_tanh_hid32_tanh\n",
      "\n",
      "\u001b[36;1mwith kwargs:\n",
      "\u001b[0m\n",
      "{\n",
      "    \"ac_kwargs\":\t{\n",
      "        \"activation\":\t\"tanh\",\n",
      "        \"hidden_sizes\":\t[\n",
      "            32\n",
      "        ]\n",
      "    },\n",
      "    \"env_name\":\t\"Banana-v0\",\n",
      "    \"epochs\":\t10,\n",
      "    \"seed\":\t0,\n",
      "    \"steps_per_epoch\":\t1000\n",
      "}\n",
      "\n",
      "\n",
      "\n",
      "\n",
      "\n",
      "================================================================================\n",
      "\n",
      "\n",
      "There appears to have been an error in your experiment.\n",
      "\n",
      "Check the traceback above to see what actually went wrong. The \n",
      "traceback below, included for completeness (but probably not useful\n",
      "for diagnosing the error), shows the stack leading up to the \n",
      "experiment launch.\n",
      "\n",
      "================================================================================\n",
      "\n",
      "\n",
      "\n"
     ]
    },
    {
     "ename": "CalledProcessError",
     "evalue": "Command '['/Users/hyunwoogu/anaconda3/bin/python', '/Users/hyunwoogu/Packages/spinningup/spinup/utils/run_entrypoint.py', 'eJyNUk1v0zAYdppuywrbEEMgdkBIXLrD2gkEp7EDlbhETGjAEVlu7HwQxzax3VGkSZPGtk6yuMxw4Q/yM3jT7otbYyV538d+P57Xz1H716s2mj7uUcKlpapISs56t2zvVnFacI5TKxJTSOEvfDdHbg1XpGRYl2y2BTCgK3hoC24Kgc1YMcBcNJCUfWycE7/vuzGarjBeH7ylwaRVLtbbtEURR+fg0eAxOkdn6CxIWzSk7R8RYAs7qNl5jUwwCY+DAE3aKSA/waLoA/LdPRcxMcKCVMzHKF++KtKCIp1J8AVN0HEAB/dOvGs3XUMrm263/0mzWvfzsRUHUma2/54kJcmY7mtVCFGIzKqpCT9rCq77tRV4avXUGJjtcFINKdn18Z8B8vkdF2bjyp/6TQNM3cuEwNTYN8XqomLC9Ha4BEjv9kxuRYkVt/oGu87lFhsuqfDG5+suqlSBU1mXTdr8nuvcxPr492AVtaKgWfeDxTAKIbg8IHWmvVsStsKJst4tTEP8GTSYr5/6prc4PAR/3x/6rlvKuBxCC+DkG+7hjG9vxrIpbqSEzXzjwmsXUZYSy432e65Ni8RAkFusJLWNTv6PvZ4VCAjkpG3N8Ihwy7T/7LtQGea1/IYIWFuj7Ya2kkkOrDpuTRumNIbB4Sno3/0N3TJJ8CW5pu27eUEpE1gX3yFj/BSutkNAnyMy1ah7YpjQsk65PIDLMrkUPamAETE5BgOEYIjIQaDWtTVjFITjVrjMMih6q0xHWqOswbSovTuaSzGUGNJXSm4NmUhyPLyiiKHjF89xU/aWOf9JrGFKEehpJnS3OXektzYO3IPL6yE8kyBgJZvXu7D5Xnjmoq+W8FnqZ3NI11uz3/sHCAuRpA==']' returned non-zero exit status 1.",
     "output_type": "error",
     "traceback": [
      "\u001b[0;31m---------------------------------------------------------------------------\u001b[0m",
      "\u001b[0;31mCalledProcessError\u001b[0m                        Traceback (most recent call last)",
      "\u001b[0;32m<ipython-input-18-c504b684f8db>\u001b[0m in \u001b[0;36m<module>\u001b[0;34m()\u001b[0m\n\u001b[1;32m      3\u001b[0m \u001b[0meg\u001b[0m\u001b[0;34m.\u001b[0m\u001b[0madd\u001b[0m\u001b[0;34m(\u001b[0m\u001b[0;34m'ac_kwargs:hidden_sizes'\u001b[0m\u001b[0;34m,\u001b[0m \u001b[0;34m[\u001b[0m\u001b[0;34m(\u001b[0m\u001b[0;36m32\u001b[0m\u001b[0;34m,\u001b[0m\u001b[0;34m)\u001b[0m\u001b[0;34m,\u001b[0m \u001b[0;34m(\u001b[0m\u001b[0;36m64\u001b[0m\u001b[0;34m,\u001b[0m\u001b[0;36m64\u001b[0m\u001b[0;34m)\u001b[0m\u001b[0;34m]\u001b[0m\u001b[0;34m,\u001b[0m \u001b[0;34m'hid'\u001b[0m\u001b[0;34m)\u001b[0m\u001b[0;34m\u001b[0m\u001b[0;34m\u001b[0m\u001b[0m\n\u001b[1;32m      4\u001b[0m \u001b[0meg\u001b[0m\u001b[0;34m.\u001b[0m\u001b[0madd\u001b[0m\u001b[0;34m(\u001b[0m\u001b[0;34m'ac_kwargs:activation'\u001b[0m\u001b[0;34m,\u001b[0m \u001b[0;34m[\u001b[0m\u001b[0mtf\u001b[0m\u001b[0;34m.\u001b[0m\u001b[0mtanh\u001b[0m\u001b[0;34m,\u001b[0m \u001b[0mtf\u001b[0m\u001b[0;34m.\u001b[0m\u001b[0mnn\u001b[0m\u001b[0;34m.\u001b[0m\u001b[0mrelu\u001b[0m\u001b[0;34m]\u001b[0m\u001b[0;34m,\u001b[0m \u001b[0;34m''\u001b[0m\u001b[0;34m)\u001b[0m\u001b[0;34m\u001b[0m\u001b[0;34m\u001b[0m\u001b[0m\n\u001b[0;32m----> 5\u001b[0;31m \u001b[0meg\u001b[0m\u001b[0;34m.\u001b[0m\u001b[0mrun\u001b[0m\u001b[0;34m(\u001b[0m\u001b[0mppo\u001b[0m\u001b[0;34m)\u001b[0m\u001b[0;34m\u001b[0m\u001b[0;34m\u001b[0m\u001b[0m\n\u001b[0m",
      "\u001b[0;32m~/Packages/spinningup/spinup/utils/run_utils.py\u001b[0m in \u001b[0;36mrun\u001b[0;34m(self, thunk, num_cpu, data_dir, datestamp)\u001b[0m\n\u001b[1;32m    544\u001b[0m \u001b[0;34m\u001b[0m\u001b[0m\n\u001b[1;32m    545\u001b[0m             call_experiment(exp_name, thunk_, num_cpu=num_cpu, \n\u001b[0;32m--> 546\u001b[0;31m                             data_dir=data_dir, datestamp=datestamp, **var)\n\u001b[0m\u001b[1;32m    547\u001b[0m \u001b[0;34m\u001b[0m\u001b[0m\n\u001b[1;32m    548\u001b[0m \u001b[0;34m\u001b[0m\u001b[0m\n",
      "\u001b[0;32m~/Packages/spinningup/spinup/utils/run_utils.py\u001b[0m in \u001b[0;36mcall_experiment\u001b[0;34m(exp_name, thunk, seed, num_cpu, data_dir, datestamp, **kwargs)\u001b[0m\n\u001b[1;32m    169\u001b[0m     \u001b[0mcmd\u001b[0m \u001b[0;34m=\u001b[0m \u001b[0;34m[\u001b[0m\u001b[0msys\u001b[0m\u001b[0;34m.\u001b[0m\u001b[0mexecutable\u001b[0m \u001b[0;32mif\u001b[0m \u001b[0msys\u001b[0m\u001b[0;34m.\u001b[0m\u001b[0mexecutable\u001b[0m \u001b[0;32melse\u001b[0m \u001b[0;34m'python'\u001b[0m\u001b[0;34m,\u001b[0m \u001b[0mentrypoint\u001b[0m\u001b[0;34m,\u001b[0m \u001b[0mencoded_thunk\u001b[0m\u001b[0;34m]\u001b[0m\u001b[0;34m\u001b[0m\u001b[0;34m\u001b[0m\u001b[0m\n\u001b[1;32m    170\u001b[0m     \u001b[0;32mtry\u001b[0m\u001b[0;34m:\u001b[0m\u001b[0;34m\u001b[0m\u001b[0;34m\u001b[0m\u001b[0m\n\u001b[0;32m--> 171\u001b[0;31m         \u001b[0msubprocess\u001b[0m\u001b[0;34m.\u001b[0m\u001b[0mcheck_call\u001b[0m\u001b[0;34m(\u001b[0m\u001b[0mcmd\u001b[0m\u001b[0;34m,\u001b[0m \u001b[0menv\u001b[0m\u001b[0;34m=\u001b[0m\u001b[0mos\u001b[0m\u001b[0;34m.\u001b[0m\u001b[0menviron\u001b[0m\u001b[0;34m)\u001b[0m\u001b[0;34m\u001b[0m\u001b[0;34m\u001b[0m\u001b[0m\n\u001b[0m\u001b[1;32m    172\u001b[0m     \u001b[0;32mexcept\u001b[0m \u001b[0mCalledProcessError\u001b[0m\u001b[0;34m:\u001b[0m\u001b[0;34m\u001b[0m\u001b[0;34m\u001b[0m\u001b[0m\n\u001b[1;32m    173\u001b[0m         err_msg = '\\n'*3 + '='*DIV_LINE_WIDTH + '\\n' + dedent(\"\"\"\n",
      "\u001b[0;32m~/anaconda3/lib/python3.6/subprocess.py\u001b[0m in \u001b[0;36mcheck_call\u001b[0;34m(*popenargs, **kwargs)\u001b[0m\n\u001b[1;32m    309\u001b[0m         \u001b[0;32mif\u001b[0m \u001b[0mcmd\u001b[0m \u001b[0;32mis\u001b[0m \u001b[0;32mNone\u001b[0m\u001b[0;34m:\u001b[0m\u001b[0;34m\u001b[0m\u001b[0;34m\u001b[0m\u001b[0m\n\u001b[1;32m    310\u001b[0m             \u001b[0mcmd\u001b[0m \u001b[0;34m=\u001b[0m \u001b[0mpopenargs\u001b[0m\u001b[0;34m[\u001b[0m\u001b[0;36m0\u001b[0m\u001b[0;34m]\u001b[0m\u001b[0;34m\u001b[0m\u001b[0;34m\u001b[0m\u001b[0m\n\u001b[0;32m--> 311\u001b[0;31m         \u001b[0;32mraise\u001b[0m \u001b[0mCalledProcessError\u001b[0m\u001b[0;34m(\u001b[0m\u001b[0mretcode\u001b[0m\u001b[0;34m,\u001b[0m \u001b[0mcmd\u001b[0m\u001b[0;34m)\u001b[0m\u001b[0;34m\u001b[0m\u001b[0;34m\u001b[0m\u001b[0m\n\u001b[0m\u001b[1;32m    312\u001b[0m     \u001b[0;32mreturn\u001b[0m \u001b[0;36m0\u001b[0m\u001b[0;34m\u001b[0m\u001b[0;34m\u001b[0m\u001b[0m\n\u001b[1;32m    313\u001b[0m \u001b[0;34m\u001b[0m\u001b[0m\n",
      "\u001b[0;31mCalledProcessError\u001b[0m: Command '['/Users/hyunwoogu/anaconda3/bin/python', '/Users/hyunwoogu/Packages/spinningup/spinup/utils/run_entrypoint.py', 'eJyNUk1v0zAYdppuywrbEEMgdkBIXLrD2gkEp7EDlbhETGjAEVlu7HwQxzax3VGkSZPGtk6yuMxw4Q/yM3jT7otbYyV538d+P57Xz1H716s2mj7uUcKlpapISs56t2zvVnFacI5TKxJTSOEvfDdHbg1XpGRYl2y2BTCgK3hoC24Kgc1YMcBcNJCUfWycE7/vuzGarjBeH7ylwaRVLtbbtEURR+fg0eAxOkdn6CxIWzSk7R8RYAs7qNl5jUwwCY+DAE3aKSA/waLoA/LdPRcxMcKCVMzHKF++KtKCIp1J8AVN0HEAB/dOvGs3XUMrm263/0mzWvfzsRUHUma2/54kJcmY7mtVCFGIzKqpCT9rCq77tRV4avXUGJjtcFINKdn18Z8B8vkdF2bjyp/6TQNM3cuEwNTYN8XqomLC9Ha4BEjv9kxuRYkVt/oGu87lFhsuqfDG5+suqlSBU1mXTdr8nuvcxPr492AVtaKgWfeDxTAKIbg8IHWmvVsStsKJst4tTEP8GTSYr5/6prc4PAR/3x/6rlvKuBxCC+DkG+7hjG9vxrIpbqSEzXzjwmsXUZYSy432e65Ni8RAkFusJLWNTv6PvZ4VCAjkpG3N8Ihwy7T/7LtQGea1/IYIWFuj7Ya2kkkOrDpuTRumNIbB4Sno3/0N3TJJ8CW5pu27eUEpE1gX3yFj/BSutkNAnyMy1ah7YpjQsk65PIDLMrkUPamAETE5BgOEYIjIQaDWtTVjFITjVrjMMih6q0xHWqOswbSovTuaSzGUGNJXSm4NmUhyPLyiiKHjF89xU/aWOf9JrGFKEehpJnS3OXektzYO3IPL6yE8kyBgJZvXu7D5Xnjmoq+W8FnqZ3NI11uz3/sHCAuRpA==']' returned non-zero exit status 1."
     ]
    }
   ],
   "source": [
    "eg.add('epochs', 10)\n",
    "eg.add('steps_per_epoch', 1000)\n",
    "eg.add('ac_kwargs:hidden_sizes', [(32,), (64,64)], 'hid')\n",
    "eg.add('ac_kwargs:activation', [tf.tanh, tf.nn.relu], '')\n",
    "eg.run(ppo)"
   ]
  }
 ],
 "metadata": {
  "kernelspec": {
   "display_name": "Python [conda root]",
   "language": "python",
   "name": "conda-root-py"
  },
  "language_info": {
   "codemirror_mode": {
    "name": "ipython",
    "version": 3
   },
   "file_extension": ".py",
   "mimetype": "text/x-python",
   "name": "python",
   "nbconvert_exporter": "python",
   "pygments_lexer": "ipython3",
   "version": "3.6.8"
  }
 },
 "nbformat": 4,
 "nbformat_minor": 2
}
