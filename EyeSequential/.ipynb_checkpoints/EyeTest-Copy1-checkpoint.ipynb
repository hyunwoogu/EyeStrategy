{
 "cells": [
  {
   "cell_type": "code",
   "execution_count": 1,
   "metadata": {},
   "outputs": [
    {
     "name": "stderr",
     "output_type": "stream",
     "text": [
      "Using TensorFlow backend.\n"
     ]
    }
   ],
   "source": [
    "import os\n",
    "import h5py\n",
    "import cv2 # pip install opencv-python\n",
    "\n",
    "import scipy.ndimage as sp\n",
    "import pandas as pd\n",
    "import seaborn as sns\n",
    "import numpy as np\n",
    "import tensorflow as tf\n",
    "import random\n",
    "import pickle\n",
    "\n",
    "import matplotlib.pyplot as plt\n",
    "import matplotlib.patches as patches\n",
    "import matplotlib.cm as cm\n",
    "\n",
    "from PIL import Image\n",
    "from scipy.ndimage.filters import gaussian_filter\n",
    "\n",
    "from keras.models import Sequential, Model, model_from_json\n",
    "from keras.layers import Subtract, Input\n",
    "from keras.layers.core import Dense, Dropout, Activation, Flatten\n",
    "from keras.layers.convolutional import Conv1D, MaxPooling1D, Conv2D, MaxPooling2D\n",
    "from keras.optimizers import SGD, Adam, RMSprop\n",
    "from keras.utils import np_utils\n",
    "import keras.backend as K \n",
    "\n",
    "%matplotlib inline"
   ]
  },
  {
   "cell_type": "code",
   "execution_count": 2,
   "metadata": {},
   "outputs": [],
   "source": [
    "os.chdir('/Users/hyunwoogu/Dropbox/2019/2019Autumn/Graduation/ResearchGrant/experiment/stimuli')"
   ]
  },
  {
   "cell_type": "code",
   "execution_count": 3,
   "metadata": {},
   "outputs": [],
   "source": [
    "for i in range(32):\n",
    "    if i == 0:\n",
    "        img_list = cv2.imread(str(i+1) + \".png\", 1)\n",
    "        img_list = cv2.resize(img_list, (1600, 1200), interpolation=cv2.INTER_CUBIC)\n",
    "        img_list = img_list[np.newaxis,:,:,:]\n",
    "    else:\n",
    "        im = cv2.imread(str(i+1) + \".png\", 1)\n",
    "        im = cv2.resize(im, (1600, 1200), interpolation=cv2.INTER_CUBIC)\n",
    "        im = im[np.newaxis,:,:,:]\n",
    "        img_list = np.concatenate((img_list,im),axis=0)"
   ]
  },
  {
   "cell_type": "code",
   "execution_count": 4,
   "metadata": {},
   "outputs": [],
   "source": [
    "os.chdir(\"/Users/hyunwoogu/Dropbox/2019/2019Autumn/Graduation/ResearchGrant/EyeModelRes\")"
   ]
  },
  {
   "cell_type": "code",
   "execution_count": 5,
   "metadata": {},
   "outputs": [],
   "source": [
    "par = pickle.load(open(\"par.pkl\", 'rb')) # slightly modified parameter class from Masse"
   ]
  },
  {
   "cell_type": "code",
   "execution_count": 6,
   "metadata": {},
   "outputs": [],
   "source": [
    "import SeqTrial\n",
    "eyeTrial = SeqTrial.Eye(test_mode=True)"
   ]
  },
  {
   "cell_type": "code",
   "execution_count": 7,
   "metadata": {},
   "outputs": [],
   "source": [
    "par['noise_rnn'] = eyeTrial.noise_sd/10."
   ]
  },
  {
   "cell_type": "code",
   "execution_count": 8,
   "metadata": {},
   "outputs": [],
   "source": [
    "def initialize(dims, connection_prob, shape=0.1, scale=1.0):\n",
    "    w = np.random.gamma(shape, scale, size=dims)\n",
    "    w *= (np.random.rand(*dims) < connection_prob)\n",
    "    return np.float32(w)"
   ]
  },
  {
   "cell_type": "code",
   "execution_count": 9,
   "metadata": {},
   "outputs": [],
   "source": [
    "EI = np.ones(par['n_hidden'],dtype=np.float32)\n",
    "EI[80:] *= -1 # inhibitory\n",
    "RNNmask = 1-np.eye(par['n_hidden'],dtype=np.float32)\n",
    "RNNmask = RNNmask @ np.diag(EI)"
   ]
  },
  {
   "cell_type": "code",
   "execution_count": 10,
   "metadata": {},
   "outputs": [],
   "source": [
    "par['w_in0'] = initialize([eyeTrial.n_input, par['n_hidden']], par['connection_prob'], shape=0.2, scale=1.)\n",
    "\n",
    "# RNN weight\n",
    "par['w_rnn_mask'] = RNNmask\n",
    "\n",
    "# Initial weights\n",
    "par['w_out0']     = initialize([par['n_hidden'], 2], par['connection_prob'])\n",
    "par['b_out0']     = np.zeros((1, 2), dtype=np.float32)\n",
    "\n",
    "# Correction of initial values\n",
    "par['w_rnn0'] *= par['w_rnn_mask']"
   ]
  },
  {
   "cell_type": "code",
   "execution_count": 11,
   "metadata": {},
   "outputs": [],
   "source": [
    "par['w_in_mask'] = np.ones_like(par['w_in0'])\n",
    "par['w_out_mask'] = np.ones_like(par['w_out0'])"
   ]
  },
  {
   "cell_type": "code",
   "execution_count": 12,
   "metadata": {},
   "outputs": [],
   "source": [
    "def initialize_weights(par):\n",
    "    var_dict = {}\n",
    "    for k, v in par.items():\n",
    "        if k[-1] == '0':\n",
    "            name = k[:-1]\n",
    "            var_dict[name] = tf.Variable(par[k], name)\n",
    "    w_rnn = var_dict['w_rnn']\n",
    "    return var_dict, w_rnn"
   ]
  },
  {
   "cell_type": "code",
   "execution_count": 13,
   "metadata": {},
   "outputs": [],
   "source": [
    "def rnn_cell(rnn_input, h, var_dict, w_rnn):\n",
    "    # no STSP\n",
    "    h_post = h\n",
    "\n",
    "    # Update the hidden state. Only use excitatory projections from input layer to RNN\n",
    "    # All input and RNN activity will be non-negative\n",
    "    h = tf.nn.relu(h * (1-par['alpha_neuron'])\n",
    "        + par['alpha_neuron'] * (rnn_input @ tf.nn.relu(var_dict['w_in'])\n",
    "        + h_post @ (w_rnn*par['w_rnn_mask']) + var_dict['b_rnn'])\n",
    "        + tf.random_normal(h.shape, 0, par['noise_rnn'], dtype=tf.float32))\n",
    "\n",
    "    return h"
   ]
  },
  {
   "cell_type": "code",
   "execution_count": 14,
   "metadata": {},
   "outputs": [],
   "source": [
    "def run_model(var_dict, w_rnn, input_data):\n",
    "    # Main model loop\n",
    "    h = []\n",
    "    y = []\n",
    "    h_ = var_dict['h']\n",
    "\n",
    "    # Loop through the neural inputs to the RNN, indexed in time\n",
    "    for i in range(len(input_data)):\n",
    "        h_ = rnn_cell(input_data[i], h_, var_dict, w_rnn)\n",
    "        h.append(h_)\n",
    "        y.append(h_ @ tf.nn.relu(var_dict['w_out']) + var_dict['b_out'])\n",
    "        \n",
    "    h = tf.stack(h)\n",
    "    y = tf.stack(y)\n",
    "\n",
    "    return h, y"
   ]
  },
  {
   "cell_type": "code",
   "execution_count": 15,
   "metadata": {},
   "outputs": [],
   "source": [
    "del par['w_out_dm0']\n",
    "del par['b_out_dm0']\n",
    "del par['w_out_estim0']\n",
    "del par['b_out_estim0']"
   ]
  },
  {
   "cell_type": "code",
   "execution_count": 16,
   "metadata": {},
   "outputs": [],
   "source": [
    "def optimize(mask,y,target, w_rnn,h):\n",
    "\n",
    "    # Calculate the loss functions and optimize the weights\n",
    "    perf_loss = tf.reduce_mean(mask*tf.nn.softmax_cross_entropy_with_logits_v2(logits = y, labels = target, axis = 2))\n",
    "    \n",
    "    # L2 penalty term on hidden state activity to encourage low spike rate solutions\n",
    "    n = 2 if par['spike_regularization'] == 'L2' else 1\n",
    "    spike_loss = tf.reduce_mean(h**n)\n",
    "    weight_loss = tf.reduce_mean(tf.nn.relu(w_rnn)**n)\n",
    "\n",
    "    # Total loss\n",
    "    loss = 10000.*perf_loss + par['spike_cost']*spike_loss + par['weight_cost']*weight_loss\n",
    "    opt = tf.train.AdamOptimizer(learning_rate = par['learning_rate'])\n",
    "    grads_and_vars = opt.compute_gradients(loss)\n",
    "\n",
    "    # Apply any applicable weights masks to the gradient and clip\n",
    "    capped_gvs = []\n",
    "    for grad, var in grads_and_vars:\n",
    "        if 'w_rnn' in var.op.name:\n",
    "            grad *= par['w_rnn_mask']\n",
    "        elif 'w_out' in var.op.name:\n",
    "            grad *= par['w_out_mask']\n",
    "        elif 'w_in' in var.op.name:\n",
    "            grad *= par['w_in_mask']\n",
    "        capped_gvs.append((tf.clip_by_norm(grad, par['clip_max_grad_val']), var))\n",
    "\n",
    "    train_op = opt.apply_gradients(capped_gvs)\n",
    "\n",
    "    return(perf_loss, spike_loss, weight_loss, loss, train_op)"
   ]
  },
  {
   "cell_type": "code",
   "execution_count": 17,
   "metadata": {},
   "outputs": [],
   "source": [
    "def get_accuracy(target, output):\n",
    "    # Calculate argmax along the last dimension\n",
    "    target_max = np.argmax(target, axis = 2)\n",
    "    output_max = np.argmax(output, axis = 2)\n",
    "    # Calculate 2D \"average\" of match between target_max & output_max \n",
    "    accuracy = np.sum(np.float32(target_max == output_max))/np.sum(np.ones(output_max.shape))\n",
    "    return accuracy\n",
    "\n",
    "def append_model_performance(model_performance, accuracy, loss, perf_loss, spike_loss, weight_loss, iteration):\n",
    "    model_performance['accuracy'].append(accuracy)\n",
    "    model_performance['loss'].append(loss)\n",
    "    model_performance['perf_loss'].append(perf_loss)\n",
    "    model_performance['spike_loss'].append(spike_loss)\n",
    "    model_performance['weight_loss'].append(weight_loss)\n",
    "    model_performance['iteration'].append(iteration)\n",
    "    return model_performance\n",
    "\n",
    "def print_results(iter_num, perf_loss, spike_loss, weight_loss, h, accuracy):\n",
    "    print(par['trial_type'] + ' Iter. {:4d}'.format(iter_num) + ' | Accuracy {:0.4f}'.format(accuracy) +\n",
    "      ' | perf loss {:0.4f}'.format(perf_loss) + ' | Spike loss {:0.4f}'.format(spike_loss) +\n",
    "      ' | Weight loss {:0.4f}'.format(weight_loss) + ' | Mean activity {:0.4f}'.format(np.mean(h)))"
   ]
  },
  {
   "cell_type": "code",
   "execution_count": 18,
   "metadata": {},
   "outputs": [],
   "source": [
    "tf.reset_default_graph()  # reset graphs in background"
   ]
  },
  {
   "cell_type": "code",
   "execution_count": 19,
   "metadata": {},
   "outputs": [],
   "source": [
    "# Masks specific to the task\n",
    "mask = np.zeros([eyeTrial.numSteps, eyeTrial.batchSize])\n",
    "# mask[eyeTrial.rg_test,:] = 1.\n",
    "mask[:,:] = 1."
   ]
  },
  {
   "cell_type": "code",
   "execution_count": 20,
   "metadata": {},
   "outputs": [],
   "source": [
    "# Define placeholders\n",
    "x = tf.placeholder(tf.float32, [eyeTrial.numSteps, eyeTrial.batchSize,eyeTrial.n_input], 'input')\n",
    "m = tf.placeholder(tf.float32, [eyeTrial.numSteps, eyeTrial.batchSize], 'mask')\n",
    "t = tf.placeholder(tf.float32, [eyeTrial.numSteps, eyeTrial.batchSize,2], 'target')\n",
    "\n",
    "input_data  = tf.unstack(x, axis=0)\n",
    "target_data = t"
   ]
  },
  {
   "cell_type": "code",
   "execution_count": 21,
   "metadata": {},
   "outputs": [
    {
     "data": {
      "text/plain": [
       "['input', 'mask', 'target', 'unstack']"
      ]
     },
     "execution_count": 21,
     "metadata": {},
     "output_type": "execute_result"
    }
   ],
   "source": [
    "[n.name for n in tf.get_default_graph().as_graph_def().node]"
   ]
  },
  {
   "cell_type": "code",
   "execution_count": 22,
   "metadata": {},
   "outputs": [],
   "source": [
    "var_dict, w_rnn = initialize_weights(par)"
   ]
  },
  {
   "cell_type": "code",
   "execution_count": 23,
   "metadata": {},
   "outputs": [
    {
     "data": {
      "text/plain": [
       "{'h': <tf.Variable 'Variable:0' shape=(1, 100) dtype=float32_ref>,\n",
       " 'w_in': <tf.Variable 'Variable_1:0' shape=(34, 100) dtype=float32_ref>,\n",
       " 'w_rnn': <tf.Variable 'Variable_2:0' shape=(100, 100) dtype=float32_ref>,\n",
       " 'b_rnn': <tf.Variable 'Variable_3:0' shape=(1, 100) dtype=float32_ref>,\n",
       " 'w_out': <tf.Variable 'Variable_4:0' shape=(100, 2) dtype=float32_ref>,\n",
       " 'b_out': <tf.Variable 'Variable_5:0' shape=(1, 2) dtype=float32_ref>}"
      ]
     },
     "execution_count": 23,
     "metadata": {},
     "output_type": "execute_result"
    }
   ],
   "source": [
    "var_dict"
   ]
  },
  {
   "cell_type": "code",
   "execution_count": 24,
   "metadata": {},
   "outputs": [
    {
     "name": "stdout",
     "output_type": "stream",
     "text": [
      "WARNING:tensorflow:From /Users/hyunwoogu/anaconda3/lib/python3.7/site-packages/tensorflow/python/ops/math_grad.py:1205: add_dispatch_support.<locals>.wrapper (from tensorflow.python.ops.array_ops) is deprecated and will be removed in a future version.\n",
      "Instructions for updating:\n",
      "Use tf.where in 2.0, which has the same broadcast rule as np.where\n"
     ]
    }
   ],
   "source": [
    "h, y = run_model(var_dict, w_rnn, input_data)\n",
    "perf_loss, spike_loss, weight_loss, loss, train_op = optimize(m,y,t,w_rnn,h)"
   ]
  },
  {
   "cell_type": "code",
   "execution_count": 25,
   "metadata": {},
   "outputs": [],
   "source": [
    "model_performance = {'accuracy': [], 'perf_loss': [], 'loss': [],'spike_loss': [], 'weight_loss': [], 'iteration': []}\n",
    "par['iters_between_outputs'] = 50"
   ]
  },
  {
   "cell_type": "code",
   "execution_count": 26,
   "metadata": {},
   "outputs": [
    {
     "data": {
      "text/plain": [
       "{'h': <tf.Variable 'Variable:0' shape=(1, 100) dtype=float32_ref>,\n",
       " 'w_in': <tf.Variable 'Variable_1:0' shape=(34, 100) dtype=float32_ref>,\n",
       " 'w_rnn': <tf.Variable 'Variable_2:0' shape=(100, 100) dtype=float32_ref>,\n",
       " 'b_rnn': <tf.Variable 'Variable_3:0' shape=(1, 100) dtype=float32_ref>,\n",
       " 'w_out': <tf.Variable 'Variable_4:0' shape=(100, 2) dtype=float32_ref>,\n",
       " 'b_out': <tf.Variable 'Variable_5:0' shape=(1, 2) dtype=float32_ref>}"
      ]
     },
     "execution_count": 26,
     "metadata": {},
     "output_type": "execute_result"
    }
   ],
   "source": [
    "var_dict"
   ]
  },
  {
   "cell_type": "code",
   "execution_count": 27,
   "metadata": {},
   "outputs": [],
   "source": [
    "# load json and create model\n",
    "json_file = open('model.json', 'r')\n",
    "loaded_model_json = json_file.read()\n",
    "json_file.close()"
   ]
  },
  {
   "cell_type": "code",
   "execution_count": 28,
   "metadata": {},
   "outputs": [],
   "source": [
    "par['num_iterations'] = 500"
   ]
  },
  {
   "cell_type": "code",
   "execution_count": 29,
   "metadata": {
    "collapsed": true,
    "jupyter": {
     "outputs_hidden": true
    }
   },
   "outputs": [
    {
     "name": "stdout",
     "output_type": "stream",
     "text": [
      "WARNING:tensorflow:From /Users/hyunwoogu/anaconda3/lib/python3.7/site-packages/keras/backend/tensorflow_backend.py:4070: The name tf.nn.max_pool is deprecated. Please use tf.nn.max_pool2d instead.\n",
      "\n",
      "WARNING:tensorflow:From /Users/hyunwoogu/anaconda3/lib/python3.7/site-packages/keras/backend/tensorflow_backend.py:422: The name tf.global_variables is deprecated. Please use tf.compat.v1.global_variables instead.\n",
      "\n",
      "WARNING:tensorflow:From /Users/hyunwoogu/anaconda3/lib/python3.7/site-packages/keras/backend/tensorflow_backend.py:431: The name tf.is_variable_initialized is deprecated. Please use tf.compat.v1.is_variable_initialized instead.\n",
      "\n",
      "DMS Iter.    0 | Accuracy 0.4928 | perf loss 0.9091 | Spike loss 6.4218 | Weight loss 0.0002 | Mean activity 1.4766\n",
      "DMS Iter.    1 | Accuracy 0.5029 | perf loss 1.4281 | Spike loss 0.3522 | Weight loss 0.0002 | Mean activity 0.2528\n",
      "DMS Iter.    2 | Accuracy 0.5006 | perf loss 0.6323 | Spike loss 0.1475 | Weight loss 0.0003 | Mean activity 0.1413\n",
      "DMS Iter.    3 | Accuracy 0.4849 | perf loss 0.3995 | Spike loss 0.1098 | Weight loss 0.0004 | Mean activity 0.1072\n",
      "DMS Iter.    4 | Accuracy 0.4748 | perf loss 0.4343 | Spike loss 0.0968 | Weight loss 0.0007 | Mean activity 0.0943\n",
      "DMS Iter.    5 | Accuracy 0.5203 | perf loss 0.4286 | Spike loss 0.0934 | Weight loss 0.0009 | Mean activity 0.0892\n",
      "DMS Iter.    6 | Accuracy 0.4834 | perf loss 0.3459 | Spike loss 0.0977 | Weight loss 0.0011 | Mean activity 0.0899\n",
      "DMS Iter.    7 | Accuracy 0.4822 | perf loss 0.3394 | Spike loss 0.1047 | Weight loss 0.0014 | Mean activity 0.0938\n",
      "DMS Iter.    8 | Accuracy 0.5192 | perf loss 0.3169 | Spike loss 0.1276 | Weight loss 0.0017 | Mean activity 0.1058\n",
      "DMS Iter.    9 | Accuracy 0.5102 | perf loss 0.3093 | Spike loss 0.1770 | Weight loss 0.0020 | Mean activity 0.1289\n",
      "DMS Iter.   10 | Accuracy 0.5113 | perf loss 0.2812 | Spike loss 0.3293 | Weight loss 0.0024 | Mean activity 0.1801\n",
      "DMS Iter.   11 | Accuracy 0.4556 | perf loss 0.2786 | Spike loss 1.0459 | Weight loss 0.0027 | Mean activity 0.3201\n",
      "DMS Iter.   12 | Accuracy 0.4943 | perf loss 0.2775 | Spike loss 6.5042 | Weight loss 0.0031 | Mean activity 0.7409\n",
      "DMS Iter.   13 | Accuracy 0.5000 | perf loss 0.2773 | Spike loss 109.0187 | Weight loss 0.0035 | Mean activity 2.6113\n",
      "DMS Iter.   14 | Accuracy 0.5000 | perf loss 0.2773 | Spike loss 4498.4702 | Weight loss 0.0039 | Mean activity 14.1611\n",
      "DMS Iter.   15 | Accuracy 0.5000 | perf loss 0.2773 | Spike loss 15365.9629 | Weight loss 0.0042 | Mean activity 24.9678\n",
      "DMS Iter.   16 | Accuracy 0.5000 | perf loss 0.2773 | Spike loss 11443.0293 | Weight loss 0.0045 | Mean activity 21.6052\n",
      "DMS Iter.   17 | Accuracy 0.5000 | perf loss 0.2773 | Spike loss 3456.5344 | Weight loss 0.0048 | Mean activity 12.3431\n",
      "DMS Iter.   18 | Accuracy 0.5000 | perf loss 0.2773 | Spike loss 719.6585 | Weight loss 0.0050 | Mean activity 6.0414\n",
      "DMS Iter.   19 | Accuracy 0.5000 | perf loss 0.2773 | Spike loss 108.0531 | Weight loss 0.0052 | Mean activity 2.5735\n",
      "DMS Iter.   20 | Accuracy 0.5000 | perf loss 0.2773 | Spike loss 20.6998 | Weight loss 0.0054 | Mean activity 1.2375\n",
      "DMS Iter.   21 | Accuracy 0.5000 | perf loss 0.2773 | Spike loss 8.7371 | Weight loss 0.0056 | Mean activity 0.8465\n",
      "DMS Iter.   22 | Accuracy 0.5000 | perf loss 0.2773 | Spike loss 6.8399 | Weight loss 0.0058 | Mean activity 0.7659\n",
      "DMS Iter.   23 | Accuracy 0.5000 | perf loss 0.2773 | Spike loss 8.0770 | Weight loss 0.0060 | Mean activity 0.8337\n",
      "DMS Iter.   24 | Accuracy 0.5000 | perf loss 0.2773 | Spike loss 14.5958 | Weight loss 0.0062 | Mean activity 1.1023\n",
      "DMS Iter.   25 | Accuracy 0.5000 | perf loss 0.2773 | Spike loss 24.5559 | Weight loss 0.0064 | Mean activity 1.4112\n",
      "DMS Iter.   26 | Accuracy 0.5000 | perf loss 0.2773 | Spike loss 15.7688 | Weight loss 0.0066 | Mean activity 1.1756\n",
      "DMS Iter.   27 | Accuracy 0.5000 | perf loss 0.2773 | Spike loss 4.9331 | Weight loss 0.0067 | Mean activity 0.7125\n",
      "DMS Iter.   28 | Accuracy 0.5000 | perf loss 0.2773 | Spike loss 1.7352 | Weight loss 0.0069 | Mean activity 0.4458\n",
      "DMS Iter.   29 | Accuracy 0.5000 | perf loss 0.2773 | Spike loss 0.6930 | Weight loss 0.0070 | Mean activity 0.2840\n",
      "DMS Iter.   30 | Accuracy 0.5000 | perf loss 0.2773 | Spike loss 0.3649 | Weight loss 0.0072 | Mean activity 0.2019\n",
      "DMS Iter.   31 | Accuracy 0.4921 | perf loss 0.2773 | Spike loss 0.2355 | Weight loss 0.0073 | Mean activity 0.1583\n",
      "DMS Iter.   32 | Accuracy 0.4825 | perf loss 0.2776 | Spike loss 0.1989 | Weight loss 0.0074 | Mean activity 0.1433\n",
      "DMS Iter.   33 | Accuracy 0.5061 | perf loss 0.2774 | Spike loss 0.1885 | Weight loss 0.0076 | Mean activity 0.1381\n",
      "DMS Iter.   34 | Accuracy 0.5013 | perf loss 0.2773 | Spike loss 0.1882 | Weight loss 0.0077 | Mean activity 0.1374\n",
      "DMS Iter.   35 | Accuracy 0.5025 | perf loss 0.2772 | Spike loss 0.2034 | Weight loss 0.0078 | Mean activity 0.1423\n",
      "DMS Iter.   36 | Accuracy 0.4997 | perf loss 0.2772 | Spike loss 0.1994 | Weight loss 0.0079 | Mean activity 0.1409\n",
      "DMS Iter.   37 | Accuracy 0.5112 | perf loss 0.2770 | Spike loss 0.1873 | Weight loss 0.0080 | Mean activity 0.1357\n",
      "DMS Iter.   38 | Accuracy 0.4987 | perf loss 0.2770 | Spike loss 0.1816 | Weight loss 0.0080 | Mean activity 0.1334\n",
      "DMS Iter.   39 | Accuracy 0.5102 | perf loss 0.2778 | Spike loss 0.1785 | Weight loss 0.0081 | Mean activity 0.1327\n",
      "DMS Iter.   40 | Accuracy 0.4995 | perf loss 0.2759 | Spike loss 0.1954 | Weight loss 0.0082 | Mean activity 0.1398\n",
      "DMS Iter.   41 | Accuracy 0.5216 | perf loss 0.2757 | Spike loss 0.2261 | Weight loss 0.0082 | Mean activity 0.1516\n",
      "DMS Iter.   42 | Accuracy 0.5054 | perf loss 0.2755 | Spike loss 0.2327 | Weight loss 0.0083 | Mean activity 0.1538\n",
      "DMS Iter.   43 | Accuracy 0.5316 | perf loss 0.2745 | Spike loss 0.2121 | Weight loss 0.0084 | Mean activity 0.1456\n",
      "DMS Iter.   44 | Accuracy 0.5052 | perf loss 0.2760 | Spike loss 0.1969 | Weight loss 0.0084 | Mean activity 0.1386\n",
      "DMS Iter.   45 | Accuracy 0.5083 | perf loss 0.2763 | Spike loss 0.2166 | Weight loss 0.0085 | Mean activity 0.1442\n",
      "DMS Iter.   46 | Accuracy 0.5138 | perf loss 0.2760 | Spike loss 0.3397 | Weight loss 0.0086 | Mean activity 0.1779\n",
      "DMS Iter.   47 | Accuracy 0.5449 | perf loss 0.2741 | Spike loss 0.3979 | Weight loss 0.0086 | Mean activity 0.1884\n",
      "DMS Iter.   48 | Accuracy 0.5488 | perf loss 0.2727 | Spike loss 0.3408 | Weight loss 0.0087 | Mean activity 0.1740\n",
      "DMS Iter.   49 | Accuracy 0.5060 | perf loss 0.2742 | Spike loss 0.2397 | Weight loss 0.0087 | Mean activity 0.1449\n",
      "DMS Iter.   50 | Accuracy 0.4930 | perf loss 0.2730 | Spike loss 0.2522 | Weight loss 0.0087 | Mean activity 0.1456\n",
      "DMS Iter.   51 | Accuracy 0.5817 | perf loss 0.2662 | Spike loss 0.3559 | Weight loss 0.0088 | Mean activity 0.1725\n",
      "DMS Iter.   52 | Accuracy 0.5806 | perf loss 0.2651 | Spike loss 0.7607 | Weight loss 0.0089 | Mean activity 0.2372\n",
      "DMS Iter.   53 | Accuracy 0.5630 | perf loss 0.2655 | Spike loss 0.8737 | Weight loss 0.0089 | Mean activity 0.2494\n",
      "DMS Iter.   54 | Accuracy 0.6040 | perf loss 0.2583 | Spike loss 0.6132 | Weight loss 0.0090 | Mean activity 0.2048\n",
      "DMS Iter.   55 | Accuracy 0.5635 | perf loss 0.2685 | Spike loss 0.2644 | Weight loss 0.0091 | Mean activity 0.1300\n",
      "DMS Iter.   56 | Accuracy 0.5613 | perf loss 0.2756 | Spike loss 0.2482 | Weight loss 0.0091 | Mean activity 0.1209\n",
      "DMS Iter.   57 | Accuracy 0.6215 | perf loss 0.2540 | Spike loss 0.3151 | Weight loss 0.0092 | Mean activity 0.1381\n",
      "DMS Iter.   58 | Accuracy 0.6361 | perf loss 0.2407 | Spike loss 0.5801 | Weight loss 0.0093 | Mean activity 0.1842\n",
      "DMS Iter.   59 | Accuracy 0.6395 | perf loss 0.2416 | Spike loss 1.3335 | Weight loss 0.0094 | Mean activity 0.2710\n",
      "DMS Iter.   60 | Accuracy 0.6096 | perf loss 0.2411 | Spike loss 1.9316 | Weight loss 0.0095 | Mean activity 0.3201\n",
      "DMS Iter.   61 | Accuracy 0.6226 | perf loss 0.2395 | Spike loss 1.9092 | Weight loss 0.0095 | Mean activity 0.3181\n",
      "DMS Iter.   62 | Accuracy 0.6349 | perf loss 0.2311 | Spike loss 1.2080 | Weight loss 0.0096 | Mean activity 0.2544\n",
      "DMS Iter.   63 | Accuracy 0.6623 | perf loss 0.2155 | Spike loss 0.7077 | Weight loss 0.0097 | Mean activity 0.2080\n",
      "DMS Iter.   64 | Accuracy 0.6287 | perf loss 0.2249 | Spike loss 0.5118 | Weight loss 0.0098 | Mean activity 0.1891\n",
      "DMS Iter.   65 | Accuracy 0.6701 | perf loss 0.2158 | Spike loss 1.1314 | Weight loss 0.0099 | Mean activity 0.2649\n",
      "DMS Iter.   66 | Accuracy 0.6558 | perf loss 0.2110 | Spike loss 1.1768 | Weight loss 0.0100 | Mean activity 0.2695\n",
      "DMS Iter.   67 | Accuracy 0.6737 | perf loss 0.2166 | Spike loss 0.7925 | Weight loss 0.0101 | Mean activity 0.2217\n",
      "DMS Iter.   68 | Accuracy 0.6629 | perf loss 0.2154 | Spike loss 0.9291 | Weight loss 0.0102 | Mean activity 0.2407\n",
      "DMS Iter.   69 | Accuracy 0.6792 | perf loss 0.2068 | Spike loss 1.5477 | Weight loss 0.0104 | Mean activity 0.2933\n",
      "DMS Iter.   70 | Accuracy 0.6644 | perf loss 0.2045 | Spike loss 2.6125 | Weight loss 0.0105 | Mean activity 0.3672\n",
      "DMS Iter.   71 | Accuracy 0.6749 | perf loss 0.2032 | Spike loss 2.2774 | Weight loss 0.0106 | Mean activity 0.3477\n",
      "DMS Iter.   72 | Accuracy 0.6914 | perf loss 0.1916 | Spike loss 1.2715 | Weight loss 0.0107 | Mean activity 0.2705\n",
      "DMS Iter.   73 | Accuracy 0.7124 | perf loss 0.1869 | Spike loss 0.9208 | Weight loss 0.0109 | Mean activity 0.2371\n",
      "DMS Iter.   74 | Accuracy 0.6762 | perf loss 0.1953 | Spike loss 1.1820 | Weight loss 0.0110 | Mean activity 0.2699\n",
      "DMS Iter.   75 | Accuracy 0.6687 | perf loss 0.1922 | Spike loss 1.2400 | Weight loss 0.0112 | Mean activity 0.2731\n",
      "DMS Iter.   76 | Accuracy 0.6755 | perf loss 0.1937 | Spike loss 1.0198 | Weight loss 0.0113 | Mean activity 0.2502\n",
      "DMS Iter.   77 | Accuracy 0.6826 | perf loss 0.1822 | Spike loss 1.5792 | Weight loss 0.0114 | Mean activity 0.2974\n",
      "DMS Iter.   78 | Accuracy 0.6899 | perf loss 0.1768 | Spike loss 1.3237 | Weight loss 0.0116 | Mean activity 0.2719\n",
      "DMS Iter.   79 | Accuracy 0.6446 | perf loss 0.2075 | Spike loss 0.9348 | Weight loss 0.0117 | Mean activity 0.2344\n",
      "DMS Iter.   80 | Accuracy 0.6428 | perf loss 0.1909 | Spike loss 0.9952 | Weight loss 0.0118 | Mean activity 0.2380\n",
      "DMS Iter.   81 | Accuracy 0.6733 | perf loss 0.1914 | Spike loss 1.8260 | Weight loss 0.0120 | Mean activity 0.3190\n",
      "DMS Iter.   82 | Accuracy 0.7013 | perf loss 0.1725 | Spike loss 2.4256 | Weight loss 0.0121 | Mean activity 0.3450\n",
      "DMS Iter.   83 | Accuracy 0.6889 | perf loss 0.2081 | Spike loss 2.1514 | Weight loss 0.0122 | Mean activity 0.3243\n",
      "DMS Iter.   84 | Accuracy 0.6611 | perf loss 0.2047 | Spike loss 2.4469 | Weight loss 0.0123 | Mean activity 0.3536\n",
      "DMS Iter.   85 | Accuracy 0.6672 | perf loss 0.1870 | Spike loss 3.1743 | Weight loss 0.0124 | Mean activity 0.3911\n",
      "DMS Iter.   86 | Accuracy 0.6817 | perf loss 0.1943 | Spike loss 4.7827 | Weight loss 0.0125 | Mean activity 0.4661\n",
      "DMS Iter.   87 | Accuracy 0.6138 | perf loss 0.2295 | Spike loss 8.7647 | Weight loss 0.0126 | Mean activity 0.6333\n",
      "DMS Iter.   88 | Accuracy 0.5573 | perf loss 0.2557 | Spike loss 11.6138 | Weight loss 0.0126 | Mean activity 0.7390\n",
      "DMS Iter.   89 | Accuracy 0.5874 | perf loss 0.2381 | Spike loss 9.3055 | Weight loss 0.0127 | Mean activity 0.6514\n",
      "DMS Iter.   90 | Accuracy 0.6044 | perf loss 0.2208 | Spike loss 5.8581 | Weight loss 0.0128 | Mean activity 0.5252\n",
      "DMS Iter.   91 | Accuracy 0.6638 | perf loss 0.2031 | Spike loss 2.9437 | Weight loss 0.0128 | Mean activity 0.3940\n",
      "DMS Iter.   92 | Accuracy 0.6614 | perf loss 0.2694 | Spike loss 0.7963 | Weight loss 0.0129 | Mean activity 0.2177\n",
      "DMS Iter.   93 | Accuracy 0.6214 | perf loss 0.4561 | Spike loss 0.6377 | Weight loss 0.0130 | Mean activity 0.1912\n",
      "DMS Iter.   94 | Accuracy 0.6384 | perf loss 0.3150 | Spike loss 0.7799 | Weight loss 0.0130 | Mean activity 0.2057\n",
      "DMS Iter.   95 | Accuracy 0.6741 | perf loss 0.2135 | Spike loss 1.5339 | Weight loss 0.0130 | Mean activity 0.2669\n",
      "DMS Iter.   96 | Accuracy 0.6888 | perf loss 0.1901 | Spike loss 4.6585 | Weight loss 0.0131 | Mean activity 0.4199\n",
      "DMS Iter.   97 | Accuracy 0.6502 | perf loss 0.1959 | Spike loss 16.9691 | Weight loss 0.0131 | Mean activity 0.7404\n",
      "DMS Iter.   98 | Accuracy 0.6391 | perf loss 0.2077 | Spike loss 29.4647 | Weight loss 0.0131 | Mean activity 0.9403\n",
      "DMS Iter.   99 | Accuracy 0.6342 | perf loss 0.2107 | Spike loss 38.7734 | Weight loss 0.0132 | Mean activity 1.0729\n",
      "DMS Iter.  100 | Accuracy 0.6455 | perf loss 0.1940 | Spike loss 31.5905 | Weight loss 0.0132 | Mean activity 0.9475\n",
      "DMS Iter.  101 | Accuracy 0.6631 | perf loss 0.1977 | Spike loss 15.7542 | Weight loss 0.0132 | Mean activity 0.7027\n",
      "DMS Iter.  102 | Accuracy 0.6749 | perf loss 0.1950 | Spike loss 11.0721 | Weight loss 0.0133 | Mean activity 0.6023\n",
      "DMS Iter.  103 | Accuracy 0.6672 | perf loss 0.1897 | Spike loss 12.1779 | Weight loss 0.0134 | Mean activity 0.6315\n",
      "DMS Iter.  104 | Accuracy 0.6868 | perf loss 0.1832 | Spike loss 10.0638 | Weight loss 0.0135 | Mean activity 0.5772\n",
      "DMS Iter.  105 | Accuracy 0.6786 | perf loss 0.1830 | Spike loss 5.3887 | Weight loss 0.0136 | Mean activity 0.4531\n",
      "DMS Iter.  106 | Accuracy 0.6995 | perf loss 0.1856 | Spike loss 1.5396 | Weight loss 0.0137 | Mean activity 0.2749\n",
      "DMS Iter.  107 | Accuracy 0.6418 | perf loss 0.2111 | Spike loss 1.0084 | Weight loss 0.0138 | Mean activity 0.2346\n",
      "DMS Iter.  108 | Accuracy 0.6650 | perf loss 0.2188 | Spike loss 0.9971 | Weight loss 0.0139 | Mean activity 0.2316\n",
      "DMS Iter.  109 | Accuracy 0.6864 | perf loss 0.1874 | Spike loss 1.6513 | Weight loss 0.0140 | Mean activity 0.2861\n",
      "DMS Iter.  110 | Accuracy 0.6584 | perf loss 0.1963 | Spike loss 3.9470 | Weight loss 0.0141 | Mean activity 0.4138\n",
      "DMS Iter.  111 | Accuracy 0.6912 | perf loss 0.1911 | Spike loss 5.5002 | Weight loss 0.0143 | Mean activity 0.4631\n",
      "DMS Iter.  112 | Accuracy 0.6698 | perf loss 0.1857 | Spike loss 4.9495 | Weight loss 0.0144 | Mean activity 0.4434\n",
      "DMS Iter.  113 | Accuracy 0.6787 | perf loss 0.1919 | Spike loss 2.6087 | Weight loss 0.0145 | Mean activity 0.3520\n",
      "DMS Iter.  114 | Accuracy 0.6798 | perf loss 0.1820 | Spike loss 1.4893 | Weight loss 0.0147 | Mean activity 0.2846\n",
      "DMS Iter.  115 | Accuracy 0.6698 | perf loss 0.1903 | Spike loss 1.6531 | Weight loss 0.0148 | Mean activity 0.2888\n",
      "DMS Iter.  116 | Accuracy 0.6710 | perf loss 0.1874 | Spike loss 2.4827 | Weight loss 0.0150 | Mean activity 0.3332\n",
      "DMS Iter.  117 | Accuracy 0.6599 | perf loss 0.1901 | Spike loss 2.0874 | Weight loss 0.0151 | Mean activity 0.3090\n",
      "DMS Iter.  118 | Accuracy 0.6838 | perf loss 0.1822 | Spike loss 1.5429 | Weight loss 0.0153 | Mean activity 0.2694\n",
      "DMS Iter.  119 | Accuracy 0.6853 | perf loss 0.1986 | Spike loss 1.1324 | Weight loss 0.0154 | Mean activity 0.2371\n",
      "DMS Iter.  120 | Accuracy 0.6728 | perf loss 0.1948 | Spike loss 1.0820 | Weight loss 0.0156 | Mean activity 0.2361\n",
      "DMS Iter.  121 | Accuracy 0.6967 | perf loss 0.1761 | Spike loss 1.3215 | Weight loss 0.0157 | Mean activity 0.2498\n",
      "DMS Iter.  122 | Accuracy 0.7041 | perf loss 0.1782 | Spike loss 1.5455 | Weight loss 0.0158 | Mean activity 0.2668\n",
      "DMS Iter.  123 | Accuracy 0.6778 | perf loss 0.1856 | Spike loss 1.4298 | Weight loss 0.0160 | Mean activity 0.2609\n",
      "DMS Iter.  124 | Accuracy 0.6961 | perf loss 0.1957 | Spike loss 1.1445 | Weight loss 0.0162 | Mean activity 0.2360\n",
      "DMS Iter.  125 | Accuracy 0.6808 | perf loss 0.1843 | Spike loss 1.3543 | Weight loss 0.0164 | Mean activity 0.2562\n",
      "DMS Iter.  126 | Accuracy 0.6921 | perf loss 0.1812 | Spike loss 1.4655 | Weight loss 0.0166 | Mean activity 0.2637\n",
      "DMS Iter.  127 | Accuracy 0.6912 | perf loss 0.1815 | Spike loss 1.6148 | Weight loss 0.0168 | Mean activity 0.2779\n",
      "DMS Iter.  128 | Accuracy 0.6885 | perf loss 0.1765 | Spike loss 1.2246 | Weight loss 0.0171 | Mean activity 0.2440\n",
      "DMS Iter.  129 | Accuracy 0.6901 | perf loss 0.2843 | Spike loss 0.8475 | Weight loss 0.0173 | Mean activity 0.1995\n",
      "DMS Iter.  130 | Accuracy 0.6491 | perf loss 0.3453 | Spike loss 0.7899 | Weight loss 0.0176 | Mean activity 0.1929\n",
      "DMS Iter.  131 | Accuracy 0.6780 | perf loss 0.2375 | Spike loss 0.9548 | Weight loss 0.0178 | Mean activity 0.2107\n",
      "DMS Iter.  132 | Accuracy 0.7201 | perf loss 0.1696 | Spike loss 1.4095 | Weight loss 0.0180 | Mean activity 0.2521\n",
      "DMS Iter.  133 | Accuracy 0.6809 | perf loss 0.1814 | Spike loss 3.5640 | Weight loss 0.0183 | Mean activity 0.3856\n",
      "DMS Iter.  134 | Accuracy 0.6766 | perf loss 0.1800 | Spike loss 7.5477 | Weight loss 0.0185 | Mean activity 0.5155\n",
      "DMS Iter.  135 | Accuracy 0.6930 | perf loss 0.2009 | Spike loss 10.9255 | Weight loss 0.0187 | Mean activity 0.5834\n",
      "DMS Iter.  136 | Accuracy 0.6960 | perf loss 0.1790 | Spike loss 16.9395 | Weight loss 0.0190 | Mean activity 0.7078\n",
      "DMS Iter.  137 | Accuracy 0.6915 | perf loss 0.1917 | Spike loss 14.3821 | Weight loss 0.0191 | Mean activity 0.6440\n",
      "DMS Iter.  138 | Accuracy 0.6939 | perf loss 0.1741 | Spike loss 13.8046 | Weight loss 0.0192 | Mean activity 0.6364\n",
      "DMS Iter.  139 | Accuracy 0.7306 | perf loss 0.1584 | Spike loss 8.1340 | Weight loss 0.0193 | Mean activity 0.4933\n",
      "DMS Iter.  140 | Accuracy 0.6751 | perf loss 0.1818 | Spike loss 6.5328 | Weight loss 0.0194 | Mean activity 0.4601\n",
      "DMS Iter.  141 | Accuracy 0.6947 | perf loss 0.1825 | Spike loss 8.1814 | Weight loss 0.0195 | Mean activity 0.5071\n",
      "DMS Iter.  142 | Accuracy 0.7105 | perf loss 0.1706 | Spike loss 7.9754 | Weight loss 0.0196 | Mean activity 0.4987\n",
      "DMS Iter.  143 | Accuracy 0.7168 | perf loss 0.1747 | Spike loss 7.6778 | Weight loss 0.0198 | Mean activity 0.4940\n",
      "DMS Iter.  144 | Accuracy 0.6746 | perf loss 0.1781 | Spike loss 15.6119 | Weight loss 0.0200 | Mean activity 0.6631\n",
      "DMS Iter.  145 | Accuracy 0.6943 | perf loss 0.1740 | Spike loss 18.4816 | Weight loss 0.0202 | Mean activity 0.7064\n",
      "DMS Iter.  146 | Accuracy 0.6991 | perf loss 0.1740 | Spike loss 16.2313 | Weight loss 0.0204 | Mean activity 0.6632\n",
      "DMS Iter.  147 | Accuracy 0.6984 | perf loss 0.1759 | Spike loss 23.5407 | Weight loss 0.0206 | Mean activity 0.7893\n",
      "DMS Iter.  148 | Accuracy 0.6902 | perf loss 0.1645 | Spike loss 15.2581 | Weight loss 0.0209 | Mean activity 0.6452\n",
      "DMS Iter.  149 | Accuracy 0.6876 | perf loss 0.3092 | Spike loss 5.4543 | Weight loss 0.0211 | Mean activity 0.4280\n",
      "DMS Iter.  150 | Accuracy 0.7064 | perf loss 0.2547 | Spike loss 4.5625 | Weight loss 0.0213 | Mean activity 0.4118\n",
      "DMS Iter.  151 | Accuracy 0.7155 | perf loss 0.1869 | Spike loss 7.1718 | Weight loss 0.0215 | Mean activity 0.4701\n",
      "DMS Iter.  152 | Accuracy 0.6911 | perf loss 0.1711 | Spike loss 18.9922 | Weight loss 0.0216 | Mean activity 0.7124\n",
      "DMS Iter.  153 | Accuracy 0.6798 | perf loss 0.1776 | Spike loss 36.5683 | Weight loss 0.0218 | Mean activity 0.9555\n",
      "DMS Iter.  154 | Accuracy 0.6992 | perf loss 0.1716 | Spike loss 39.1027 | Weight loss 0.0219 | Mean activity 0.9628\n",
      "DMS Iter.  155 | Accuracy 0.7115 | perf loss 0.1631 | Spike loss 25.1195 | Weight loss 0.0220 | Mean activity 0.7777\n",
      "DMS Iter.  156 | Accuracy 0.7195 | perf loss 0.1610 | Spike loss 13.5455 | Weight loss 0.0223 | Mean activity 0.6024\n",
      "DMS Iter.  157 | Accuracy 0.6804 | perf loss 0.1846 | Spike loss 9.3207 | Weight loss 0.0226 | Mean activity 0.5520\n",
      "DMS Iter.  158 | Accuracy 0.7209 | perf loss 0.1662 | Spike loss 8.3556 | Weight loss 0.0229 | Mean activity 0.5157\n",
      "DMS Iter.  159 | Accuracy 0.6956 | perf loss 0.1758 | Spike loss 7.9775 | Weight loss 0.0233 | Mean activity 0.5271\n",
      "DMS Iter.  160 | Accuracy 0.7248 | perf loss 0.1697 | Spike loss 5.0844 | Weight loss 0.0237 | Mean activity 0.4367\n",
      "DMS Iter.  161 | Accuracy 0.6763 | perf loss 0.1752 | Spike loss 5.2693 | Weight loss 0.0240 | Mean activity 0.4593\n",
      "DMS Iter.  162 | Accuracy 0.7214 | perf loss 0.1626 | Spike loss 4.4966 | Weight loss 0.0243 | Mean activity 0.4301\n",
      "DMS Iter.  163 | Accuracy 0.7172 | perf loss 0.1633 | Spike loss 6.4310 | Weight loss 0.0247 | Mean activity 0.4972\n",
      "DMS Iter.  164 | Accuracy 0.7185 | perf loss 0.1656 | Spike loss 7.1728 | Weight loss 0.0250 | Mean activity 0.5170\n",
      "DMS Iter.  165 | Accuracy 0.6916 | perf loss 0.1711 | Spike loss 11.2059 | Weight loss 0.0254 | Mean activity 0.6383\n",
      "DMS Iter.  166 | Accuracy 0.7034 | perf loss 0.1662 | Spike loss 10.5202 | Weight loss 0.0257 | Mean activity 0.6275\n",
      "DMS Iter.  167 | Accuracy 0.7319 | perf loss 0.1542 | Spike loss 7.3970 | Weight loss 0.0261 | Mean activity 0.5439\n",
      "DMS Iter.  168 | Accuracy 0.6938 | perf loss 0.1743 | Spike loss 4.5655 | Weight loss 0.0265 | Mean activity 0.4481\n",
      "DMS Iter.  169 | Accuracy 0.7245 | perf loss 0.3356 | Spike loss 4.4529 | Weight loss 0.0268 | Mean activity 0.4301\n",
      "DMS Iter.  170 | Accuracy 0.6887 | perf loss 0.1848 | Spike loss 4.6073 | Weight loss 0.0271 | Mean activity 0.4518\n",
      "DMS Iter.  171 | Accuracy 0.6976 | perf loss 0.1691 | Spike loss 6.1832 | Weight loss 0.0274 | Mean activity 0.5175\n",
      "DMS Iter.  172 | Accuracy 0.7044 | perf loss 0.1590 | Spike loss 7.5847 | Weight loss 0.0277 | Mean activity 0.5658\n",
      "DMS Iter.  173 | Accuracy 0.7104 | perf loss 0.1639 | Spike loss 6.7573 | Weight loss 0.0280 | Mean activity 0.5395\n",
      "DMS Iter.  174 | Accuracy 0.6978 | perf loss 0.1660 | Spike loss 5.2322 | Weight loss 0.0284 | Mean activity 0.4731\n",
      "DMS Iter.  175 | Accuracy 0.6849 | perf loss 0.1671 | Spike loss 4.2582 | Weight loss 0.0286 | Mean activity 0.4166\n",
      "DMS Iter.  176 | Accuracy 0.6837 | perf loss 0.5257 | Spike loss 3.6918 | Weight loss 0.0289 | Mean activity 0.3399\n",
      "DMS Iter.  177 | Accuracy 0.6759 | perf loss 1.0112 | Spike loss 2.4718 | Weight loss 0.0291 | Mean activity 0.3030\n",
      "DMS Iter.  178 | Accuracy 0.7028 | perf loss 0.5661 | Spike loss 2.0731 | Weight loss 0.0292 | Mean activity 0.3082\n",
      "DMS Iter.  179 | Accuracy 0.7188 | perf loss 0.2798 | Spike loss 3.0417 | Weight loss 0.0294 | Mean activity 0.3727\n",
      "DMS Iter.  180 | Accuracy 0.6961 | perf loss 0.2449 | Spike loss 7.8927 | Weight loss 0.0294 | Mean activity 0.5386\n",
      "DMS Iter.  181 | Accuracy 0.7045 | perf loss 0.2083 | Spike loss 16.3431 | Weight loss 0.0295 | Mean activity 0.7046\n",
      "DMS Iter.  182 | Accuracy 0.6921 | perf loss 0.1644 | Spike loss 36.3586 | Weight loss 0.0296 | Mean activity 0.9858\n",
      "DMS Iter.  183 | Accuracy 0.7032 | perf loss 0.1852 | Spike loss 45.2450 | Weight loss 0.0296 | Mean activity 1.0806\n",
      "DMS Iter.  184 | Accuracy 0.6927 | perf loss 0.1797 | Spike loss 51.3724 | Weight loss 0.0297 | Mean activity 1.1879\n",
      "DMS Iter.  185 | Accuracy 0.6938 | perf loss 0.1691 | Spike loss 27.0637 | Weight loss 0.0299 | Mean activity 0.8751\n",
      "DMS Iter.  186 | Accuracy 0.6969 | perf loss 0.1769 | Spike loss 14.8736 | Weight loss 0.0300 | Mean activity 0.6696\n",
      "DMS Iter.  187 | Accuracy 0.6846 | perf loss 0.1953 | Spike loss 11.2577 | Weight loss 0.0301 | Mean activity 0.6304\n",
      "DMS Iter.  188 | Accuracy 0.7001 | perf loss 0.1668 | Spike loss 6.8696 | Weight loss 0.0303 | Mean activity 0.5025\n",
      "DMS Iter.  189 | Accuracy 0.7124 | perf loss 0.1686 | Spike loss 5.0581 | Weight loss 0.0304 | Mean activity 0.4528\n",
      "DMS Iter.  190 | Accuracy 0.7020 | perf loss 0.1682 | Spike loss 2.9774 | Weight loss 0.0307 | Mean activity 0.3656\n",
      "DMS Iter.  191 | Accuracy 0.7007 | perf loss 0.1771 | Spike loss 1.7973 | Weight loss 0.0309 | Mean activity 0.2981\n",
      "DMS Iter.  192 | Accuracy 0.7026 | perf loss 0.1679 | Spike loss 1.9659 | Weight loss 0.0311 | Mean activity 0.3141\n",
      "DMS Iter.  193 | Accuracy 0.7050 | perf loss 0.2224 | Spike loss 1.4911 | Weight loss 0.0313 | Mean activity 0.2736\n",
      "DMS Iter.  194 | Accuracy 0.7263 | perf loss 0.1960 | Spike loss 1.7950 | Weight loss 0.0315 | Mean activity 0.2995\n",
      "DMS Iter.  195 | Accuracy 0.6968 | perf loss 0.1733 | Spike loss 2.5127 | Weight loss 0.0316 | Mean activity 0.3449\n",
      "DMS Iter.  196 | Accuracy 0.6754 | perf loss 0.1783 | Spike loss 4.4491 | Weight loss 0.0317 | Mean activity 0.4374\n",
      "DMS Iter.  197 | Accuracy 0.6867 | perf loss 0.1674 | Spike loss 6.6679 | Weight loss 0.0318 | Mean activity 0.5078\n",
      "DMS Iter.  198 | Accuracy 0.7118 | perf loss 0.1591 | Spike loss 7.7572 | Weight loss 0.0320 | Mean activity 0.5311\n",
      "DMS Iter.  199 | Accuracy 0.7083 | perf loss 0.1635 | Spike loss 6.6500 | Weight loss 0.0321 | Mean activity 0.5063\n",
      "DMS Iter.  200 | Accuracy 0.7255 | perf loss 0.1588 | Spike loss 5.4611 | Weight loss 0.0323 | Mean activity 0.4624\n",
      "DMS Iter.  201 | Accuracy 0.6948 | perf loss 0.1650 | Spike loss 5.0804 | Weight loss 0.0325 | Mean activity 0.4586\n",
      "DMS Iter.  202 | Accuracy 0.7028 | perf loss 0.1790 | Spike loss 3.5612 | Weight loss 0.0327 | Mean activity 0.3996\n",
      "DMS Iter.  203 | Accuracy 0.7045 | perf loss 0.1703 | Spike loss 3.0439 | Weight loss 0.0329 | Mean activity 0.3784\n",
      "DMS Iter.  204 | Accuracy 0.7184 | perf loss 0.1749 | Spike loss 1.9811 | Weight loss 0.0331 | Mean activity 0.3140\n",
      "DMS Iter.  205 | Accuracy 0.6805 | perf loss 0.1800 | Spike loss 1.6466 | Weight loss 0.0333 | Mean activity 0.2982\n",
      "DMS Iter.  206 | Accuracy 0.7068 | perf loss 0.1695 | Spike loss 2.0746 | Weight loss 0.0334 | Mean activity 0.3187\n",
      "DMS Iter.  207 | Accuracy 0.7045 | perf loss 0.1696 | Spike loss 2.6821 | Weight loss 0.0335 | Mean activity 0.3538\n",
      "DMS Iter.  208 | Accuracy 0.6926 | perf loss 0.1708 | Spike loss 3.1197 | Weight loss 0.0336 | Mean activity 0.3753\n",
      "DMS Iter.  209 | Accuracy 0.6829 | perf loss 0.1676 | Spike loss 2.5821 | Weight loss 0.0337 | Mean activity 0.3456\n",
      "DMS Iter.  210 | Accuracy 0.6788 | perf loss 0.1765 | Spike loss 1.8881 | Weight loss 0.0339 | Mean activity 0.3031\n",
      "DMS Iter.  211 | Accuracy 0.6807 | perf loss 0.1686 | Spike loss 1.8537 | Weight loss 0.0340 | Mean activity 0.2994\n",
      "DMS Iter.  212 | Accuracy 0.7005 | perf loss 0.1681 | Spike loss 1.7670 | Weight loss 0.0341 | Mean activity 0.2905\n",
      "DMS Iter.  213 | Accuracy 0.6967 | perf loss 0.1677 | Spike loss 2.2744 | Weight loss 0.0342 | Mean activity 0.3264\n",
      "DMS Iter.  214 | Accuracy 0.7105 | perf loss 0.1665 | Spike loss 2.0446 | Weight loss 0.0343 | Mean activity 0.3130\n",
      "DMS Iter.  215 | Accuracy 0.6948 | perf loss 0.1669 | Spike loss 1.5417 | Weight loss 0.0345 | Mean activity 0.2820\n",
      "DMS Iter.  216 | Accuracy 0.6811 | perf loss 0.1898 | Spike loss 0.8898 | Weight loss 0.0347 | Mean activity 0.2238\n",
      "DMS Iter.  217 | Accuracy 0.6905 | perf loss 0.2223 | Spike loss 0.8539 | Weight loss 0.0349 | Mean activity 0.2184\n",
      "DMS Iter.  218 | Accuracy 0.7133 | perf loss 0.1777 | Spike loss 1.1097 | Weight loss 0.0350 | Mean activity 0.2394\n",
      "DMS Iter.  219 | Accuracy 0.7047 | perf loss 0.1687 | Spike loss 1.9975 | Weight loss 0.0352 | Mean activity 0.3090\n",
      "DMS Iter.  220 | Accuracy 0.7089 | perf loss 0.1697 | Spike loss 4.5559 | Weight loss 0.0353 | Mean activity 0.4373\n",
      "DMS Iter.  221 | Accuracy 0.6947 | perf loss 0.1660 | Spike loss 10.0771 | Weight loss 0.0355 | Mean activity 0.5979\n",
      "DMS Iter.  222 | Accuracy 0.7001 | perf loss 0.1715 | Spike loss 15.1083 | Weight loss 0.0356 | Mean activity 0.7099\n",
      "DMS Iter.  223 | Accuracy 0.7064 | perf loss 0.1636 | Spike loss 15.1275 | Weight loss 0.0358 | Mean activity 0.6993\n",
      "DMS Iter.  224 | Accuracy 0.7225 | perf loss 0.1620 | Spike loss 11.1517 | Weight loss 0.0359 | Mean activity 0.6118\n",
      "DMS Iter.  225 | Accuracy 0.6969 | perf loss 0.2409 | Spike loss 5.8312 | Weight loss 0.0361 | Mean activity 0.4663\n",
      "DMS Iter.  226 | Accuracy 0.6945 | perf loss 0.2350 | Spike loss 3.1142 | Weight loss 0.0361 | Mean activity 0.3538\n",
      "DMS Iter.  227 | Accuracy 0.6608 | perf loss 0.4002 | Spike loss 2.2210 | Weight loss 0.0362 | Mean activity 0.3013\n",
      "DMS Iter.  228 | Accuracy 0.6542 | perf loss 0.3181 | Spike loss 2.1243 | Weight loss 0.0362 | Mean activity 0.2975\n",
      "DMS Iter.  229 | Accuracy 0.6766 | perf loss 0.2261 | Spike loss 2.4277 | Weight loss 0.0363 | Mean activity 0.3148\n",
      "DMS Iter.  230 | Accuracy 0.6969 | perf loss 0.1771 | Spike loss 3.4205 | Weight loss 0.0363 | Mean activity 0.3702\n",
      "DMS Iter.  231 | Accuracy 0.6898 | perf loss 0.1983 | Spike loss 4.1240 | Weight loss 0.0364 | Mean activity 0.3983\n",
      "DMS Iter.  232 | Accuracy 0.7080 | perf loss 0.1751 | Spike loss 4.1889 | Weight loss 0.0364 | Mean activity 0.4043\n",
      "DMS Iter.  233 | Accuracy 0.6832 | perf loss 0.1916 | Spike loss 3.3400 | Weight loss 0.0365 | Mean activity 0.3632\n",
      "DMS Iter.  234 | Accuracy 0.7121 | perf loss 0.1701 | Spike loss 4.6736 | Weight loss 0.0366 | Mean activity 0.3964\n",
      "DMS Iter.  235 | Accuracy 0.6914 | perf loss 0.1673 | Spike loss 8.3921 | Weight loss 0.0367 | Mean activity 0.5045\n",
      "DMS Iter.  236 | Accuracy 0.6575 | perf loss 0.2179 | Spike loss 9.8645 | Weight loss 0.0369 | Mean activity 0.5429\n",
      "DMS Iter.  237 | Accuracy 0.6936 | perf loss 0.2152 | Spike loss 9.2343 | Weight loss 0.0370 | Mean activity 0.5119\n",
      "DMS Iter.  238 | Accuracy 0.6921 | perf loss 0.2140 | Spike loss 9.0106 | Weight loss 0.0369 | Mean activity 0.5139\n",
      "DMS Iter.  239 | Accuracy 0.6967 | perf loss 0.1723 | Spike loss 9.8195 | Weight loss 0.0370 | Mean activity 0.5420\n",
      "DMS Iter.  240 | Accuracy 0.7286 | perf loss 0.1577 | Spike loss 7.7697 | Weight loss 0.0370 | Mean activity 0.4755\n",
      "DMS Iter.  241 | Accuracy 0.6833 | perf loss 0.1770 | Spike loss 6.8347 | Weight loss 0.0371 | Mean activity 0.4662\n",
      "DMS Iter.  242 | Accuracy 0.7066 | perf loss 0.1704 | Spike loss 6.0642 | Weight loss 0.0371 | Mean activity 0.4349\n",
      "DMS Iter.  243 | Accuracy 0.6990 | perf loss 0.1797 | Spike loss 6.3698 | Weight loss 0.0372 | Mean activity 0.4538\n",
      "DMS Iter.  244 | Accuracy 0.6989 | perf loss 0.1669 | Spike loss 5.2531 | Weight loss 0.0373 | Mean activity 0.4144\n",
      "DMS Iter.  245 | Accuracy 0.6863 | perf loss 0.1702 | Spike loss 3.5446 | Weight loss 0.0374 | Mean activity 0.3534\n",
      "DMS Iter.  246 | Accuracy 0.7149 | perf loss 0.1675 | Spike loss 2.4837 | Weight loss 0.0375 | Mean activity 0.3023\n",
      "DMS Iter.  247 | Accuracy 0.6957 | perf loss 0.1694 | Spike loss 2.0543 | Weight loss 0.0376 | Mean activity 0.2830\n",
      "DMS Iter.  248 | Accuracy 0.6903 | perf loss 0.1676 | Spike loss 3.1631 | Weight loss 0.0377 | Mean activity 0.3393\n",
      "DMS Iter.  249 | Accuracy 0.6989 | perf loss 0.1591 | Spike loss 3.7538 | Weight loss 0.0378 | Mean activity 0.3568\n",
      "DMS Iter.  250 | Accuracy 0.7194 | perf loss 0.1905 | Spike loss 3.7673 | Weight loss 0.0379 | Mean activity 0.3597\n",
      "DMS Iter.  251 | Accuracy 0.7044 | perf loss 0.1609 | Spike loss 3.8044 | Weight loss 0.0380 | Mean activity 0.3617\n",
      "DMS Iter.  252 | Accuracy 0.7541 | perf loss 0.1589 | Spike loss 3.6452 | Weight loss 0.0381 | Mean activity 0.3625\n",
      "DMS Iter.  253 | Accuracy 0.7483 | perf loss 0.1520 | Spike loss 2.7912 | Weight loss 0.0383 | Mean activity 0.3245\n",
      "DMS Iter.  254 | Accuracy 0.7413 | perf loss 0.1533 | Spike loss 1.6141 | Weight loss 0.0384 | Mean activity 0.2618\n",
      "DMS Iter.  255 | Accuracy 0.7267 | perf loss 0.1636 | Spike loss 1.0746 | Weight loss 0.0385 | Mean activity 0.2302\n",
      "DMS Iter.  256 | Accuracy 0.7390 | perf loss 0.1610 | Spike loss 0.8739 | Weight loss 0.0387 | Mean activity 0.2156\n",
      "DMS Iter.  257 | Accuracy 0.7102 | perf loss 0.1680 | Spike loss 1.3490 | Weight loss 0.0388 | Mean activity 0.2526\n",
      "DMS Iter.  258 | Accuracy 0.7603 | perf loss 0.1474 | Spike loss 2.1735 | Weight loss 0.0389 | Mean activity 0.2931\n",
      "DMS Iter.  259 | Accuracy 0.7264 | perf loss 0.1586 | Spike loss 2.5367 | Weight loss 0.0390 | Mean activity 0.3166\n",
      "DMS Iter.  260 | Accuracy 0.7906 | perf loss 0.1421 | Spike loss 2.7727 | Weight loss 0.0392 | Mean activity 0.3250\n",
      "DMS Iter.  261 | Accuracy 0.7508 | perf loss 0.1577 | Spike loss 3.4269 | Weight loss 0.0393 | Mean activity 0.3581\n",
      "DMS Iter.  262 | Accuracy 0.7678 | perf loss 0.1536 | Spike loss 3.4238 | Weight loss 0.0394 | Mean activity 0.3655\n",
      "DMS Iter.  263 | Accuracy 0.7648 | perf loss 0.1581 | Spike loss 2.7694 | Weight loss 0.0395 | Mean activity 0.3457\n",
      "DMS Iter.  264 | Accuracy 0.6574 | perf loss 0.5760 | Spike loss 1.2663 | Weight loss 0.0396 | Mean activity 0.2473\n",
      "DMS Iter.  265 | Accuracy 0.6261 | perf loss 0.7161 | Spike loss 0.7889 | Weight loss 0.0397 | Mean activity 0.2143\n",
      "DMS Iter.  266 | Accuracy 0.6761 | perf loss 0.3363 | Spike loss 0.7307 | Weight loss 0.0398 | Mean activity 0.2053\n",
      "DMS Iter.  267 | Accuracy 0.7707 | perf loss 0.1483 | Spike loss 1.0590 | Weight loss 0.0399 | Mean activity 0.2365\n",
      "DMS Iter.  268 | Accuracy 0.7536 | perf loss 0.1531 | Spike loss 3.5585 | Weight loss 0.0400 | Mean activity 0.3725\n",
      "DMS Iter.  269 | Accuracy 0.7481 | perf loss 0.1506 | Spike loss 7.2179 | Weight loss 0.0400 | Mean activity 0.4887\n",
      "DMS Iter.  270 | Accuracy 0.7405 | perf loss 0.1595 | Spike loss 16.8659 | Weight loss 0.0401 | Mean activity 0.6878\n",
      "DMS Iter.  271 | Accuracy 0.7543 | perf loss 0.1526 | Spike loss 42.7012 | Weight loss 0.0401 | Mean activity 0.9712\n",
      "DMS Iter.  272 | Accuracy 0.6979 | perf loss 2.3470 | Spike loss 76.8900 | Weight loss 0.0402 | Mean activity 1.2772\n",
      "DMS Iter.  273 | Accuracy 0.7602 | perf loss 2.8385 | Spike loss 36.3315 | Weight loss 0.0402 | Mean activity 0.9157\n",
      "DMS Iter.  274 | Accuracy 0.7294 | perf loss 0.2624 | Spike loss 29.4378 | Weight loss 0.0403 | Mean activity 0.7922\n",
      "DMS Iter.  275 | Accuracy 0.7338 | perf loss 0.2572 | Spike loss 9.4660 | Weight loss 0.0403 | Mean activity 0.5204\n",
      "DMS Iter.  276 | Accuracy 0.7529 | perf loss 0.1637 | Spike loss 5.1078 | Weight loss 0.0403 | Mean activity 0.4120\n",
      "DMS Iter.  277 | Accuracy 0.7623 | perf loss 0.1524 | Spike loss 4.2510 | Weight loss 0.0404 | Mean activity 0.3949\n",
      "DMS Iter.  278 | Accuracy 0.8035 | perf loss 0.1406 | Spike loss 3.0329 | Weight loss 0.0404 | Mean activity 0.3394\n",
      "DMS Iter.  279 | Accuracy 0.7761 | perf loss 0.1501 | Spike loss 2.8535 | Weight loss 0.0405 | Mean activity 0.3431\n",
      "DMS Iter.  280 | Accuracy 0.7564 | perf loss 0.1504 | Spike loss 1.9074 | Weight loss 0.0405 | Mean activity 0.2916\n",
      "DMS Iter.  281 | Accuracy 0.7665 | perf loss 0.1540 | Spike loss 1.3953 | Weight loss 0.0406 | Mean activity 0.2551\n",
      "DMS Iter.  282 | Accuracy 0.7579 | perf loss 0.1845 | Spike loss 0.9507 | Weight loss 0.0406 | Mean activity 0.2184\n",
      "DMS Iter.  283 | Accuracy 0.7875 | perf loss 0.1767 | Spike loss 0.7187 | Weight loss 0.0406 | Mean activity 0.1971\n",
      "DMS Iter.  284 | Accuracy 0.8133 | perf loss 0.1458 | Spike loss 0.6504 | Weight loss 0.0407 | Mean activity 0.1903\n",
      "DMS Iter.  285 | Accuracy 0.8194 | perf loss 0.1397 | Spike loss 0.6521 | Weight loss 0.0407 | Mean activity 0.1939\n",
      "DMS Iter.  286 | Accuracy 0.8025 | perf loss 0.1479 | Spike loss 0.6779 | Weight loss 0.0408 | Mean activity 0.1987\n",
      "DMS Iter.  287 | Accuracy 0.8124 | perf loss 0.1390 | Spike loss 0.7747 | Weight loss 0.0408 | Mean activity 0.2072\n",
      "DMS Iter.  288 | Accuracy 0.8159 | perf loss 0.1445 | Spike loss 0.8539 | Weight loss 0.0408 | Mean activity 0.2118\n",
      "DMS Iter.  289 | Accuracy 0.8083 | perf loss 0.1584 | Spike loss 0.8530 | Weight loss 0.0409 | Mean activity 0.2141\n",
      "DMS Iter.  290 | Accuracy 0.7983 | perf loss 0.1567 | Spike loss 0.8095 | Weight loss 0.0409 | Mean activity 0.2101\n",
      "DMS Iter.  291 | Accuracy 0.8067 | perf loss 0.1559 | Spike loss 0.7719 | Weight loss 0.0409 | Mean activity 0.2095\n",
      "DMS Iter.  292 | Accuracy 0.7729 | perf loss 0.1619 | Spike loss 0.7880 | Weight loss 0.0410 | Mean activity 0.2154\n",
      "DMS Iter.  293 | Accuracy 0.7802 | perf loss 0.1502 | Spike loss 0.7012 | Weight loss 0.0410 | Mean activity 0.2064\n",
      "DMS Iter.  294 | Accuracy 0.7969 | perf loss 0.1448 | Spike loss 0.5569 | Weight loss 0.0411 | Mean activity 0.1867\n",
      "DMS Iter.  295 | Accuracy 0.7980 | perf loss 0.1482 | Spike loss 0.7224 | Weight loss 0.0411 | Mean activity 0.2031\n",
      "DMS Iter.  296 | Accuracy 0.7996 | perf loss 0.1522 | Spike loss 1.5676 | Weight loss 0.0412 | Mean activity 0.2642\n",
      "DMS Iter.  297 | Accuracy 0.7552 | perf loss 0.1738 | Spike loss 4.7877 | Weight loss 0.0412 | Mean activity 0.4258\n",
      "DMS Iter.  298 | Accuracy 0.7865 | perf loss 0.1521 | Spike loss 6.4201 | Weight loss 0.0412 | Mean activity 0.4510\n",
      "DMS Iter.  299 | Accuracy 0.8154 | perf loss 0.1610 | Spike loss 4.6546 | Weight loss 0.0412 | Mean activity 0.3783\n",
      "DMS Iter.  300 | Accuracy 0.8079 | perf loss 0.1438 | Spike loss 1.9880 | Weight loss 0.0412 | Mean activity 0.2801\n",
      "DMS Iter.  301 | Accuracy 0.7970 | perf loss 0.1458 | Spike loss 1.9609 | Weight loss 0.0412 | Mean activity 0.2765\n",
      "DMS Iter.  302 | Accuracy 0.8162 | perf loss 0.1418 | Spike loss 2.8323 | Weight loss 0.0412 | Mean activity 0.3111\n",
      "DMS Iter.  303 | Accuracy 0.8076 | perf loss 0.1423 | Spike loss 4.3128 | Weight loss 0.0412 | Mean activity 0.3614\n",
      "DMS Iter.  304 | Accuracy 0.7905 | perf loss 0.1777 | Spike loss 7.1362 | Weight loss 0.0412 | Mean activity 0.4008\n",
      "DMS Iter.  305 | Accuracy 0.8311 | perf loss 0.1402 | Spike loss 6.1343 | Weight loss 0.0412 | Mean activity 0.4060\n",
      "DMS Iter.  306 | Accuracy 0.8248 | perf loss 0.1454 | Spike loss 2.9113 | Weight loss 0.0412 | Mean activity 0.3186\n",
      "DMS Iter.  307 | Accuracy 0.8099 | perf loss 0.1395 | Spike loss 2.3490 | Weight loss 0.0412 | Mean activity 0.2957\n",
      "DMS Iter.  308 | Accuracy 0.8269 | perf loss 0.1403 | Spike loss 1.5455 | Weight loss 0.0412 | Mean activity 0.2607\n",
      "DMS Iter.  309 | Accuracy 0.8093 | perf loss 0.1359 | Spike loss 1.3589 | Weight loss 0.0413 | Mean activity 0.2470\n",
      "DMS Iter.  310 | Accuracy 0.8452 | perf loss 0.1338 | Spike loss 0.9015 | Weight loss 0.0413 | Mean activity 0.2155\n",
      "DMS Iter.  311 | Accuracy 0.8574 | perf loss 0.1382 | Spike loss 0.7473 | Weight loss 0.0414 | Mean activity 0.2064\n",
      "DMS Iter.  312 | Accuracy 0.8278 | perf loss 0.1364 | Spike loss 1.0224 | Weight loss 0.0414 | Mean activity 0.2325\n",
      "DMS Iter.  313 | Accuracy 0.8263 | perf loss 0.1444 | Spike loss 3.0325 | Weight loss 0.0414 | Mean activity 0.3361\n",
      "DMS Iter.  314 | Accuracy 0.8301 | perf loss 0.1381 | Spike loss 5.1683 | Weight loss 0.0415 | Mean activity 0.4021\n",
      "DMS Iter.  315 | Accuracy 0.8174 | perf loss 0.1391 | Spike loss 3.7387 | Weight loss 0.0415 | Mean activity 0.3525\n",
      "DMS Iter.  316 | Accuracy 0.8477 | perf loss 0.1355 | Spike loss 1.4433 | Weight loss 0.0416 | Mean activity 0.2477\n",
      "DMS Iter.  317 | Accuracy 0.8813 | perf loss 0.1282 | Spike loss 0.7887 | Weight loss 0.0416 | Mean activity 0.2013\n",
      "DMS Iter.  318 | Accuracy 0.8293 | perf loss 0.1553 | Spike loss 0.5235 | Weight loss 0.0416 | Mean activity 0.1756\n",
      "DMS Iter.  319 | Accuracy 0.8312 | perf loss 0.1672 | Spike loss 0.4699 | Weight loss 0.0417 | Mean activity 0.1653\n",
      "DMS Iter.  320 | Accuracy 0.8445 | perf loss 0.1288 | Spike loss 0.5250 | Weight loss 0.0417 | Mean activity 0.1739\n",
      "DMS Iter.  321 | Accuracy 0.8238 | perf loss 0.1363 | Spike loss 1.0867 | Weight loss 0.0418 | Mean activity 0.2263\n",
      "DMS Iter.  322 | Accuracy 0.8145 | perf loss 0.1416 | Spike loss 2.5372 | Weight loss 0.0418 | Mean activity 0.3062\n",
      "DMS Iter.  323 | Accuracy 0.8324 | perf loss 0.1320 | Spike loss 2.5958 | Weight loss 0.0419 | Mean activity 0.2955\n",
      "DMS Iter.  324 | Accuracy 0.7869 | perf loss 0.1535 | Spike loss 6.3801 | Weight loss 0.0419 | Mean activity 0.4302\n",
      "DMS Iter.  325 | Accuracy 0.8109 | perf loss 0.1492 | Spike loss 8.6443 | Weight loss 0.0420 | Mean activity 0.4785\n",
      "DMS Iter.  326 | Accuracy 0.8122 | perf loss 0.1540 | Spike loss 5.8540 | Weight loss 0.0421 | Mean activity 0.4011\n",
      "DMS Iter.  327 | Accuracy 0.8083 | perf loss 0.1493 | Spike loss 3.1848 | Weight loss 0.0421 | Mean activity 0.3243\n",
      "DMS Iter.  328 | Accuracy 0.8272 | perf loss 0.1428 | Spike loss 2.0422 | Weight loss 0.0421 | Mean activity 0.2773\n",
      "DMS Iter.  329 | Accuracy 0.8348 | perf loss 0.1530 | Spike loss 0.9450 | Weight loss 0.0422 | Mean activity 0.2132\n",
      "DMS Iter.  330 | Accuracy 0.8295 | perf loss 0.1665 | Spike loss 0.5639 | Weight loss 0.0422 | Mean activity 0.1798\n",
      "DMS Iter.  331 | Accuracy 0.7838 | perf loss 0.1801 | Spike loss 0.4614 | Weight loss 0.0422 | Mean activity 0.1715\n",
      "DMS Iter.  332 | Accuracy 0.7517 | perf loss 0.1843 | Spike loss 0.4931 | Weight loss 0.0423 | Mean activity 0.1748\n",
      "DMS Iter.  333 | Accuracy 0.7818 | perf loss 0.1704 | Spike loss 0.7134 | Weight loss 0.0424 | Mean activity 0.2006\n",
      "DMS Iter.  334 | Accuracy 0.7531 | perf loss 0.1839 | Spike loss 1.1941 | Weight loss 0.0425 | Mean activity 0.2419\n",
      "DMS Iter.  335 | Accuracy 0.7117 | perf loss 0.1798 | Spike loss 2.7460 | Weight loss 0.0426 | Mean activity 0.3453\n",
      "DMS Iter.  336 | Accuracy 0.7087 | perf loss 0.1922 | Spike loss 4.5685 | Weight loss 0.0426 | Mean activity 0.4290\n",
      "DMS Iter.  337 | Accuracy 0.6647 | perf loss 0.2049 | Spike loss 6.4187 | Weight loss 0.0427 | Mean activity 0.5036\n",
      "DMS Iter.  338 | Accuracy 0.6922 | perf loss 0.2026 | Spike loss 5.1763 | Weight loss 0.0428 | Mean activity 0.4432\n",
      "DMS Iter.  339 | Accuracy 0.7111 | perf loss 0.2202 | Spike loss 5.5026 | Weight loss 0.0428 | Mean activity 0.4476\n",
      "DMS Iter.  340 | Accuracy 0.7247 | perf loss 0.1901 | Spike loss 7.0644 | Weight loss 0.0428 | Mean activity 0.4995\n",
      "DMS Iter.  341 | Accuracy 0.7252 | perf loss 0.1838 | Spike loss 7.3399 | Weight loss 0.0427 | Mean activity 0.4949\n",
      "DMS Iter.  342 | Accuracy 0.6926 | perf loss 0.1937 | Spike loss 9.7664 | Weight loss 0.0427 | Mean activity 0.5757\n",
      "DMS Iter.  343 | Accuracy 0.6826 | perf loss 0.1918 | Spike loss 10.6348 | Weight loss 0.0427 | Mean activity 0.6162\n",
      "DMS Iter.  344 | Accuracy 0.6852 | perf loss 0.1949 | Spike loss 7.2428 | Weight loss 0.0428 | Mean activity 0.5145\n",
      "DMS Iter.  345 | Accuracy 0.6874 | perf loss 0.1947 | Spike loss 3.9862 | Weight loss 0.0428 | Mean activity 0.4005\n",
      "DMS Iter.  346 | Accuracy 0.7423 | perf loss 0.1824 | Spike loss 1.4566 | Weight loss 0.0429 | Mean activity 0.2509\n",
      "DMS Iter.  347 | Accuracy 0.7587 | perf loss 0.1939 | Spike loss 0.7101 | Weight loss 0.0430 | Mean activity 0.1856\n",
      "DMS Iter.  348 | Accuracy 0.8145 | perf loss 0.1718 | Spike loss 0.5583 | Weight loss 0.0431 | Mean activity 0.1737\n",
      "DMS Iter.  349 | Accuracy 0.7680 | perf loss 0.1834 | Spike loss 0.4652 | Weight loss 0.0432 | Mean activity 0.1685\n",
      "DMS Iter.  350 | Accuracy 0.7929 | perf loss 0.1666 | Spike loss 0.4052 | Weight loss 0.0434 | Mean activity 0.1602\n",
      "DMS Iter.  351 | Accuracy 0.7728 | perf loss 0.1717 | Spike loss 0.4406 | Weight loss 0.0435 | Mean activity 0.1702\n",
      "DMS Iter.  352 | Accuracy 0.8034 | perf loss 0.1582 | Spike loss 0.4168 | Weight loss 0.0437 | Mean activity 0.1657\n",
      "DMS Iter.  353 | Accuracy 0.7937 | perf loss 0.1584 | Spike loss 0.4155 | Weight loss 0.0439 | Mean activity 0.1645\n",
      "DMS Iter.  354 | Accuracy 0.8162 | perf loss 0.1545 | Spike loss 0.3626 | Weight loss 0.0440 | Mean activity 0.1547\n",
      "DMS Iter.  355 | Accuracy 0.7844 | perf loss 0.1813 | Spike loss 0.3869 | Weight loss 0.0442 | Mean activity 0.1564\n",
      "DMS Iter.  356 | Accuracy 0.7698 | perf loss 0.2054 | Spike loss 0.3784 | Weight loss 0.0444 | Mean activity 0.1527\n",
      "DMS Iter.  357 | Accuracy 0.7792 | perf loss 0.1888 | Spike loss 0.4166 | Weight loss 0.0446 | Mean activity 0.1562\n",
      "DMS Iter.  358 | Accuracy 0.8258 | perf loss 0.1523 | Spike loss 0.5049 | Weight loss 0.0448 | Mean activity 0.1678\n",
      "DMS Iter.  359 | Accuracy 0.8083 | perf loss 0.1384 | Spike loss 0.6382 | Weight loss 0.0450 | Mean activity 0.1844\n",
      "DMS Iter.  360 | Accuracy 0.8175 | perf loss 0.1402 | Spike loss 0.7558 | Weight loss 0.0451 | Mean activity 0.2001\n",
      "DMS Iter.  361 | Accuracy 0.8214 | perf loss 0.1485 | Spike loss 0.9369 | Weight loss 0.0453 | Mean activity 0.2213\n",
      "DMS Iter.  362 | Accuracy 0.8245 | perf loss 0.1419 | Spike loss 0.8508 | Weight loss 0.0454 | Mean activity 0.2103\n",
      "DMS Iter.  363 | Accuracy 0.8080 | perf loss 0.1524 | Spike loss 0.8615 | Weight loss 0.0455 | Mean activity 0.2152\n",
      "DMS Iter.  364 | Accuracy 0.7822 | perf loss 0.1599 | Spike loss 0.8604 | Weight loss 0.0457 | Mean activity 0.2125\n",
      "DMS Iter.  365 | Accuracy 0.8103 | perf loss 0.1538 | Spike loss 0.8016 | Weight loss 0.0458 | Mean activity 0.2070\n",
      "DMS Iter.  366 | Accuracy 0.8405 | perf loss 0.1383 | Spike loss 0.5675 | Weight loss 0.0459 | Mean activity 0.1766\n",
      "DMS Iter.  367 | Accuracy 0.8373 | perf loss 0.1370 | Spike loss 0.6086 | Weight loss 0.0460 | Mean activity 0.1806\n",
      "DMS Iter.  368 | Accuracy 0.8536 | perf loss 0.1405 | Spike loss 0.5752 | Weight loss 0.0462 | Mean activity 0.1771\n",
      "DMS Iter.  369 | Accuracy 0.8031 | perf loss 0.1418 | Spike loss 0.5787 | Weight loss 0.0463 | Mean activity 0.1770\n",
      "DMS Iter.  370 | Accuracy 0.8214 | perf loss 0.1358 | Spike loss 0.6937 | Weight loss 0.0464 | Mean activity 0.1893\n",
      "DMS Iter.  371 | Accuracy 0.8249 | perf loss 0.1337 | Spike loss 0.6762 | Weight loss 0.0466 | Mean activity 0.1822\n",
      "DMS Iter.  372 | Accuracy 0.8335 | perf loss 0.1368 | Spike loss 0.7383 | Weight loss 0.0467 | Mean activity 0.1939\n",
      "DMS Iter.  373 | Accuracy 0.8786 | perf loss 0.1211 | Spike loss 0.5411 | Weight loss 0.0469 | Mean activity 0.1662\n",
      "DMS Iter.  374 | Accuracy 0.8144 | perf loss 0.1353 | Spike loss 0.5354 | Weight loss 0.0470 | Mean activity 0.1709\n",
      "DMS Iter.  375 | Accuracy 0.8581 | perf loss 0.1301 | Spike loss 0.5613 | Weight loss 0.0472 | Mean activity 0.1709\n",
      "DMS Iter.  376 | Accuracy 0.8353 | perf loss 0.1451 | Spike loss 0.6394 | Weight loss 0.0473 | Mean activity 0.1846\n",
      "DMS Iter.  377 | Accuracy 0.8308 | perf loss 0.1303 | Spike loss 0.7071 | Weight loss 0.0474 | Mean activity 0.1933\n",
      "DMS Iter.  378 | Accuracy 0.8555 | perf loss 0.1308 | Spike loss 0.8686 | Weight loss 0.0476 | Mean activity 0.2101\n",
      "DMS Iter.  379 | Accuracy 0.8330 | perf loss 0.1345 | Spike loss 1.4353 | Weight loss 0.0477 | Mean activity 0.2542\n",
      "DMS Iter.  380 | Accuracy 0.8358 | perf loss 0.1229 | Spike loss 1.4541 | Weight loss 0.0478 | Mean activity 0.2489\n",
      "DMS Iter.  381 | Accuracy 0.8367 | perf loss 0.1317 | Spike loss 1.1918 | Weight loss 0.0479 | Mean activity 0.2369\n",
      "DMS Iter.  382 | Accuracy 0.8438 | perf loss 0.1334 | Spike loss 0.7639 | Weight loss 0.0481 | Mean activity 0.2004\n",
      "DMS Iter.  383 | Accuracy 0.8521 | perf loss 0.1281 | Spike loss 0.7957 | Weight loss 0.0482 | Mean activity 0.1993\n",
      "DMS Iter.  384 | Accuracy 0.8410 | perf loss 0.1295 | Spike loss 1.7494 | Weight loss 0.0483 | Mean activity 0.2543\n",
      "DMS Iter.  385 | Accuracy 0.8250 | perf loss 0.1366 | Spike loss 7.0339 | Weight loss 0.0484 | Mean activity 0.3948\n",
      "DMS Iter.  386 | Accuracy 0.8666 | perf loss 0.1208 | Spike loss 4.0054 | Weight loss 0.0485 | Mean activity 0.3144\n",
      "DMS Iter.  387 | Accuracy 0.8485 | perf loss 0.1294 | Spike loss 8.3992 | Weight loss 0.0485 | Mean activity 0.4055\n",
      "DMS Iter.  388 | Accuracy 0.8609 | perf loss 0.1355 | Spike loss 4.2487 | Weight loss 0.0486 | Mean activity 0.3206\n",
      "DMS Iter.  389 | Accuracy 0.8477 | perf loss 0.1285 | Spike loss 3.2829 | Weight loss 0.0487 | Mean activity 0.2974\n",
      "DMS Iter.  390 | Accuracy 0.8723 | perf loss 0.1213 | Spike loss 1.7085 | Weight loss 0.0488 | Mean activity 0.2441\n",
      "DMS Iter.  391 | Accuracy 0.8428 | perf loss 0.1289 | Spike loss 0.8541 | Weight loss 0.0489 | Mean activity 0.2047\n",
      "DMS Iter.  392 | Accuracy 0.8260 | perf loss 0.1931 | Spike loss 0.6900 | Weight loss 0.0490 | Mean activity 0.1837\n",
      "DMS Iter.  393 | Accuracy 0.8434 | perf loss 0.1346 | Spike loss 0.7206 | Weight loss 0.0491 | Mean activity 0.1896\n",
      "DMS Iter.  394 | Accuracy 0.8459 | perf loss 0.1268 | Spike loss 0.8590 | Weight loss 0.0491 | Mean activity 0.2039\n",
      "DMS Iter.  395 | Accuracy 0.8521 | perf loss 0.1300 | Spike loss 1.4403 | Weight loss 0.0492 | Mean activity 0.2382\n",
      "DMS Iter.  396 | Accuracy 0.8671 | perf loss 0.1255 | Spike loss 4.5169 | Weight loss 0.0493 | Mean activity 0.3205\n",
      "DMS Iter.  397 | Accuracy 0.8300 | perf loss 0.1331 | Spike loss 7.2100 | Weight loss 0.0493 | Mean activity 0.3505\n",
      "DMS Iter.  398 | Accuracy 0.8251 | perf loss 0.1326 | Spike loss 5.5768 | Weight loss 0.0493 | Mean activity 0.3230\n",
      "DMS Iter.  399 | Accuracy 0.8583 | perf loss 0.1296 | Spike loss 6.8741 | Weight loss 0.0494 | Mean activity 0.3088\n",
      "DMS Iter.  400 | Accuracy 0.8478 | perf loss 0.1230 | Spike loss 5.7440 | Weight loss 0.0494 | Mean activity 0.3132\n",
      "DMS Iter.  401 | Accuracy 0.8649 | perf loss 0.1247 | Spike loss 4.1173 | Weight loss 0.0494 | Mean activity 0.2823\n",
      "DMS Iter.  402 | Accuracy 0.8506 | perf loss 0.1342 | Spike loss 3.5754 | Weight loss 0.0494 | Mean activity 0.2834\n",
      "DMS Iter.  403 | Accuracy 0.8410 | perf loss 0.1291 | Spike loss 1.5606 | Weight loss 0.0495 | Mean activity 0.2320\n",
      "DMS Iter.  404 | Accuracy 0.8478 | perf loss 0.1263 | Spike loss 0.8671 | Weight loss 0.0496 | Mean activity 0.1995\n",
      "DMS Iter.  405 | Accuracy 0.8551 | perf loss 0.1327 | Spike loss 0.7048 | Weight loss 0.0497 | Mean activity 0.1871\n",
      "DMS Iter.  406 | Accuracy 0.8311 | perf loss 0.1681 | Spike loss 0.6041 | Weight loss 0.0499 | Mean activity 0.1740\n",
      "DMS Iter.  407 | Accuracy 0.8442 | perf loss 0.1564 | Spike loss 0.6017 | Weight loss 0.0500 | Mean activity 0.1718\n",
      "DMS Iter.  408 | Accuracy 0.8394 | perf loss 0.1315 | Spike loss 0.5995 | Weight loss 0.0501 | Mean activity 0.1733\n",
      "DMS Iter.  409 | Accuracy 0.8422 | perf loss 0.1394 | Spike loss 0.5911 | Weight loss 0.0502 | Mean activity 0.1760\n",
      "DMS Iter.  410 | Accuracy 0.8209 | perf loss 0.1316 | Spike loss 0.6785 | Weight loss 0.0503 | Mean activity 0.1850\n",
      "DMS Iter.  411 | Accuracy 0.8699 | perf loss 0.1303 | Spike loss 0.6507 | Weight loss 0.0505 | Mean activity 0.1832\n",
      "DMS Iter.  412 | Accuracy 0.8504 | perf loss 0.1306 | Spike loss 0.6360 | Weight loss 0.0506 | Mean activity 0.1828\n",
      "DMS Iter.  413 | Accuracy 0.8827 | perf loss 0.1220 | Spike loss 0.5992 | Weight loss 0.0506 | Mean activity 0.1705\n",
      "DMS Iter.  414 | Accuracy 0.8782 | perf loss 0.1174 | Spike loss 0.5942 | Weight loss 0.0508 | Mean activity 0.1689\n",
      "DMS Iter.  415 | Accuracy 0.8710 | perf loss 0.1235 | Spike loss 0.6038 | Weight loss 0.0509 | Mean activity 0.1715\n",
      "DMS Iter.  416 | Accuracy 0.8833 | perf loss 0.1166 | Spike loss 0.6151 | Weight loss 0.0510 | Mean activity 0.1735\n",
      "DMS Iter.  417 | Accuracy 0.8646 | perf loss 0.1337 | Spike loss 0.5837 | Weight loss 0.0511 | Mean activity 0.1726\n",
      "DMS Iter.  418 | Accuracy 0.8755 | perf loss 0.1204 | Spike loss 0.5532 | Weight loss 0.0512 | Mean activity 0.1669\n",
      "DMS Iter.  419 | Accuracy 0.8561 | perf loss 0.1377 | Spike loss 0.5286 | Weight loss 0.0513 | Mean activity 0.1621\n",
      "DMS Iter.  420 | Accuracy 0.8646 | perf loss 0.1369 | Spike loss 0.5296 | Weight loss 0.0514 | Mean activity 0.1583\n",
      "DMS Iter.  421 | Accuracy 0.8859 | perf loss 0.1100 | Spike loss 0.5455 | Weight loss 0.0515 | Mean activity 0.1602\n",
      "DMS Iter.  422 | Accuracy 0.8907 | perf loss 0.1168 | Spike loss 0.6139 | Weight loss 0.0516 | Mean activity 0.1689\n",
      "DMS Iter.  423 | Accuracy 0.8799 | perf loss 0.1150 | Spike loss 0.6437 | Weight loss 0.0517 | Mean activity 0.1731\n",
      "DMS Iter.  424 | Accuracy 0.8935 | perf loss 0.1123 | Spike loss 0.7172 | Weight loss 0.0518 | Mean activity 0.1748\n",
      "DMS Iter.  425 | Accuracy 0.8753 | perf loss 0.1347 | Spike loss 0.9537 | Weight loss 0.0518 | Mean activity 0.1900\n",
      "DMS Iter.  426 | Accuracy 0.8895 | perf loss 0.1187 | Spike loss 1.3567 | Weight loss 0.0519 | Mean activity 0.2050\n",
      "DMS Iter.  427 | Accuracy 0.8941 | perf loss 0.1131 | Spike loss 1.6431 | Weight loss 0.0520 | Mean activity 0.2121\n",
      "DMS Iter.  428 | Accuracy 0.8876 | perf loss 0.1253 | Spike loss 1.7759 | Weight loss 0.0520 | Mean activity 0.2124\n",
      "DMS Iter.  429 | Accuracy 0.8817 | perf loss 0.2769 | Spike loss 1.9421 | Weight loss 0.0521 | Mean activity 0.2173\n",
      "DMS Iter.  430 | Accuracy 0.9025 | perf loss 0.1342 | Spike loss 1.8291 | Weight loss 0.0522 | Mean activity 0.2140\n",
      "DMS Iter.  431 | Accuracy 0.8908 | perf loss 0.1174 | Spike loss 1.3773 | Weight loss 0.0522 | Mean activity 0.2048\n",
      "DMS Iter.  432 | Accuracy 0.8967 | perf loss 0.1148 | Spike loss 1.0583 | Weight loss 0.0523 | Mean activity 0.1974\n",
      "DMS Iter.  433 | Accuracy 0.8971 | perf loss 0.1170 | Spike loss 0.8625 | Weight loss 0.0524 | Mean activity 0.1881\n",
      "DMS Iter.  434 | Accuracy 0.9060 | perf loss 0.1103 | Spike loss 0.7783 | Weight loss 0.0524 | Mean activity 0.1831\n",
      "DMS Iter.  435 | Accuracy 0.8977 | perf loss 0.1360 | Spike loss 0.7146 | Weight loss 0.0525 | Mean activity 0.1781\n",
      "DMS Iter.  436 | Accuracy 0.9169 | perf loss 0.1237 | Spike loss 0.6857 | Weight loss 0.0526 | Mean activity 0.1724\n",
      "DMS Iter.  437 | Accuracy 0.8939 | perf loss 0.1263 | Spike loss 0.7905 | Weight loss 0.0527 | Mean activity 0.1777\n",
      "DMS Iter.  438 | Accuracy 0.8973 | perf loss 0.1152 | Spike loss 0.8095 | Weight loss 0.0528 | Mean activity 0.1815\n",
      "DMS Iter.  439 | Accuracy 0.9047 | perf loss 0.1093 | Spike loss 0.7868 | Weight loss 0.0529 | Mean activity 0.1756\n",
      "DMS Iter.  440 | Accuracy 0.9055 | perf loss 0.1103 | Spike loss 0.8714 | Weight loss 0.0530 | Mean activity 0.1798\n",
      "DMS Iter.  441 | Accuracy 0.8917 | perf loss 0.2210 | Spike loss 1.0274 | Weight loss 0.0531 | Mean activity 0.1814\n",
      "DMS Iter.  442 | Accuracy 0.9007 | perf loss 0.1148 | Spike loss 0.7651 | Weight loss 0.0531 | Mean activity 0.1706\n",
      "DMS Iter.  443 | Accuracy 0.8926 | perf loss 0.1149 | Spike loss 0.6613 | Weight loss 0.0532 | Mean activity 0.1689\n",
      "DMS Iter.  444 | Accuracy 0.8795 | perf loss 0.1173 | Spike loss 0.5640 | Weight loss 0.0532 | Mean activity 0.1620\n",
      "DMS Iter.  445 | Accuracy 0.8967 | perf loss 0.1310 | Spike loss 0.5427 | Weight loss 0.0532 | Mean activity 0.1617\n",
      "DMS Iter.  446 | Accuracy 0.8662 | perf loss 0.1228 | Spike loss 0.4940 | Weight loss 0.0532 | Mean activity 0.1557\n",
      "DMS Iter.  447 | Accuracy 0.8810 | perf loss 0.1105 | Spike loss 0.4774 | Weight loss 0.0532 | Mean activity 0.1523\n",
      "DMS Iter.  448 | Accuracy 0.8926 | perf loss 0.1206 | Spike loss 0.4446 | Weight loss 0.0532 | Mean activity 0.1464\n",
      "DMS Iter.  449 | Accuracy 0.8777 | perf loss 0.1190 | Spike loss 0.4125 | Weight loss 0.0533 | Mean activity 0.1425\n",
      "DMS Iter.  450 | Accuracy 0.8931 | perf loss 0.1155 | Spike loss 0.4222 | Weight loss 0.0533 | Mean activity 0.1443\n",
      "DMS Iter.  451 | Accuracy 0.8915 | perf loss 0.1116 | Spike loss 0.4054 | Weight loss 0.0533 | Mean activity 0.1438\n",
      "DMS Iter.  452 | Accuracy 0.8934 | perf loss 0.1082 | Spike loss 0.4133 | Weight loss 0.0533 | Mean activity 0.1458\n",
      "DMS Iter.  453 | Accuracy 0.8968 | perf loss 0.1107 | Spike loss 0.4158 | Weight loss 0.0534 | Mean activity 0.1457\n",
      "DMS Iter.  454 | Accuracy 0.8938 | perf loss 0.1120 | Spike loss 0.4275 | Weight loss 0.0534 | Mean activity 0.1469\n",
      "DMS Iter.  455 | Accuracy 0.9035 | perf loss 0.1109 | Spike loss 0.4459 | Weight loss 0.0535 | Mean activity 0.1490\n",
      "DMS Iter.  456 | Accuracy 0.9217 | perf loss 0.1035 | Spike loss 0.4428 | Weight loss 0.0535 | Mean activity 0.1478\n",
      "DMS Iter.  457 | Accuracy 0.9163 | perf loss 0.1097 | Spike loss 0.4341 | Weight loss 0.0536 | Mean activity 0.1447\n",
      "DMS Iter.  458 | Accuracy 0.8972 | perf loss 0.1136 | Spike loss 0.4341 | Weight loss 0.0537 | Mean activity 0.1447\n",
      "DMS Iter.  459 | Accuracy 0.8923 | perf loss 0.1131 | Spike loss 0.4441 | Weight loss 0.0538 | Mean activity 0.1471\n",
      "DMS Iter.  460 | Accuracy 0.9036 | perf loss 0.1098 | Spike loss 0.4646 | Weight loss 0.0539 | Mean activity 0.1485\n",
      "DMS Iter.  461 | Accuracy 0.9219 | perf loss 0.0982 | Spike loss 0.5018 | Weight loss 0.0540 | Mean activity 0.1510\n",
      "DMS Iter.  462 | Accuracy 0.9065 | perf loss 0.1063 | Spike loss 0.5259 | Weight loss 0.0542 | Mean activity 0.1532\n",
      "DMS Iter.  463 | Accuracy 0.8996 | perf loss 0.1105 | Spike loss 0.5386 | Weight loss 0.0543 | Mean activity 0.1578\n",
      "DMS Iter.  464 | Accuracy 0.9084 | perf loss 0.1032 | Spike loss 0.5968 | Weight loss 0.0545 | Mean activity 0.1646\n",
      "DMS Iter.  465 | Accuracy 0.9174 | perf loss 0.1001 | Spike loss 0.6071 | Weight loss 0.0546 | Mean activity 0.1641\n",
      "DMS Iter.  466 | Accuracy 0.9120 | perf loss 0.1115 | Spike loss 0.6065 | Weight loss 0.0548 | Mean activity 0.1643\n",
      "DMS Iter.  467 | Accuracy 0.8959 | perf loss 0.1104 | Spike loss 0.6452 | Weight loss 0.0549 | Mean activity 0.1642\n",
      "DMS Iter.  468 | Accuracy 0.9037 | perf loss 0.1280 | Spike loss 0.6544 | Weight loss 0.0551 | Mean activity 0.1651\n",
      "DMS Iter.  469 | Accuracy 0.8860 | perf loss 0.1501 | Spike loss 0.6387 | Weight loss 0.0552 | Mean activity 0.1653\n",
      "DMS Iter.  470 | Accuracy 0.9057 | perf loss 0.1133 | Spike loss 0.5961 | Weight loss 0.0554 | Mean activity 0.1652\n",
      "DMS Iter.  471 | Accuracy 0.9043 | perf loss 0.1118 | Spike loss 0.6186 | Weight loss 0.0555 | Mean activity 0.1671\n",
      "DMS Iter.  472 | Accuracy 0.8988 | perf loss 0.1125 | Spike loss 0.5649 | Weight loss 0.0556 | Mean activity 0.1678\n",
      "DMS Iter.  473 | Accuracy 0.9127 | perf loss 0.1143 | Spike loss 0.5544 | Weight loss 0.0557 | Mean activity 0.1658\n",
      "DMS Iter.  474 | Accuracy 0.9152 | perf loss 0.1050 | Spike loss 0.5453 | Weight loss 0.0558 | Mean activity 0.1640\n",
      "DMS Iter.  475 | Accuracy 0.9053 | perf loss 0.1038 | Spike loss 0.5353 | Weight loss 0.0559 | Mean activity 0.1614\n",
      "DMS Iter.  476 | Accuracy 0.8829 | perf loss 0.1143 | Spike loss 0.5043 | Weight loss 0.0560 | Mean activity 0.1569\n",
      "DMS Iter.  477 | Accuracy 0.8886 | perf loss 0.1097 | Spike loss 0.4751 | Weight loss 0.0561 | Mean activity 0.1517\n",
      "DMS Iter.  478 | Accuracy 0.8913 | perf loss 0.1117 | Spike loss 0.4787 | Weight loss 0.0562 | Mean activity 0.1529\n",
      "DMS Iter.  479 | Accuracy 0.9114 | perf loss 0.1074 | Spike loss 0.4690 | Weight loss 0.0563 | Mean activity 0.1541\n",
      "DMS Iter.  480 | Accuracy 0.9252 | perf loss 0.1046 | Spike loss 0.4875 | Weight loss 0.0564 | Mean activity 0.1587\n",
      "DMS Iter.  481 | Accuracy 0.9267 | perf loss 0.0965 | Spike loss 0.4935 | Weight loss 0.0565 | Mean activity 0.1589\n",
      "DMS Iter.  482 | Accuracy 0.9206 | perf loss 0.1046 | Spike loss 0.4672 | Weight loss 0.0566 | Mean activity 0.1557\n",
      "DMS Iter.  483 | Accuracy 0.9130 | perf loss 0.1117 | Spike loss 0.4566 | Weight loss 0.0567 | Mean activity 0.1535\n",
      "DMS Iter.  484 | Accuracy 0.9277 | perf loss 0.1003 | Spike loss 0.4926 | Weight loss 0.0568 | Mean activity 0.1572\n",
      "DMS Iter.  485 | Accuracy 0.9139 | perf loss 0.1008 | Spike loss 0.5124 | Weight loss 0.0569 | Mean activity 0.1582\n",
      "DMS Iter.  486 | Accuracy 0.9294 | perf loss 0.0979 | Spike loss 0.5640 | Weight loss 0.0570 | Mean activity 0.1634\n",
      "DMS Iter.  487 | Accuracy 0.9175 | perf loss 0.1065 | Spike loss 0.5973 | Weight loss 0.0572 | Mean activity 0.1677\n",
      "DMS Iter.  488 | Accuracy 0.9092 | perf loss 0.1106 | Spike loss 0.5923 | Weight loss 0.0573 | Mean activity 0.1678\n",
      "DMS Iter.  489 | Accuracy 0.9228 | perf loss 0.1056 | Spike loss 0.5409 | Weight loss 0.0574 | Mean activity 0.1620\n",
      "DMS Iter.  490 | Accuracy 0.9123 | perf loss 0.1059 | Spike loss 0.5112 | Weight loss 0.0575 | Mean activity 0.1564\n",
      "DMS Iter.  491 | Accuracy 0.8959 | perf loss 0.1118 | Spike loss 0.4882 | Weight loss 0.0576 | Mean activity 0.1537\n",
      "DMS Iter.  492 | Accuracy 0.9184 | perf loss 0.1205 | Spike loss 0.4942 | Weight loss 0.0577 | Mean activity 0.1541\n",
      "DMS Iter.  493 | Accuracy 0.9198 | perf loss 0.1055 | Spike loss 0.4940 | Weight loss 0.0577 | Mean activity 0.1541\n",
      "DMS Iter.  494 | Accuracy 0.9283 | perf loss 0.0978 | Spike loss 0.4978 | Weight loss 0.0578 | Mean activity 0.1553\n",
      "DMS Iter.  495 | Accuracy 0.9347 | perf loss 0.0972 | Spike loss 0.5146 | Weight loss 0.0580 | Mean activity 0.1572\n",
      "DMS Iter.  496 | Accuracy 0.9258 | perf loss 0.1008 | Spike loss 0.5224 | Weight loss 0.0581 | Mean activity 0.1577\n",
      "DMS Iter.  497 | Accuracy 0.9001 | perf loss 0.1084 | Spike loss 0.5407 | Weight loss 0.0583 | Mean activity 0.1604\n",
      "DMS Iter.  498 | Accuracy 0.9093 | perf loss 0.1111 | Spike loss 0.5257 | Weight loss 0.0584 | Mean activity 0.1604\n",
      "DMS Iter.  499 | Accuracy 0.9269 | perf loss 0.0986 | Spike loss 0.5412 | Weight loss 0.0585 | Mean activity 0.1613\n"
     ]
    }
   ],
   "source": [
    "with tf.Session(graph=tf.get_default_graph()) as sess: \n",
    "    sess.run(tf.global_variables_initializer())\n",
    "    K.set_session(sess)\n",
    "    model = model_from_json(loaded_model_json)\n",
    "    model.load_weights(\"model.h5\")\n",
    "    OPTIM = Adam()\n",
    "    model.compile(loss='categorical_crossentropy', optimizer=OPTIM, metrics=['accuracy'])\n",
    "    \n",
    "    for i in range(par['num_iterations']):\n",
    "        trial_info = eyeTrial.generate_trial(model, img_list)\n",
    "        res_train_op, res_loss, res_perf_loss,res_spike_loss, res_weight_loss, res_y, res_h = \\\n",
    "        sess.run([train_op, loss, perf_loss, spike_loss, weight_loss, y, h],\n",
    "        feed_dict = {x: trial_info['neural_input'],   # neural_input \n",
    "                     t: trial_info['desired_output'], # desired_output\n",
    "                     m: mask}) # train_mask\n",
    "        \n",
    "        accuracy = get_accuracy(trial_info['desired_output'][eyeTrial.rg_test,:,:], res_y[eyeTrial.rg_test,:,:])\n",
    "        model_performance = append_model_performance(model_performance, accuracy, res_loss, res_perf_loss, res_spike_loss, res_weight_loss, i)\n",
    "        print_results(i,res_perf_loss, res_spike_loss, res_weight_loss, res_h, accuracy)\n",
    "        if i%par['iters_between_outputs']==0:\n",
    "            weights = sess.run(var_dict)\n",
    "#             print_results(i,res_perf_loss, res_spike_loss, res_weight_loss, res_h, accuracy)        \n",
    "            \n"
   ]
  },
  {
   "cell_type": "code",
   "execution_count": 89,
   "metadata": {
    "collapsed": true,
    "jupyter": {
     "outputs_hidden": true
    }
   },
   "outputs": [
    {
     "ename": "RuntimeError",
     "evalue": "Attempted to use a closed Session.",
     "output_type": "error",
     "traceback": [
      "\u001b[0;31m---------------------------------------------------------------------------\u001b[0m",
      "\u001b[0;31mRuntimeError\u001b[0m                              Traceback (most recent call last)",
      "\u001b[0;32m<ipython-input-89-bebb845e2e1e>\u001b[0m in \u001b[0;36m<module>\u001b[0;34m\u001b[0m\n\u001b[1;32m      3\u001b[0m \u001b[0;34m\u001b[0m\u001b[0m\n\u001b[1;32m      4\u001b[0m \u001b[0mmodel\u001b[0m \u001b[0;34m=\u001b[0m \u001b[0mmodel_from_json\u001b[0m\u001b[0;34m(\u001b[0m\u001b[0mloaded_model_json\u001b[0m\u001b[0;34m)\u001b[0m\u001b[0;34m\u001b[0m\u001b[0;34m\u001b[0m\u001b[0m\n\u001b[0;32m----> 5\u001b[0;31m \u001b[0mmodel\u001b[0m\u001b[0;34m.\u001b[0m\u001b[0mload_weights\u001b[0m\u001b[0;34m(\u001b[0m\u001b[0;34m\"model.h5\"\u001b[0m\u001b[0;34m)\u001b[0m\u001b[0;34m\u001b[0m\u001b[0;34m\u001b[0m\u001b[0m\n\u001b[0m\u001b[1;32m      6\u001b[0m \u001b[0mOPTIM\u001b[0m \u001b[0;34m=\u001b[0m \u001b[0mAdam\u001b[0m\u001b[0;34m(\u001b[0m\u001b[0;34m)\u001b[0m\u001b[0;34m\u001b[0m\u001b[0;34m\u001b[0m\u001b[0m\n\u001b[1;32m      7\u001b[0m \u001b[0mmodel\u001b[0m\u001b[0;34m.\u001b[0m\u001b[0mcompile\u001b[0m\u001b[0;34m(\u001b[0m\u001b[0mloss\u001b[0m\u001b[0;34m=\u001b[0m\u001b[0;34m'categorical_crossentropy'\u001b[0m\u001b[0;34m,\u001b[0m \u001b[0moptimizer\u001b[0m\u001b[0;34m=\u001b[0m\u001b[0mOPTIM\u001b[0m\u001b[0;34m,\u001b[0m \u001b[0mmetrics\u001b[0m\u001b[0;34m=\u001b[0m\u001b[0;34m[\u001b[0m\u001b[0;34m'accuracy'\u001b[0m\u001b[0;34m]\u001b[0m\u001b[0;34m)\u001b[0m\u001b[0;34m\u001b[0m\u001b[0;34m\u001b[0m\u001b[0m\n",
      "\u001b[0;32m~/anaconda3/lib/python3.7/site-packages/keras/engine/saving.py\u001b[0m in \u001b[0;36mload_wrapper\u001b[0;34m(*args, **kwargs)\u001b[0m\n\u001b[1;32m    490\u001b[0m                 \u001b[0mos\u001b[0m\u001b[0;34m.\u001b[0m\u001b[0mremove\u001b[0m\u001b[0;34m(\u001b[0m\u001b[0mtmp_filepath\u001b[0m\u001b[0;34m)\u001b[0m\u001b[0;34m\u001b[0m\u001b[0;34m\u001b[0m\u001b[0m\n\u001b[1;32m    491\u001b[0m             \u001b[0;32mreturn\u001b[0m \u001b[0mres\u001b[0m\u001b[0;34m\u001b[0m\u001b[0;34m\u001b[0m\u001b[0m\n\u001b[0;32m--> 492\u001b[0;31m         \u001b[0;32mreturn\u001b[0m \u001b[0mload_function\u001b[0m\u001b[0;34m(\u001b[0m\u001b[0;34m*\u001b[0m\u001b[0margs\u001b[0m\u001b[0;34m,\u001b[0m \u001b[0;34m**\u001b[0m\u001b[0mkwargs\u001b[0m\u001b[0;34m)\u001b[0m\u001b[0;34m\u001b[0m\u001b[0;34m\u001b[0m\u001b[0m\n\u001b[0m\u001b[1;32m    493\u001b[0m \u001b[0;34m\u001b[0m\u001b[0m\n\u001b[1;32m    494\u001b[0m     \u001b[0;32mreturn\u001b[0m \u001b[0mload_wrapper\u001b[0m\u001b[0;34m\u001b[0m\u001b[0;34m\u001b[0m\u001b[0m\n",
      "\u001b[0;32m~/anaconda3/lib/python3.7/site-packages/keras/engine/network.py\u001b[0m in \u001b[0;36mload_weights\u001b[0;34m(self, filepath, by_name, skip_mismatch, reshape)\u001b[0m\n\u001b[1;32m   1228\u001b[0m             \u001b[0;32melse\u001b[0m\u001b[0;34m:\u001b[0m\u001b[0;34m\u001b[0m\u001b[0;34m\u001b[0m\u001b[0m\n\u001b[1;32m   1229\u001b[0m                 saving.load_weights_from_hdf5_group(\n\u001b[0;32m-> 1230\u001b[0;31m                     f, self.layers, reshape=reshape)\n\u001b[0m\u001b[1;32m   1231\u001b[0m             \u001b[0;32mif\u001b[0m \u001b[0mhasattr\u001b[0m\u001b[0;34m(\u001b[0m\u001b[0mf\u001b[0m\u001b[0;34m,\u001b[0m \u001b[0;34m'close'\u001b[0m\u001b[0;34m)\u001b[0m\u001b[0;34m:\u001b[0m\u001b[0;34m\u001b[0m\u001b[0;34m\u001b[0m\u001b[0m\n\u001b[1;32m   1232\u001b[0m                 \u001b[0mf\u001b[0m\u001b[0;34m.\u001b[0m\u001b[0mclose\u001b[0m\u001b[0;34m(\u001b[0m\u001b[0;34m)\u001b[0m\u001b[0;34m\u001b[0m\u001b[0;34m\u001b[0m\u001b[0m\n",
      "\u001b[0;32m~/anaconda3/lib/python3.7/site-packages/keras/engine/saving.py\u001b[0m in \u001b[0;36mload_weights_from_hdf5_group\u001b[0;34m(f, layers, reshape)\u001b[0m\n\u001b[1;32m   1235\u001b[0m                              ' elements.')\n\u001b[1;32m   1236\u001b[0m         \u001b[0mweight_value_tuples\u001b[0m \u001b[0;34m+=\u001b[0m \u001b[0mzip\u001b[0m\u001b[0;34m(\u001b[0m\u001b[0msymbolic_weights\u001b[0m\u001b[0;34m,\u001b[0m \u001b[0mweight_values\u001b[0m\u001b[0;34m)\u001b[0m\u001b[0;34m\u001b[0m\u001b[0;34m\u001b[0m\u001b[0m\n\u001b[0;32m-> 1237\u001b[0;31m     \u001b[0mK\u001b[0m\u001b[0;34m.\u001b[0m\u001b[0mbatch_set_value\u001b[0m\u001b[0;34m(\u001b[0m\u001b[0mweight_value_tuples\u001b[0m\u001b[0;34m)\u001b[0m\u001b[0;34m\u001b[0m\u001b[0;34m\u001b[0m\u001b[0m\n\u001b[0m\u001b[1;32m   1238\u001b[0m \u001b[0;34m\u001b[0m\u001b[0m\n\u001b[1;32m   1239\u001b[0m \u001b[0;34m\u001b[0m\u001b[0m\n",
      "\u001b[0;32m~/anaconda3/lib/python3.7/site-packages/keras/backend/tensorflow_backend.py\u001b[0m in \u001b[0;36mbatch_set_value\u001b[0;34m(tuples)\u001b[0m\n\u001b[1;32m   2958\u001b[0m             \u001b[0;31m`\u001b[0m\u001b[0mvalue\u001b[0m\u001b[0;31m`\u001b[0m \u001b[0mshould\u001b[0m \u001b[0mbe\u001b[0m \u001b[0ma\u001b[0m \u001b[0mNumpy\u001b[0m \u001b[0marray\u001b[0m\u001b[0;34m.\u001b[0m\u001b[0;34m\u001b[0m\u001b[0;34m\u001b[0m\u001b[0m\n\u001b[1;32m   2959\u001b[0m     \"\"\"\n\u001b[0;32m-> 2960\u001b[0;31m     \u001b[0mtf_keras_backend\u001b[0m\u001b[0;34m.\u001b[0m\u001b[0mbatch_set_value\u001b[0m\u001b[0;34m(\u001b[0m\u001b[0mtuples\u001b[0m\u001b[0;34m)\u001b[0m\u001b[0;34m\u001b[0m\u001b[0;34m\u001b[0m\u001b[0m\n\u001b[0m\u001b[1;32m   2961\u001b[0m \u001b[0;34m\u001b[0m\u001b[0m\n\u001b[1;32m   2962\u001b[0m \u001b[0;34m\u001b[0m\u001b[0m\n",
      "\u001b[0;32m~/anaconda3/lib/python3.7/site-packages/tensorflow/python/keras/backend.py\u001b[0m in \u001b[0;36mbatch_set_value\u001b[0;34m(tuples)\u001b[0m\n\u001b[1;32m   3069\u001b[0m           \u001b[0massign_ops\u001b[0m\u001b[0;34m.\u001b[0m\u001b[0mappend\u001b[0m\u001b[0;34m(\u001b[0m\u001b[0massign_op\u001b[0m\u001b[0;34m)\u001b[0m\u001b[0;34m\u001b[0m\u001b[0;34m\u001b[0m\u001b[0m\n\u001b[1;32m   3070\u001b[0m           \u001b[0mfeed_dict\u001b[0m\u001b[0;34m[\u001b[0m\u001b[0massign_placeholder\u001b[0m\u001b[0;34m]\u001b[0m \u001b[0;34m=\u001b[0m \u001b[0mvalue\u001b[0m\u001b[0;34m\u001b[0m\u001b[0;34m\u001b[0m\u001b[0m\n\u001b[0;32m-> 3071\u001b[0;31m         \u001b[0mget_session\u001b[0m\u001b[0;34m(\u001b[0m\u001b[0;34m)\u001b[0m\u001b[0;34m.\u001b[0m\u001b[0mrun\u001b[0m\u001b[0;34m(\u001b[0m\u001b[0massign_ops\u001b[0m\u001b[0;34m,\u001b[0m \u001b[0mfeed_dict\u001b[0m\u001b[0;34m=\u001b[0m\u001b[0mfeed_dict\u001b[0m\u001b[0;34m)\u001b[0m\u001b[0;34m\u001b[0m\u001b[0;34m\u001b[0m\u001b[0m\n\u001b[0m\u001b[1;32m   3072\u001b[0m \u001b[0;34m\u001b[0m\u001b[0m\n\u001b[1;32m   3073\u001b[0m \u001b[0;34m\u001b[0m\u001b[0m\n",
      "\u001b[0;32m~/anaconda3/lib/python3.7/site-packages/tensorflow/python/keras/backend.py\u001b[0m in \u001b[0;36mget_session\u001b[0;34m(op_input_list)\u001b[0m\n\u001b[1;32m    460\u001b[0m   \u001b[0;32mif\u001b[0m \u001b[0;32mnot\u001b[0m \u001b[0m_MANUAL_VAR_INIT\u001b[0m\u001b[0;34m:\u001b[0m\u001b[0;34m\u001b[0m\u001b[0;34m\u001b[0m\u001b[0m\n\u001b[1;32m    461\u001b[0m     \u001b[0;32mwith\u001b[0m \u001b[0msession\u001b[0m\u001b[0;34m.\u001b[0m\u001b[0mgraph\u001b[0m\u001b[0;34m.\u001b[0m\u001b[0mas_default\u001b[0m\u001b[0;34m(\u001b[0m\u001b[0;34m)\u001b[0m\u001b[0;34m:\u001b[0m\u001b[0;34m\u001b[0m\u001b[0;34m\u001b[0m\u001b[0m\n\u001b[0;32m--> 462\u001b[0;31m       \u001b[0m_initialize_variables\u001b[0m\u001b[0;34m(\u001b[0m\u001b[0msession\u001b[0m\u001b[0;34m)\u001b[0m\u001b[0;34m\u001b[0m\u001b[0;34m\u001b[0m\u001b[0m\n\u001b[0m\u001b[1;32m    463\u001b[0m   \u001b[0;32mreturn\u001b[0m \u001b[0msession\u001b[0m\u001b[0;34m\u001b[0m\u001b[0;34m\u001b[0m\u001b[0m\n\u001b[1;32m    464\u001b[0m \u001b[0;34m\u001b[0m\u001b[0m\n",
      "\u001b[0;32m~/anaconda3/lib/python3.7/site-packages/tensorflow/python/keras/backend.py\u001b[0m in \u001b[0;36m_initialize_variables\u001b[0;34m(session)\u001b[0m\n\u001b[1;32m    877\u001b[0m     \u001b[0;31m# marked as initialized.\u001b[0m\u001b[0;34m\u001b[0m\u001b[0;34m\u001b[0m\u001b[0;34m\u001b[0m\u001b[0m\n\u001b[1;32m    878\u001b[0m     is_initialized = session.run(\n\u001b[0;32m--> 879\u001b[0;31m         [variables_module.is_variable_initialized(v) for v in candidate_vars])\n\u001b[0m\u001b[1;32m    880\u001b[0m     \u001b[0muninitialized_vars\u001b[0m \u001b[0;34m=\u001b[0m \u001b[0;34m[\u001b[0m\u001b[0;34m]\u001b[0m\u001b[0;34m\u001b[0m\u001b[0;34m\u001b[0m\u001b[0m\n\u001b[1;32m    881\u001b[0m     \u001b[0;32mfor\u001b[0m \u001b[0mflag\u001b[0m\u001b[0;34m,\u001b[0m \u001b[0mv\u001b[0m \u001b[0;32min\u001b[0m \u001b[0mzip\u001b[0m\u001b[0;34m(\u001b[0m\u001b[0mis_initialized\u001b[0m\u001b[0;34m,\u001b[0m \u001b[0mcandidate_vars\u001b[0m\u001b[0;34m)\u001b[0m\u001b[0;34m:\u001b[0m\u001b[0;34m\u001b[0m\u001b[0;34m\u001b[0m\u001b[0m\n",
      "\u001b[0;32m~/anaconda3/lib/python3.7/site-packages/tensorflow/python/client/session.py\u001b[0m in \u001b[0;36mrun\u001b[0;34m(self, fetches, feed_dict, options, run_metadata)\u001b[0m\n\u001b[1;32m    948\u001b[0m     \u001b[0;32mtry\u001b[0m\u001b[0;34m:\u001b[0m\u001b[0;34m\u001b[0m\u001b[0;34m\u001b[0m\u001b[0m\n\u001b[1;32m    949\u001b[0m       result = self._run(None, fetches, feed_dict, options_ptr,\n\u001b[0;32m--> 950\u001b[0;31m                          run_metadata_ptr)\n\u001b[0m\u001b[1;32m    951\u001b[0m       \u001b[0;32mif\u001b[0m \u001b[0mrun_metadata\u001b[0m\u001b[0;34m:\u001b[0m\u001b[0;34m\u001b[0m\u001b[0;34m\u001b[0m\u001b[0m\n\u001b[1;32m    952\u001b[0m         \u001b[0mproto_data\u001b[0m \u001b[0;34m=\u001b[0m \u001b[0mtf_session\u001b[0m\u001b[0;34m.\u001b[0m\u001b[0mTF_GetBuffer\u001b[0m\u001b[0;34m(\u001b[0m\u001b[0mrun_metadata_ptr\u001b[0m\u001b[0;34m)\u001b[0m\u001b[0;34m\u001b[0m\u001b[0;34m\u001b[0m\u001b[0m\n",
      "\u001b[0;32m~/anaconda3/lib/python3.7/site-packages/tensorflow/python/client/session.py\u001b[0m in \u001b[0;36m_run\u001b[0;34m(self, handle, fetches, feed_dict, options, run_metadata)\u001b[0m\n\u001b[1;32m   1094\u001b[0m     \u001b[0;31m# Check session.\u001b[0m\u001b[0;34m\u001b[0m\u001b[0;34m\u001b[0m\u001b[0;34m\u001b[0m\u001b[0m\n\u001b[1;32m   1095\u001b[0m     \u001b[0;32mif\u001b[0m \u001b[0mself\u001b[0m\u001b[0;34m.\u001b[0m\u001b[0m_closed\u001b[0m\u001b[0;34m:\u001b[0m\u001b[0;34m\u001b[0m\u001b[0;34m\u001b[0m\u001b[0m\n\u001b[0;32m-> 1096\u001b[0;31m       \u001b[0;32mraise\u001b[0m \u001b[0mRuntimeError\u001b[0m\u001b[0;34m(\u001b[0m\u001b[0;34m'Attempted to use a closed Session.'\u001b[0m\u001b[0;34m)\u001b[0m\u001b[0;34m\u001b[0m\u001b[0;34m\u001b[0m\u001b[0m\n\u001b[0m\u001b[1;32m   1097\u001b[0m     \u001b[0;32mif\u001b[0m \u001b[0mself\u001b[0m\u001b[0;34m.\u001b[0m\u001b[0mgraph\u001b[0m\u001b[0;34m.\u001b[0m\u001b[0mversion\u001b[0m \u001b[0;34m==\u001b[0m \u001b[0;36m0\u001b[0m\u001b[0;34m:\u001b[0m\u001b[0;34m\u001b[0m\u001b[0;34m\u001b[0m\u001b[0m\n\u001b[1;32m   1098\u001b[0m       raise RuntimeError('The Session graph is empty.  Add operations to the '\n",
      "\u001b[0;31mRuntimeError\u001b[0m: Attempted to use a closed Session."
     ]
    }
   ],
   "source": [
    "eyeTrial.discrim = 2\n",
    "eyeTrial.condition = [0,1]\n",
    "\n",
    "model = model_from_json(loaded_model_json)\n",
    "model.load_weights(\"model.h5\")\n",
    "OPTIM = Adam()\n",
    "model.compile(loss='categorical_crossentropy', optimizer=OPTIM, metrics=['accuracy'])\n",
    "\n",
    "trial_info = eyeTrial.generate_trial(model, img_list)\n",
    "res_h, res_y = run_model_trial(weights, weights['w_rnn'],trial_info['neural_input'])"
   ]
  },
  {
   "cell_type": "code",
   "execution_count": 86,
   "metadata": {},
   "outputs": [],
   "source": [
    "def rnn_cell_trial(rnn_input, h, var_dict, w_rnn):\n",
    "    # no STSP\n",
    "    h_post = h\n",
    "\n",
    "    # Update the hidden state. Only use excitatory projections from input layer to RNN\n",
    "    # All input and RNN activity will be non-negative\n",
    "    h = np.maximum(h * (1-par['alpha_neuron'])\n",
    "        + par['alpha_neuron'] * (rnn_input @ np.maximum(var_dict['w_in'],0)\n",
    "        + h_post @ (w_rnn*par['w_rnn_mask']) + var_dict['b_rnn'])\n",
    "        + np.random.normal(loc=0, scale=par['noise_rnn'], size=h.shape, dtype=np.float32),0)\n",
    "\n",
    "    return h"
   ]
  },
  {
   "cell_type": "code",
   "execution_count": 87,
   "metadata": {},
   "outputs": [],
   "source": [
    "def run_model_trial(var_dict, w_rnn, input_data):\n",
    "    # Main model loop\n",
    "    h = []\n",
    "    y = []\n",
    "    h_ = var_dict['h']\n",
    "\n",
    "    # Loop through the neural inputs to the RNN, indexed in time\n",
    "    for i in range(len(input_data)):\n",
    "        h_ = rnn_cell_trial(input_data[i], h_, var_dict, w_rnn)\n",
    "        h.append(h_)\n",
    "        y.append(h_ @ np.maximum(var_dict['w_out'],0) + var_dict['b_out'])\n",
    "        \n",
    "    h = np.stack(h)\n",
    "    y = np.stack(y)\n",
    "\n",
    "    return h, y"
   ]
  },
  {
   "cell_type": "code",
   "execution_count": null,
   "metadata": {},
   "outputs": [],
   "source": [
    "with tf.Session(graph=tf.get_default_graph()) as sess: \n",
    "    sess.run(tf.global_variables_initializer())\n",
    "    K.set_session(sess)\n",
    "    model = model_from_json(loaded_model_json)\n",
    "    model.load_weights(\"model.h5\")\n",
    "    OPTIM = Adam()\n",
    "    model.compile(loss='categorical_crossentropy', optimizer=OPTIM, metrics=['accuracy'])\n",
    "    \n",
    "    for i in range(par['num_iterations']):\n",
    "        trial_info = eyeTrial.generate_trial(model, img_list)\n",
    "        res_train_op, res_loss, res_perf_loss,res_spike_loss, res_weight_loss, res_y, res_h = \\\n",
    "        sess.run([train_op, loss, perf_loss, spike_loss, weight_loss, y, h],\n",
    "        feed_dict = {x: trial_info['neural_input'],   # neural_input \n",
    "                     t: trial_info['desired_output'], # desired_output\n",
    "                     m: mask}) # train_mask\n",
    "        \n",
    "        accuracy = get_accuracy(trial_info['desired_output'][eyeTrial.rg_test,:,:], res_y[eyeTrial.rg_test,:,:])\n",
    "        model_performance = append_model_performance(model_performance, accuracy, res_loss, res_perf_loss, res_spike_loss, res_weight_loss, i)\n",
    "        print_results(i,res_perf_loss, res_spike_loss, res_weight_loss, res_h, accuracy)\n",
    "        if i%par['iters_between_outputs']==0:\n",
    "            weights = sess.run(var_dict)"
   ]
  },
  {
   "cell_type": "code",
   "execution_count": 79,
   "metadata": {},
   "outputs": [
    {
     "data": {
      "image/png": "[encoded data removed]",
      "text/plain": [
       "<Figure size 432x288 with 1 Axes>"
      ]
     },
     "metadata": {
      "needs_background": "light"
     },
     "output_type": "display_data"
    }
   ],
   "source": [
    "plt.imshow(weights['w_rnn'], cmap='gray')\n",
    "plt.show()"
   ]
  },
  {
   "cell_type": "code",
   "execution_count": 74,
   "metadata": {},
   "outputs": [
    {
     "data": {
      "image/png": "[encoded data removed]",
      "text/plain": [
       "<Figure size 439.2x72 with 1 Axes>"
      ]
     },
     "metadata": {
      "needs_background": "light"
     },
     "output_type": "display_data"
    },
    {
     "data": {
      "image/png": "[encoded data removed]",
      "text/plain": [
       "<Figure size 439.2x72 with 1 Axes>"
      ]
     },
     "metadata": {
      "needs_background": "light"
     },
     "output_type": "display_data"
    },
    {
     "name": "stdout",
     "output_type": "stream",
     "text": [
      "24\n",
      "[2 1]\n",
      "20\n"
     ]
    }
   ],
   "source": [
    "t = np.random.randint(eyeTrial.batchSize)\n",
    "\n",
    "plt.figure(figsize = (6.1,1))\n",
    "plt.imshow(res_y[:,t,:].T, aspect='auto')\n",
    "plt.show()\n",
    "\n",
    "plt.figure(figsize = (6.1,1))\n",
    "plt.imshow(trial_info['desired_output'][:,t,:].T, aspect='auto')\n",
    "plt.show()\n",
    "\n",
    "print(trial_info['sample_face'][t])\n",
    "print(trial_info['conditions'][t,:])\n",
    "print(trial_info['test_face'][t])"
   ]
  },
  {
   "cell_type": "code",
   "execution_count": 91,
   "metadata": {},
   "outputs": [
    {
     "data": {
      "text/plain": [
       "(100, 512, 2)"
      ]
     },
     "execution_count": 91,
     "metadata": {},
     "output_type": "execute_result"
    }
   ],
   "source": [
    "res_y.shape"
   ]
  },
  {
   "cell_type": "code",
   "execution_count": 31,
   "metadata": {},
   "outputs": [
    {
     "data": {
      "image/png": "[encoded data removed]",
      "text/plain": [
       "<Figure size 432x288 with 1 Axes>"
      ]
     },
     "metadata": {
      "needs_background": "light"
     },
     "output_type": "display_data"
    },
    {
     "data": {
      "image/png": "[encoded data removed]",
      "text/plain": [
       "<Figure size 439.2x72 with 1 Axes>"
      ]
     },
     "metadata": {
      "needs_background": "light"
     },
     "output_type": "display_data"
    }
   ],
   "source": [
    "t = np.random.randint(eyeTrial.batchSize)\n",
    "\n",
    "plt.imshow(trial_info['neural_input'][:,t,:32].T)\n",
    "plt.show()\n",
    "plt.figure(figsize = (6.1,1))\n",
    "plt.imshow(trial_info['desired_output'][:,t,:].T, aspect='auto')\n",
    "plt.show()\n",
    "\n"
   ]
  }
 ],
 "metadata": {
  "kernelspec": {
   "display_name": "Python 3",
   "language": "python",
   "name": "python3"
  },
  "language_info": {
   "codemirror_mode": {
    "name": "ipython",
    "version": 3
   },
   "file_extension": ".py",
   "mimetype": "text/x-python",
   "name": "python",
   "nbconvert_exporter": "python",
   "pygments_lexer": "ipython3",
   "version": "3.7.3"
  }
 },
 "nbformat": 4,
 "nbformat_minor": 4
}
