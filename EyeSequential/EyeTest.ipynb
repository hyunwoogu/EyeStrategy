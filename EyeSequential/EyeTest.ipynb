{
 "cells": [
  {
   "cell_type": "code",
   "execution_count": 1,
   "metadata": {},
   "outputs": [
    {
     "name": "stderr",
     "output_type": "stream",
     "text": [
      "Using TensorFlow backend.\n"
     ]
    }
   ],
   "source": [
    "import os\n",
    "import h5py\n",
    "import cv2 # pip install opencv-python\n",
    "\n",
    "import scipy.ndimage as sp\n",
    "import pandas as pd\n",
    "import seaborn as sns\n",
    "import numpy as np\n",
    "import tensorflow as tf\n",
    "import random\n",
    "import pickle\n",
    "\n",
    "import matplotlib.pyplot as plt\n",
    "import matplotlib.patches as patches\n",
    "import matplotlib.cm as cm\n",
    "\n",
    "from PIL import Image\n",
    "from scipy.ndimage.filters import gaussian_filter\n",
    "\n",
    "from keras.models import Sequential, Model, model_from_json\n",
    "from keras.layers import Subtract, Input\n",
    "from keras.layers.core import Dense, Dropout, Activation, Flatten\n",
    "from keras.layers.convolutional import Conv1D, MaxPooling1D, Conv2D, MaxPooling2D\n",
    "from keras.optimizers import SGD, Adam, RMSprop\n",
    "from keras.utils import np_utils\n",
    "import keras.backend as K \n",
    "\n",
    "%matplotlib inline"
   ]
  },
  {
   "cell_type": "code",
   "execution_count": 2,
   "metadata": {},
   "outputs": [],
   "source": [
    "os.chdir('/Users/hyunwoogu/Dropbox/2019/2019Autumn/Graduation/ResearchGrant/experiment/stimuli')"
   ]
  },
  {
   "cell_type": "code",
   "execution_count": 3,
   "metadata": {},
   "outputs": [],
   "source": [
    "for i in range(32):\n",
    "    if i == 0:\n",
    "        img_list = cv2.imread(str(i+1) + \".png\", 1)\n",
    "        img_list = cv2.resize(img_list, (1600, 1200), interpolation=cv2.INTER_CUBIC)\n",
    "        img_list = img_list[np.newaxis,:,:,:]\n",
    "    else:\n",
    "        im = cv2.imread(str(i+1) + \".png\", 1)\n",
    "        im = cv2.resize(im, (1600, 1200), interpolation=cv2.INTER_CUBIC)\n",
    "        im = im[np.newaxis,:,:,:]\n",
    "        img_list = np.concatenate((img_list,im),axis=0)"
   ]
  },
  {
   "cell_type": "code",
   "execution_count": 4,
   "metadata": {},
   "outputs": [],
   "source": [
    "os.chdir(\"/Users/hyunwoogu/Dropbox/2019/2019Autumn/Graduation/ResearchGrant/EyeModelRes\")"
   ]
  },
  {
   "cell_type": "code",
   "execution_count": 5,
   "metadata": {},
   "outputs": [
    {
     "name": "stdout",
     "output_type": "stream",
     "text": [
      "WARNING:tensorflow:From /Users/hyunwoogu/anaconda3/lib/python3.7/site-packages/keras/backend/tensorflow_backend.py:4070: The name tf.nn.max_pool is deprecated. Please use tf.nn.max_pool2d instead.\n",
      "\n"
     ]
    }
   ],
   "source": [
    "# load json and create model\n",
    "json_file = open('model.json', 'r')\n",
    "loaded_model_json = json_file.read()\n",
    "json_file.close()\n",
    "model = model_from_json(loaded_model_json)\n",
    "\n",
    "# load weights into new model\n",
    "model.load_weights(\"model.h5\")\n",
    "\n",
    "# evaluate loaded model on test data\n",
    "OPTIM = Adam()\n",
    "model.compile(loss='categorical_crossentropy', optimizer=OPTIM, metrics=['accuracy'])"
   ]
  },
  {
   "cell_type": "code",
   "execution_count": 6,
   "metadata": {},
   "outputs": [],
   "source": [
    "par = pickle.load(open(\"par.pkl\", 'rb')) # slightly modified parameter class from Masse"
   ]
  },
  {
   "cell_type": "code",
   "execution_count": 7,
   "metadata": {},
   "outputs": [],
   "source": [
    "import SeqTrial\n",
    "eyeTrial = SeqTrial.Eye(test_mode=True)\n"
   ]
  },
  {
   "cell_type": "code",
   "execution_count": 8,
   "metadata": {},
   "outputs": [],
   "source": [
    "# desired_output = np.zeros((eyeTrial.numSteps, eyeTrial.batchSize,2), dtype=np.int32) \n",
    "# desired_output[eyeTrial.rg_test,:,:] = 1 # [1,0] : same, [0,1] : different (default)\n",
    "\n",
    "# rand_index = np.random.choice(range(eyeTrial.batchSize),int(eyeTrial.batchSize/2),replace=False) # indices for same conditions\n",
    "# desired_output[:,rand_index,1] = 0 # same conditions\n",
    "# desired_output[:,np.setxor1d(range(eyeTrial.batchSize),rand_index),0] = 0 # diff conditions\n",
    "\n",
    "# desired_output[eyeTrial.rg_test[0],:,0].astype(np.bool)"
   ]
  },
  {
   "cell_type": "code",
   "execution_count": 9,
   "metadata": {},
   "outputs": [
    {
     "name": "stdout",
     "output_type": "stream",
     "text": [
      "WARNING:tensorflow:From /Users/hyunwoogu/anaconda3/lib/python3.7/site-packages/keras/backend/tensorflow_backend.py:422: The name tf.global_variables is deprecated. Please use tf.compat.v1.global_variables instead.\n",
      "\n"
     ]
    }
   ],
   "source": [
    "trial_info = eyeTrial.generate_trial(model, img_list)"
   ]
  },
  {
   "cell_type": "code",
   "execution_count": 10,
   "metadata": {},
   "outputs": [
    {
     "data": {
      "text/plain": [
       "dict_keys(['neural_input', 'desired_output', 'sample_face', 'test_face', 'conditions'])"
      ]
     },
     "execution_count": 10,
     "metadata": {},
     "output_type": "execute_result"
    }
   ],
   "source": [
    "trial_info.keys()"
   ]
  },
  {
   "cell_type": "code",
   "execution_count": 11,
   "metadata": {},
   "outputs": [
    {
     "data": {
      "text/plain": [
       "(100, 512, 34)"
      ]
     },
     "execution_count": 11,
     "metadata": {},
     "output_type": "execute_result"
    }
   ],
   "source": [
    "trial_info['neural_input'].shape"
   ]
  },
  {
   "cell_type": "code",
   "execution_count": 27,
   "metadata": {},
   "outputs": [
    {
     "data": {
      "image/png": "[encoded data removed]",
      "text/plain": [
       "<Figure size 432x288 with 1 Axes>"
      ]
     },
     "metadata": {
      "needs_background": "light"
     },
     "output_type": "display_data"
    },
    {
     "data": {
      "image/png": "[encoded data removed]",
      "text/plain": [
       "<Figure size 439.2x72 with 1 Axes>"
      ]
     },
     "metadata": {
      "needs_background": "light"
     },
     "output_type": "display_data"
    },
    {
     "name": "stdout",
     "output_type": "stream",
     "text": [
      "4\n",
      "[0 3]\n",
      "2\n"
     ]
    }
   ],
   "source": [
    "t = np.random.randint(eyeTrial.batchSize)\n",
    "\n",
    "plt.imshow(trial_info['neural_input'][:,t,:32].T)\n",
    "plt.show()\n",
    "plt.figure(figsize = (6.1,1))\n",
    "plt.imshow(trial_info['desired_output'][:,t,:].T, aspect='auto')\n",
    "plt.show()\n",
    "\n",
    "print(trial_info['sample_face'][t])\n",
    "print(trial_info['conditions'][t,:])\n",
    "print(trial_info['test_face'][t])"
   ]
  },
  {
   "cell_type": "code",
   "execution_count": 38,
   "metadata": {},
   "outputs": [],
   "source": [
    "par['noise_rnn'] = eyeTrial.noise_sd"
   ]
  },
  {
   "cell_type": "code",
   "execution_count": 28,
   "metadata": {},
   "outputs": [],
   "source": [
    "def initialize(dims, connection_prob, shape=0.1, scale=1.0):\n",
    "    w = np.random.gamma(shape, scale, size=dims)\n",
    "    w *= (np.random.rand(*dims) < connection_prob)\n",
    "    return np.float32(w)"
   ]
  },
  {
   "cell_type": "code",
   "execution_count": 33,
   "metadata": {},
   "outputs": [],
   "source": [
    "RNNmask = 1-np.eye(par['n_hidden'])"
   ]
  },
  {
   "cell_type": "code",
   "execution_count": 36,
   "metadata": {},
   "outputs": [],
   "source": [
    "par['w_in0'] = initialize([eyeTrial.n_input, par['n_hidden']], par['connection_prob'], shape=0.2, scale=1.)\n",
    "\n",
    "# RNN weight\n",
    "par['w_rnn_mask'] = RNNmask\n",
    "\n",
    "# Initial weights\n",
    "par['w_out0']     = initialize([par['n_hidden'], 2], par['connection_prob'])\n",
    "par['b_out0']     = np.zeros((1, 2), dtype=np.float32)\n",
    "\n",
    "# Correction of initial values\n",
    "par['w_rnn0'] *= par['w_rnn_mask']"
   ]
  },
  {
   "cell_type": "code",
   "execution_count": 68,
   "metadata": {},
   "outputs": [],
   "source": [
    "par['w_in_mask'] = np.ones_like(par['w_in0'])\n",
    "par['w_out_mask'] = np.ones_like(par['w_out0'])"
   ]
  },
  {
   "cell_type": "code",
   "execution_count": 39,
   "metadata": {},
   "outputs": [],
   "source": [
    "def initialize_weights(par):\n",
    "    var_dict = {}\n",
    "    for k, v in par.items():\n",
    "        if k[-1] == '0':\n",
    "            name = k[:-1]\n",
    "            var_dict[name] = tf.Variable(par[k], name)\n",
    "    w_rnn = var_dict['w_rnn']\n",
    "    return var_dict, w_rnn"
   ]
  },
  {
   "cell_type": "code",
   "execution_count": 40,
   "metadata": {},
   "outputs": [],
   "source": [
    "def rnn_cell(rnn_input, h, var_dict, w_rnn):\n",
    "    # no STSP\n",
    "    h_post = h\n",
    "\n",
    "    # Update the hidden state. Only use excitatory projections from input layer to RNN\n",
    "    # All input and RNN activity will be non-negative\n",
    "    h = tf.nn.relu(h * (1-par['alpha_neuron'])\n",
    "        + par['alpha_neuron'] * (rnn_input @ tf.nn.relu(var_dict['w_in'])\n",
    "        + h_post @ (w_rnn*par['w_rnn_mask']) + var_dict['b_rnn'])\n",
    "        + tf.random_normal(h.shape, 0, par['noise_rnn'], dtype=tf.float32))\n",
    "\n",
    "    return h"
   ]
  },
  {
   "cell_type": "code",
   "execution_count": 51,
   "metadata": {},
   "outputs": [],
   "source": [
    "def run_model(var_dict, w_rnn, input_data):\n",
    "    # Main model loop\n",
    "    h = []\n",
    "    y = []\n",
    "    h_ = var_dict['h']\n",
    "\n",
    "    # Loop through the neural inputs to the RNN, indexed in time\n",
    "    for i in range(len(input_data)):\n",
    "        h_ = rnn_cell(input_data[i], h_, var_dict, w_rnn)\n",
    "        h.append(h_)\n",
    "        y.append(h_ @ tf.nn.relu(var_dict['w_out']) + var_dict['b_out'])\n",
    "        \n",
    "    h = tf.stack(h)\n",
    "    y = tf.stack(y)\n",
    "\n",
    "    return h, y"
   ]
  },
  {
   "cell_type": "code",
   "execution_count": 81,
   "metadata": {},
   "outputs": [],
   "source": [
    "perf_loss = tf.reduce_mean(mask*tf.nn.softmax_cross_entropy_with_logits_v2(logits = y, labels = target_data, axis = 2))\n",
    "spike_loss = tf.reduce_mean(h**2)\n",
    "weight_loss = tf.reduce_mean(tf.nn.relu(w_rnn)**2)\n",
    "loss = perf_loss + par['spike_cost']*spike_loss + par['weight_cost']*weight_loss"
   ]
  },
  {
   "cell_type": "code",
   "execution_count": 84,
   "metadata": {},
   "outputs": [],
   "source": [
    "opt = tf.train.AdamOptimizer(learning_rate = par['learning_rate'])"
   ]
  },
  {
   "cell_type": "code",
   "execution_count": 88,
   "metadata": {},
   "outputs": [],
   "source": [
    "del par['w_out_dm0']\n",
    "del par['b_out_dm0']\n",
    "del par['w_out_estim0']\n",
    "del par['b_out_estim0']"
   ]
  },
  {
   "cell_type": "code",
   "execution_count": 85,
   "metadata": {},
   "outputs": [],
   "source": [
    "grads_and_vars = opt.compute_gradients(loss)"
   ]
  },
  {
   "cell_type": "code",
   "execution_count": 86,
   "metadata": {},
   "outputs": [
    {
     "data": {
      "text/plain": [
       "[(<tf.Tensor 'gradients_1/AddN_253:0' shape=(1, 100) dtype=float32>,\n",
       "  <tf.Variable 'Variable:0' shape=(1, 100) dtype=float32_ref>),\n",
       " (<tf.Tensor 'gradients_1/AddN_254:0' shape=(34, 100) dtype=float32>,\n",
       "  <tf.Variable 'Variable_1:0' shape=(34, 100) dtype=float32_ref>),\n",
       " (<tf.Tensor 'gradients_1/AddN_255:0' shape=(100, 100) dtype=float32>,\n",
       "  <tf.Variable 'Variable_2:0' shape=(100, 100) dtype=float32_ref>),\n",
       " (<tf.Tensor 'gradients_1/AddN_252:0' shape=(1, 100) dtype=float32>,\n",
       "  <tf.Variable 'Variable_3:0' shape=(1, 100) dtype=float32_ref>),\n",
       " (None, <tf.Variable 'Variable_4:0' shape=(50, 2) dtype=float32_ref>),\n",
       " (None, <tf.Variable 'Variable_5:0' shape=(1, 2) dtype=float32_ref>),\n",
       " (None, <tf.Variable 'Variable_6:0' shape=(50, 1) dtype=float32_ref>),\n",
       " (None, <tf.Variable 'Variable_7:0' shape=(1, 1) dtype=float32_ref>),\n",
       " (<tf.Tensor 'gradients_1/AddN_2:0' shape=(100, 2) dtype=float32>,\n",
       "  <tf.Variable 'Variable_8:0' shape=(100, 2) dtype=float32_ref>),\n",
       " (<tf.Tensor 'gradients_1/AddN:0' shape=(1, 2) dtype=float32>,\n",
       "  <tf.Variable 'Variable_9:0' shape=(1, 2) dtype=float32_ref>)]"
      ]
     },
     "execution_count": 86,
     "metadata": {},
     "output_type": "execute_result"
    }
   ],
   "source": [
    "grads_and_vars"
   ]
  },
  {
   "cell_type": "code",
   "execution_count": 42,
   "metadata": {},
   "outputs": [],
   "source": [
    "def optimize(mask,y,target, w_rnn,h):\n",
    "\n",
    "    # Calculate the loss functions and optimize the weights\n",
    "    perf_loss = tf.reduce_mean(mask*tf.nn.softmax_cross_entropy_with_logits_v2(logits = y, labels = target, axis = 2))\n",
    "    \n",
    "    # L2 penalty term on hidden state activity to encourage low spike rate solutions\n",
    "    n = 2 if par['spike_regularization'] == 'L2' else 1\n",
    "    spike_loss = tf.reduce_mean(h**n)\n",
    "    weight_loss = tf.reduce_mean(tf.nn.relu(w_rnn)**n)\n",
    "\n",
    "    # Total loss\n",
    "    loss = perf_loss + par['spike_cost']*spike_loss + par['weight_cost']*weight_loss\n",
    "    opt = tf.train.AdamOptimizer(learning_rate = par['learning_rate'])\n",
    "    grads_and_vars = opt.compute_gradients(loss)\n",
    "\n",
    "    # Apply any applicable weights masks to the gradient and clip\n",
    "    capped_gvs = []\n",
    "    for grad, var in grads_and_vars:\n",
    "        if 'w_rnn' in var.op.name:\n",
    "            grad *= par['w_rnn_mask']\n",
    "        elif 'w_out' in var.op.name:\n",
    "            grad *= par['w_out_mask']\n",
    "        elif 'w_in' in var.op.name:\n",
    "            grad *= par['w_in_mask']\n",
    "        capped_gvs.append((tf.clip_by_norm(grad, par['clip_max_grad_val']), var))\n",
    "\n",
    "    train_op = opt.apply_gradients(capped_gvs)\n",
    "\n",
    "    return(perf_loss, spike_loss, weight_loss, loss, train_op)"
   ]
  },
  {
   "cell_type": "code",
   "execution_count": 43,
   "metadata": {},
   "outputs": [],
   "source": [
    "def get_accuracy(target, output):\n",
    "    # Calculate argmax along the last dimension\n",
    "    target_max = np.argmax(target, axis = 2)\n",
    "    output_max = np.argmax(output, axis = 2)\n",
    "    # Calculate 2D \"average\" of match between target_max & output_max \n",
    "    accuracy = np.sum(np.float32(target_max == output_max))/np.sum(np.ones(output_max.shape))\n",
    "    return accuracy\n",
    "\n",
    "def append_model_performance(model_performance, accuracy, loss, perf_loss, spike_loss, weight_loss, iteration):\n",
    "    model_performance['accuracy'].append(accuracy)\n",
    "    model_performance['loss'].append(loss)\n",
    "    model_performance['perf_loss'].append(perf_loss)\n",
    "    model_performance['spike_loss'].append(spike_loss)\n",
    "    model_performance['weight_loss'].append(weight_loss)\n",
    "    model_performance['iteration'].append(iteration)\n",
    "    return model_performance\n",
    "\n",
    "def print_results(iter_num, perf_loss, spike_loss, weight_loss, h, accuracy):\n",
    "    print(par['trial_type'] + ' Iter. {:4d}'.format(iter_num) + ' | Accuracy {:0.4f}'.format(accuracy) +\n",
    "      ' | perf loss {:0.4f}'.format(perf_loss) + ' | Spike loss {:0.4f}'.format(spike_loss) +\n",
    "      ' | Weight loss {:0.4f}'.format(weight_loss) + ' | Mean activity {:0.4f}'.format(np.mean(h)))"
   ]
  },
  {
   "cell_type": "code",
   "execution_count": 89,
   "metadata": {},
   "outputs": [],
   "source": [
    "tf.reset_default_graph()  # reset graphs in background"
   ]
  },
  {
   "cell_type": "code",
   "execution_count": 90,
   "metadata": {},
   "outputs": [],
   "source": [
    "# Masks specific to the task\n",
    "mask = np.zeros([par['num_time_steps'], par['batch_size']])\n",
    "mask[eyeTrial.rg_test,:] = 1."
   ]
  },
  {
   "cell_type": "code",
   "execution_count": 91,
   "metadata": {},
   "outputs": [],
   "source": [
    "# Define placeholders\n",
    "x = tf.placeholder(tf.float32, [par['num_time_steps'], par['batch_size'],eyeTrial.n_input], 'input')\n",
    "m = tf.placeholder(tf.float32, [par['num_time_steps'], par['batch_size']], 'mask')\n",
    "t = tf.placeholder(tf.float32, [par['num_time_steps'], par['batch_size'],2], 'target')\n",
    "\n",
    "input_data  = tf.unstack(x, axis=0)\n",
    "target_data = t"
   ]
  },
  {
   "cell_type": "code",
   "execution_count": 92,
   "metadata": {},
   "outputs": [
    {
     "data": {
      "text/plain": [
       "['input', 'mask', 'target', 'unstack']"
      ]
     },
     "execution_count": 92,
     "metadata": {},
     "output_type": "execute_result"
    }
   ],
   "source": [
    "[n.name for n in tf.get_default_graph().as_graph_def().node]"
   ]
  },
  {
   "cell_type": "code",
   "execution_count": 93,
   "metadata": {},
   "outputs": [],
   "source": [
    "var_dict, w_rnn = initialize_weights(par)"
   ]
  },
  {
   "cell_type": "code",
   "execution_count": 94,
   "metadata": {},
   "outputs": [],
   "source": [
    "h, y = run_model(var_dict, w_rnn, input_data)\n",
    "perf_loss, spike_loss, weight_loss, loss, train_op = optimize(m,y,t,w_rnn,h)"
   ]
  },
  {
   "cell_type": "code",
   "execution_count": 95,
   "metadata": {},
   "outputs": [],
   "source": [
    "model_performance = {'accuracy': [], 'perf_loss': [], 'loss': [],'spike_loss': [], 'weight_loss': [], 'iteration': []}\n",
    "par['iters_between_outputs'] = 50"
   ]
  },
  {
   "cell_type": "code",
   "execution_count": null,
   "metadata": {},
   "outputs": [],
   "source": [
    "with tf.Session(graph=tf.get_default_graph()) as sess:\n",
    "    sess.run(tf.global_variables_initializer())\n",
    "    \n",
    "    for i in range(par['num_iterations']):\n",
    "        trial_info = eyeTrial.generate_trial(model, img_list)\n",
    "        res_train_op, res_loss, res_perf_loss,res_spike_loss, res_weight_loss, res_y, res_h = \\\n",
    "        sess.run([train_op, loss, perf_loss, spike_loss, weight_loss, y, h],\n",
    "        feed_dict = {x: trial_info['neural_input'],   # neural_input \n",
    "                     t_dm: trial_info['desired_output'], # desired_output\n",
    "                     m: mask}) # train_mask\n",
    "\n",
    "        accuracy = get_accuracy(trial_info['desired_output'][eyeTrial.rg_test,:,:], res_y[eyeTrial.rg_DM,:,:])\n",
    "        model_performance = append_model_performance(model_performance, accuracy, res_loss, res_perf_loss, res_spike_loss, res_weight_loss, i)\n",
    "        if i%par['iters_between_outputs']==0:\n",
    "            print_results(i,res_perf_loss, res_spike_loss, res_weight_loss, res_h, accuracy)        \n",
    "            \n",
    "    weights = sess.run(var_dict)"
   ]
  }
 ],
 "metadata": {
  "kernelspec": {
   "display_name": "Python 3",
   "language": "python",
   "name": "python3"
  },
  "language_info": {
   "codemirror_mode": {
    "name": "ipython",
    "version": 3
   },
   "file_extension": ".py",
   "mimetype": "text/x-python",
   "name": "python",
   "nbconvert_exporter": "python",
   "pygments_lexer": "ipython3",
   "version": "3.7.3"
  }
 },
 "nbformat": 4,
 "nbformat_minor": 4
}
