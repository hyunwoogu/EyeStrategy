{
 "cells": [
  {
   "cell_type": "code",
   "execution_count": 2,
   "metadata": {},
   "outputs": [],
   "source": [
    "import os\n",
    "import h5py\n",
    "import cv2 # pip install opencv-python\n",
    "\n",
    "import scipy.ndimage as sp\n",
    "import pandas as pd\n",
    "import seaborn as sns\n",
    "import numpy as np\n",
    "import random\n",
    "\n",
    "import matplotlib.pyplot as plt\n",
    "import matplotlib.patches as patches\n",
    "import matplotlib.cm as cm\n",
    "\n",
    "from PIL import Image\n",
    "from scipy.ndimage.filters import gaussian_filter\n",
    "\n",
    "%matplotlib inline"
   ]
  },
  {
   "cell_type": "code",
   "execution_count": 3,
   "metadata": {},
   "outputs": [],
   "source": [
    "os.chdir('/Users/hyunwoogu/Dropbox/2019/2019Autumn/Graduation/ResearchGrant/experiment/stimuli')"
   ]
  },
  {
   "cell_type": "code",
   "execution_count": 4,
   "metadata": {
    "collapsed": true,
    "jupyter": {
     "outputs_hidden": true
    }
   },
   "outputs": [
    {
     "data": {
      "text/plain": [
       "['8.png',\n",
       " '9.png',\n",
       " '14.png',\n",
       " '28.png',\n",
       " '29.png',\n",
       " '15.png',\n",
       " '17.png',\n",
       " '16.png',\n",
       " '12.png',\n",
       " '13.png',\n",
       " '11.png',\n",
       " '10.png',\n",
       " '21.png',\n",
       " '20.png',\n",
       " '22.png',\n",
       " '23.png',\n",
       " '27.png',\n",
       " '32.png',\n",
       " '26.png',\n",
       " '18.png',\n",
       " '30.png',\n",
       " '24.png',\n",
       " '25.png',\n",
       " '31.png',\n",
       " '19.png',\n",
       " '4.png',\n",
       " '5.png',\n",
       " '7.png',\n",
       " '6.png',\n",
       " '2.png',\n",
       " '3.png',\n",
       " '1.png']"
      ]
     },
     "execution_count": 4,
     "metadata": {},
     "output_type": "execute_result"
    }
   ],
   "source": [
    "os.listdir()"
   ]
  },
  {
   "cell_type": "markdown",
   "metadata": {},
   "source": [
    "\n",
    "## Task structure\n",
    "\n",
    "+ \n",
    "\n",
    "\n",
    "## Subroutines\n",
    "\n",
    "+ Given Coord. of Center Point -> Matrix of the image part\n",
    "+ "
   ]
  },
  {
   "cell_type": "markdown",
   "metadata": {},
   "source": [
    "## Generate Stimuli"
   ]
  },
  {
   "cell_type": "code",
   "execution_count": null,
   "metadata": {},
   "outputs": [],
   "source": [
    "fig = plt.figure()\n",
    "\n",
    "plt.imshow(img)\n",
    "plt.xlim(0, 1600)\n",
    "plt.ylim(1200, 0)\n",
    "plt.axis('off')\n",
    "\n",
    "ax = sns.kdeplot(Data.loc[(Data.counts==0),'x'], Data.loc[(Data.counts==0),'y'], shade = True, \n",
    "                 cmap = transparent_cmap(plt.cm.Reds, trans=.99), gridsize=100)\n",
    "ax.patch.set_facecolor('white')\n",
    "ax.collections[0].set_alpha(0)\n",
    "\n",
    "plt.show()"
   ]
  },
  {
   "cell_type": "code",
   "execution_count": null,
   "metadata": {},
   "outputs": [],
   "source": [
    "FileNames = os.listdir('21/')\n",
    "\n",
    "w,h=Image.open('21/' + FileNames[0]).size\n",
    "N=len(FileNames)\n",
    "\n",
    "arr=np.zeros((h,w,3),np.float)\n",
    "\n",
    "for im in FileNames:\n",
    "    imarr= np.array(Image.open('21/' + im),dtype=np.float)\n",
    "    arr=arr+imarr/N\n",
    "\n",
    "arr=np.array(np.round(arr),dtype=np.uint8)\n",
    "out=Image.fromarray(arr,mode=\"RGB\")\n",
    "out.save(\"Average.png\")\n",
    "# out.show()\n",
    "\n",
    "img = cv2.imread(\"Average.png\", 1)\n",
    "img = cv2.resize(img, (1600, 1200), interpolation=cv2.INTER_CUBIC)"
   ]
  },
  {
   "cell_type": "code",
   "execution_count": null,
   "metadata": {},
   "outputs": [],
   "source": [
    "# Change current directory\n",
    "os.chdir('/Users/hyunwoo/Dropbox/Needle/DMstim/')\n",
    "\n",
    "# Access file directory\n",
    "files  = list(os.walk(os.getcwd()))[0][2] # list of files in the directory\n",
    "images = {} # a dictionary to include the matrix of each image\n",
    "\n",
    "# Image downsampling in order to avoid complexity\n",
    "## Although too much downsampling may hurt (e.g. :=10)\n",
    "## downsampling itself may not be a huge problem, due to the simple str of input images.\n",
    "\n",
    "downsample_factor = 7 # Arbitrarily set. It means \"7 times smaller than original\". \n",
    "img_row = int(383/downsample_factor)\n",
    "img_col = int(300/downsample_factor)\n",
    "img_chn = 3    # of channel. RGB\n",
    "\n",
    "# File loading\n",
    "for f in files:\n",
    "    if f.endswith('.png'): # loda each png files from the directory to each element of the dictionary\n",
    "        img = imread(f)[:,:,0:3] # 383x300x3. Erased 4th dimension of RGB, since currently all set = 1\n",
    "        images[f[4:6]] = resize(img, (img_row, img_col, img_chn), \n",
    "                                anti_aliasing=True) # reduced size\n",
    "        \n",
    "trialInfo = pd.read_excel(\"subject1.xlsx\", header=None)    "
   ]
  },
  {
   "cell_type": "markdown",
   "metadata": {},
   "source": [
    "# "
   ]
  },
  {
   "cell_type": "code",
   "execution_count": null,
   "metadata": {},
   "outputs": [],
   "source": [
    "XwinSize = 150\n",
    "YwinSize = 150\n",
    "\n",
    "coord1 = (720, 440) ## x coord (from left), y coord (from top) \n",
    "\n",
    "fig, ax = plt.subplots(1)\n",
    "\n",
    "plt.imshow(img)\n",
    "plt.xlim(0, 1600)\n",
    "plt.ylim(1200, 0)\n",
    "plt.axis('off')\n",
    "\n",
    "Start = 0\n",
    "End = 30\n",
    "\n",
    "for i in range(Start, End+1) :\n",
    "    rect = patches.Rectangle(C[i, [0,1]],XwinSize,YwinSize,linewidth=1,edgecolor='r',facecolor='none')\n",
    "    ax.add_patch(rect)\n",
    "\n",
    "plt.show()"
   ]
  }
 ],
 "metadata": {
  "kernelspec": {
   "display_name": "Python 3",
   "language": "python",
   "name": "python3"
  },
  "language_info": {
   "codemirror_mode": {
    "name": "ipython",
    "version": 3
   },
   "file_extension": ".py",
   "mimetype": "text/x-python",
   "name": "python",
   "nbconvert_exporter": "python",
   "pygments_lexer": "ipython3",
   "version": "3.7.3"
  }
 },
 "nbformat": 4,
 "nbformat_minor": 4
}
