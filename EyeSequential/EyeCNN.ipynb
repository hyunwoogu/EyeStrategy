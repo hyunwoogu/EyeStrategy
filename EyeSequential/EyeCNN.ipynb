{
  "cells": [
    {
      "metadata": {
        "trusted": true
      },
      "cell_type": "code",
      "source": "import os\nimport h5py\nimport cv2 # pip install opencv-python\n\nimport scipy.ndimage as sp\nimport pandas as pd\nimport seaborn as sns\nimport numpy as np\nimport random\n\nimport matplotlib.pyplot as plt\nimport matplotlib.patches as patches\nimport matplotlib.cm as cm\n\nfrom PIL import Image\nfrom scipy.ndimage.filters import gaussian_filter\n\n%matplotlib inline",
      "execution_count": 8,
      "outputs": []
    },
    {
      "metadata": {
        "trusted": true
      },
      "cell_type": "code",
      "source": "os.getcwd()",
      "execution_count": 9,
      "outputs": [
        {
          "output_type": "execute_result",
          "execution_count": 9,
          "data": {
            "text/plain": "'/home/nbuser/library/EyeStrategy/EyeSequential'"
          },
          "metadata": {}
        }
      ]
    },
    {
      "metadata": {
        "trusted": true
      },
      "cell_type": "code",
      "source": "cv2",
      "execution_count": 7,
      "outputs": [
        {
          "output_type": "execute_result",
          "execution_count": 7,
          "data": {
            "text/plain": "<module 'cv2' from '/home/nbuser/anaconda3_420/lib/python3.5/site-packages/cv2.cpython-35m-x86_64-linux-gnu.so'>"
          },
          "metadata": {}
        }
      ]
    },
    {
      "metadata": {
        "trusted": false
      },
      "cell_type": "code",
      "source": "os.chdir('/Users/hyunwoogu/Dropbox/2019/2019Autumn/Graduation/ResearchGrant/experiment/stimuli')",
      "execution_count": 3,
      "outputs": []
    },
    {
      "metadata": {
        "jupyter": {
          "outputs_hidden": true
        },
        "trusted": false,
        "scrolled": false
      },
      "cell_type": "code",
      "source": "os.listdir()",
      "execution_count": 4,
      "outputs": [
        {
          "data": {
            "text/plain": "['8.png',\n '9.png',\n '14.png',\n '28.png',\n '29.png',\n '15.png',\n '17.png',\n '16.png',\n '12.png',\n '13.png',\n '11.png',\n '10.png',\n '21.png',\n '20.png',\n '22.png',\n '23.png',\n '27.png',\n '32.png',\n '26.png',\n '18.png',\n '30.png',\n '24.png',\n '25.png',\n '31.png',\n '19.png',\n '4.png',\n '5.png',\n '7.png',\n '6.png',\n '2.png',\n '3.png',\n '1.png']"
          },
          "execution_count": 4,
          "metadata": {},
          "output_type": "execute_result"
        }
      ]
    },
    {
      "metadata": {},
      "cell_type": "markdown",
      "source": "\n## Task structure\n\n+ \n\n\n## Subroutines\n\n+ Given Coord. of Center Point -> Matrix of the image part\n+ "
    },
    {
      "metadata": {},
      "cell_type": "markdown",
      "source": "## Generate Stimuli"
    },
    {
      "metadata": {
        "trusted": false
      },
      "cell_type": "code",
      "source": "fig = plt.figure()\n\nplt.imshow(img)\nplt.xlim(0, 1600)\nplt.ylim(1200, 0)\nplt.axis('off')\n\nax = sns.kdeplot(Data.loc[(Data.counts==0),'x'], Data.loc[(Data.counts==0),'y'], shade = True, \n                 cmap = transparent_cmap(plt.cm.Reds, trans=.99), gridsize=100)\nax.patch.set_facecolor('white')\nax.collections[0].set_alpha(0)\n\nplt.show()",
      "execution_count": null,
      "outputs": []
    },
    {
      "metadata": {
        "trusted": false
      },
      "cell_type": "code",
      "source": "FileNames = os.listdir('21/')\n\nw,h=Image.open('21/' + FileNames[0]).size\nN=len(FileNames)\n\narr=np.zeros((h,w,3),np.float)\n\nfor im in FileNames:\n    imarr= np.array(Image.open('21/' + im),dtype=np.float)\n    arr=arr+imarr/N\n\narr=np.array(np.round(arr),dtype=np.uint8)\nout=Image.fromarray(arr,mode=\"RGB\")\nout.save(\"Average.png\")\n# out.show()\n\nimg = cv2.imread(\"Average.png\", 1)\nimg = cv2.resize(img, (1600, 1200), interpolation=cv2.INTER_CUBIC)",
      "execution_count": null,
      "outputs": []
    },
    {
      "metadata": {
        "trusted": false
      },
      "cell_type": "code",
      "source": "# Change current directory\nos.chdir('/Users/hyunwoo/Dropbox/Needle/DMstim/')\n\n# Access file directory\nfiles  = list(os.walk(os.getcwd()))[0][2] # list of files in the directory\nimages = {} # a dictionary to include the matrix of each image\n\n# Image downsampling in order to avoid complexity\n## Although too much downsampling may hurt (e.g. :=10)\n## downsampling itself may not be a huge problem, due to the simple str of input images.\n\ndownsample_factor = 7 # Arbitrarily set. It means \"7 times smaller than original\". \nimg_row = int(383/downsample_factor)\nimg_col = int(300/downsample_factor)\nimg_chn = 3    # of channel. RGB\n\n# File loading\nfor f in files:\n    if f.endswith('.png'): # loda each png files from the directory to each element of the dictionary\n        img = imread(f)[:,:,0:3] # 383x300x3. Erased 4th dimension of RGB, since currently all set = 1\n        images[f[4:6]] = resize(img, (img_row, img_col, img_chn), \n                                anti_aliasing=True) # reduced size\n        \ntrialInfo = pd.read_excel(\"subject1.xlsx\", header=None)    ",
      "execution_count": null,
      "outputs": []
    },
    {
      "metadata": {},
      "cell_type": "markdown",
      "source": "# "
    },
    {
      "metadata": {
        "trusted": false
      },
      "cell_type": "code",
      "source": "XwinSize = 150\nYwinSize = 150\n\ncoord1 = (720, 440) ## x coord (from left), y coord (from top) \n\nfig, ax = plt.subplots(1)\n\nplt.imshow(img)\nplt.xlim(0, 1600)\nplt.ylim(1200, 0)\nplt.axis('off')\n\nStart = 0\nEnd = 30\n\nfor i in range(Start, End+1) :\n    rect = patches.Rectangle(C[i, [0,1]],XwinSize,YwinSize,linewidth=1,edgecolor='r',facecolor='none')\n    ax.add_patch(rect)\n\nplt.show()",
      "execution_count": null,
      "outputs": []
    }
  ],
  "metadata": {
    "kernelspec": {
      "name": "python3",
      "display_name": "Python 3",
      "language": "python"
    },
    "language_info": {
      "mimetype": "text/x-python",
      "nbconvert_exporter": "python",
      "name": "python",
      "file_extension": ".py",
      "version": "3.5.4",
      "pygments_lexer": "ipython3",
      "codemirror_mode": {
        "version": 3,
        "name": "ipython"
      }
    }
  },
  "nbformat": 4,
  "nbformat_minor": 4
}