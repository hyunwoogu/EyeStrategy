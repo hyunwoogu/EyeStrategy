{
 "cells": [
  {
   "cell_type": "code",
   "execution_count": 1,
   "metadata": {},
   "outputs": [
    {
     "name": "stderr",
     "output_type": "stream",
     "text": [
      "Using TensorFlow backend.\n"
     ]
    }
   ],
   "source": [
    "import os\n",
    "import h5py\n",
    "import cv2 # pip install opencv-python\n",
    "\n",
    "import scipy.ndimage as sp\n",
    "import pandas as pd\n",
    "import seaborn as sns\n",
    "import numpy as np\n",
    "import tensorflow as tf\n",
    "import random\n",
    "import pickle\n",
    "\n",
    "import matplotlib.pyplot as plt\n",
    "import matplotlib.patches as patches\n",
    "import matplotlib.cm as cm\n",
    "\n",
    "from PIL import Image\n",
    "from scipy.ndimage.filters import gaussian_filter\n",
    "\n",
    "from keras.models import Sequential, Model, model_from_json\n",
    "from keras.layers import Subtract, Input\n",
    "from keras.layers.core import Dense, Dropout, Activation, Flatten\n",
    "from keras.layers.convolutional import Conv1D, MaxPooling1D, Conv2D, MaxPooling2D\n",
    "from keras.optimizers import SGD, Adam, RMSprop\n",
    "from keras.utils import np_utils\n",
    "import keras.backend as K \n",
    "\n",
    "%matplotlib inline"
   ]
  },
  {
   "cell_type": "code",
   "execution_count": 2,
   "metadata": {},
   "outputs": [],
   "source": [
    "os.chdir('/Users/hyunwoogu/Dropbox/2019/2019Autumn/Graduation/ResearchGrant/experiment/stimuli')"
   ]
  },
  {
   "cell_type": "code",
   "execution_count": 3,
   "metadata": {},
   "outputs": [],
   "source": [
    "for i in range(32):\n",
    "    if i == 0:\n",
    "        img_list = cv2.imread(str(i+1) + \".png\", 1)\n",
    "        img_list = cv2.resize(img_list, (1600, 1200), interpolation=cv2.INTER_CUBIC)\n",
    "        img_list = img_list[np.newaxis,:,:,:]\n",
    "    else:\n",
    "        im = cv2.imread(str(i+1) + \".png\", 1)\n",
    "        im = cv2.resize(im, (1600, 1200), interpolation=cv2.INTER_CUBIC)\n",
    "        im = im[np.newaxis,:,:,:]\n",
    "        img_list = np.concatenate((img_list,im),axis=0)"
   ]
  },
  {
   "cell_type": "code",
   "execution_count": 4,
   "metadata": {},
   "outputs": [],
   "source": [
    "os.chdir(\"/Users/hyunwoogu/Dropbox/2019/2019Autumn/Graduation/ResearchGrant/EyeModelRes\")"
   ]
  },
  {
   "cell_type": "code",
   "execution_count": 5,
   "metadata": {},
   "outputs": [],
   "source": [
    "par = pickle.load(open(\"par.pkl\", 'rb')) # slightly modified parameter class from Masse"
   ]
  },
  {
   "cell_type": "code",
   "execution_count": 6,
   "metadata": {},
   "outputs": [],
   "source": [
    "import SeqTrial\n",
    "eyeTrial = SeqTrial.Eye(test_mode=True)"
   ]
  },
  {
   "cell_type": "code",
   "execution_count": 7,
   "metadata": {},
   "outputs": [],
   "source": [
    "par['noise_rnn'] = eyeTrial.noise_sd/10."
   ]
  },
  {
   "cell_type": "code",
   "execution_count": 8,
   "metadata": {},
   "outputs": [],
   "source": [
    "def initialize(dims, connection_prob, shape=0.1, scale=1.0):\n",
    "    w = np.random.gamma(shape, scale, size=dims)\n",
    "    w *= (np.random.rand(*dims) < connection_prob)\n",
    "    return np.float32(w)"
   ]
  },
  {
   "cell_type": "code",
   "execution_count": 9,
   "metadata": {},
   "outputs": [],
   "source": [
    "EI = np.ones(par['n_hidden'],dtype=np.float32)\n",
    "EI[80:] *= -1 # inhibitory\n",
    "RNNmask = 1-np.eye(par['n_hidden'],dtype=np.float32)\n",
    "RNNmask = RNNmask @ np.diag(EI)"
   ]
  },
  {
   "cell_type": "code",
   "execution_count": 10,
   "metadata": {},
   "outputs": [],
   "source": [
    "par['w_in0'] = initialize([eyeTrial.n_input, par['n_hidden']], par['connection_prob'], shape=0.2, scale=1.)\n",
    "\n",
    "# RNN weight\n",
    "par['w_rnn_mask'] = RNNmask\n",
    "\n",
    "# Initial weights\n",
    "par['w_out0']     = initialize([par['n_hidden'], 2], par['connection_prob'])\n",
    "par['b_out0']     = np.zeros((1, 2), dtype=np.float32)\n",
    "\n",
    "# Correction of initial values\n",
    "par['w_rnn0'] *= par['w_rnn_mask']"
   ]
  },
  {
   "cell_type": "code",
   "execution_count": 11,
   "metadata": {},
   "outputs": [],
   "source": [
    "par['w_in_mask'] = np.ones_like(par['w_in0'])\n",
    "par['w_out_mask'] = np.ones_like(par['w_out0'])"
   ]
  },
  {
   "cell_type": "code",
   "execution_count": 12,
   "metadata": {},
   "outputs": [],
   "source": [
    "def initialize_weights(par):\n",
    "    var_dict = {}\n",
    "    for k, v in par.items():\n",
    "        if k[-1] == '0':\n",
    "            name = k[:-1]\n",
    "            var_dict[name] = tf.Variable(par[k], name)\n",
    "    w_rnn = var_dict['w_rnn']\n",
    "    return var_dict, w_rnn"
   ]
  },
  {
   "cell_type": "code",
   "execution_count": 13,
   "metadata": {},
   "outputs": [],
   "source": [
    "def rnn_cell(rnn_input, h, var_dict, w_rnn):\n",
    "    # no STSP\n",
    "    h_post = h\n",
    "\n",
    "    # Update the hidden state. Only use excitatory projections from input layer to RNN\n",
    "    # All input and RNN activity will be non-negative\n",
    "    h = tf.nn.relu(h * (1-par['alpha_neuron'])\n",
    "        + par['alpha_neuron'] * (rnn_input @ tf.nn.relu(var_dict['w_in'])\n",
    "        + h_post @ (w_rnn*par['w_rnn_mask']) + var_dict['b_rnn'])\n",
    "        + tf.random_normal(h.shape, 0, par['noise_rnn'], dtype=tf.float32))\n",
    "\n",
    "    return h"
   ]
  },
  {
   "cell_type": "code",
   "execution_count": 14,
   "metadata": {},
   "outputs": [],
   "source": [
    "def run_model(var_dict, w_rnn, input_data):\n",
    "    # Main model loop\n",
    "    h = []\n",
    "    y = []\n",
    "    h_ = var_dict['h']\n",
    "\n",
    "    # Loop through the neural inputs to the RNN, indexed in time\n",
    "    for i in range(len(input_data)):\n",
    "        h_ = rnn_cell(input_data[i], h_, var_dict, w_rnn)\n",
    "        h.append(h_)\n",
    "        y.append(h_ @ tf.nn.relu(var_dict['w_out']) + var_dict['b_out'])\n",
    "        \n",
    "    h = tf.stack(h)\n",
    "    y = tf.stack(y)\n",
    "\n",
    "    return h, y"
   ]
  },
  {
   "cell_type": "code",
   "execution_count": 15,
   "metadata": {},
   "outputs": [],
   "source": [
    "del par['w_out_dm0']\n",
    "del par['b_out_dm0']\n",
    "del par['w_out_estim0']\n",
    "del par['b_out_estim0']"
   ]
  },
  {
   "cell_type": "code",
   "execution_count": 16,
   "metadata": {},
   "outputs": [],
   "source": [
    "def optimize(mask,y,target, w_rnn,h):\n",
    "\n",
    "    # Calculate the loss functions and optimize the weights\n",
    "    perf_loss = tf.reduce_mean(mask*tf.nn.softmax_cross_entropy_with_logits_v2(logits = y, labels = target, axis = 2))\n",
    "    \n",
    "    # L2 penalty term on hidden state activity to encourage low spike rate solutions\n",
    "    n = 2 if par['spike_regularization'] == 'L2' else 1\n",
    "    spike_loss = tf.reduce_mean(h**n)\n",
    "    weight_loss = tf.reduce_mean(tf.nn.relu(w_rnn)**n)\n",
    "\n",
    "    # Total loss\n",
    "    loss = 10000.*perf_loss + par['spike_cost']*spike_loss + par['weight_cost']*weight_loss\n",
    "    opt = tf.train.AdamOptimizer(learning_rate = par['learning_rate'])\n",
    "    grads_and_vars = opt.compute_gradients(loss)\n",
    "\n",
    "    # Apply any applicable weights masks to the gradient and clip\n",
    "    capped_gvs = []\n",
    "    for grad, var in grads_and_vars:\n",
    "        if 'w_rnn' in var.op.name:\n",
    "            grad *= par['w_rnn_mask']\n",
    "        elif 'w_out' in var.op.name:\n",
    "            grad *= par['w_out_mask']\n",
    "        elif 'w_in' in var.op.name:\n",
    "            grad *= par['w_in_mask']\n",
    "        capped_gvs.append((tf.clip_by_norm(grad, par['clip_max_grad_val']), var))\n",
    "\n",
    "    train_op = opt.apply_gradients(capped_gvs)\n",
    "\n",
    "    return(perf_loss, spike_loss, weight_loss, loss, train_op)"
   ]
  },
  {
   "cell_type": "code",
   "execution_count": 17,
   "metadata": {},
   "outputs": [],
   "source": [
    "def get_accuracy(target, output):\n",
    "    # Calculate argmax along the last dimension\n",
    "    target_max = np.argmax(target, axis = 2)\n",
    "    output_max = np.argmax(output, axis = 2)\n",
    "    # Calculate 2D \"average\" of match between target_max & output_max \n",
    "    accuracy = np.sum(np.float32(target_max == output_max))/np.sum(np.ones(output_max.shape))\n",
    "    return accuracy\n",
    "\n",
    "def append_model_performance(model_performance, accuracy, loss, perf_loss, spike_loss, weight_loss, iteration):\n",
    "    model_performance['accuracy'].append(accuracy)\n",
    "    model_performance['loss'].append(loss)\n",
    "    model_performance['perf_loss'].append(perf_loss)\n",
    "    model_performance['spike_loss'].append(spike_loss)\n",
    "    model_performance['weight_loss'].append(weight_loss)\n",
    "    model_performance['iteration'].append(iteration)\n",
    "    return model_performance\n",
    "\n",
    "def print_results(iter_num, perf_loss, spike_loss, weight_loss, h, accuracy):\n",
    "    print(par['trial_type'] + ' Iter. {:4d}'.format(iter_num) + ' | Accuracy {:0.4f}'.format(accuracy) +\n",
    "      ' | perf loss {:0.4f}'.format(perf_loss) + ' | Spike loss {:0.4f}'.format(spike_loss) +\n",
    "      ' | Weight loss {:0.4f}'.format(weight_loss) + ' | Mean activity {:0.4f}'.format(np.mean(h)))"
   ]
  },
  {
   "cell_type": "code",
   "execution_count": 61,
   "metadata": {},
   "outputs": [],
   "source": [
    "tf.reset_default_graph()  # reset graphs in background"
   ]
  },
  {
   "cell_type": "code",
   "execution_count": 62,
   "metadata": {},
   "outputs": [],
   "source": [
    "# Masks specific to the task\n",
    "mask = np.zeros([eyeTrial.numSteps, eyeTrial.batchSize])\n",
    "# mask[eyeTrial.rg_test,:] = 1.\n",
    "mask[:,:] = 1."
   ]
  },
  {
   "cell_type": "code",
   "execution_count": 63,
   "metadata": {},
   "outputs": [],
   "source": [
    "# Define placeholders\n",
    "x = tf.placeholder(tf.float32, [eyeTrial.numSteps, eyeTrial.batchSize,eyeTrial.n_input], 'input')\n",
    "m = tf.placeholder(tf.float32, [eyeTrial.numSteps, eyeTrial.batchSize], 'mask')\n",
    "t = tf.placeholder(tf.float32, [eyeTrial.numSteps, eyeTrial.batchSize,2], 'target')\n",
    "\n",
    "input_data  = tf.unstack(x, axis=0)\n",
    "target_data = t"
   ]
  },
  {
   "cell_type": "code",
   "execution_count": 64,
   "metadata": {},
   "outputs": [
    {
     "data": {
      "text/plain": [
       "['input', 'mask', 'target', 'unstack']"
      ]
     },
     "execution_count": 64,
     "metadata": {},
     "output_type": "execute_result"
    }
   ],
   "source": [
    "[n.name for n in tf.get_default_graph().as_graph_def().node]"
   ]
  },
  {
   "cell_type": "code",
   "execution_count": 65,
   "metadata": {},
   "outputs": [],
   "source": [
    "var_dict, w_rnn = initialize_weights(par)"
   ]
  },
  {
   "cell_type": "code",
   "execution_count": 66,
   "metadata": {},
   "outputs": [
    {
     "data": {
      "text/plain": [
       "{'h': <tf.Variable 'Variable:0' shape=(1, 100) dtype=float32_ref>,\n",
       " 'w_in': <tf.Variable 'Variable_1:0' shape=(34, 100) dtype=float32_ref>,\n",
       " 'w_rnn': <tf.Variable 'Variable_2:0' shape=(100, 100) dtype=float32_ref>,\n",
       " 'b_rnn': <tf.Variable 'Variable_3:0' shape=(1, 100) dtype=float32_ref>,\n",
       " 'w_out': <tf.Variable 'Variable_4:0' shape=(100, 2) dtype=float32_ref>,\n",
       " 'b_out': <tf.Variable 'Variable_5:0' shape=(1, 2) dtype=float32_ref>}"
      ]
     },
     "execution_count": 66,
     "metadata": {},
     "output_type": "execute_result"
    }
   ],
   "source": [
    "var_dict"
   ]
  },
  {
   "cell_type": "code",
   "execution_count": 67,
   "metadata": {},
   "outputs": [],
   "source": [
    "h, y = run_model(var_dict, w_rnn, input_data)\n",
    "perf_loss, spike_loss, weight_loss, loss, train_op = optimize(m,y,t,w_rnn,h)"
   ]
  },
  {
   "cell_type": "code",
   "execution_count": 68,
   "metadata": {},
   "outputs": [],
   "source": [
    "model_performance = {'accuracy': [], 'perf_loss': [], 'loss': [],'spike_loss': [], 'weight_loss': [], 'iteration': []}\n",
    "par['iters_between_outputs'] = 50"
   ]
  },
  {
   "cell_type": "code",
   "execution_count": 69,
   "metadata": {},
   "outputs": [
    {
     "data": {
      "text/plain": [
       "{'h': <tf.Variable 'Variable:0' shape=(1, 100) dtype=float32_ref>,\n",
       " 'w_in': <tf.Variable 'Variable_1:0' shape=(34, 100) dtype=float32_ref>,\n",
       " 'w_rnn': <tf.Variable 'Variable_2:0' shape=(100, 100) dtype=float32_ref>,\n",
       " 'b_rnn': <tf.Variable 'Variable_3:0' shape=(1, 100) dtype=float32_ref>,\n",
       " 'w_out': <tf.Variable 'Variable_4:0' shape=(100, 2) dtype=float32_ref>,\n",
       " 'b_out': <tf.Variable 'Variable_5:0' shape=(1, 2) dtype=float32_ref>}"
      ]
     },
     "execution_count": 69,
     "metadata": {},
     "output_type": "execute_result"
    }
   ],
   "source": [
    "var_dict"
   ]
  },
  {
   "cell_type": "code",
   "execution_count": 70,
   "metadata": {},
   "outputs": [],
   "source": [
    "# load json and create model\n",
    "json_file = open('model.json', 'r')\n",
    "loaded_model_json = json_file.read()\n",
    "json_file.close()"
   ]
  },
  {
   "cell_type": "code",
   "execution_count": 71,
   "metadata": {},
   "outputs": [],
   "source": [
    "par['num_iterations'] = 300"
   ]
  },
  {
   "cell_type": "code",
   "execution_count": 31,
   "metadata": {},
   "outputs": [],
   "source": [
    "model_performance_path = model_performance"
   ]
  },
  {
   "cell_type": "code",
   "execution_count": 60,
   "metadata": {},
   "outputs": [],
   "source": [
    "model_performance_pos_NEL = model_performance\n",
    "model_performance_pos_NNL = model_performance"
   ]
  },
  {
   "cell_type": "code",
   "execution_count": 78,
   "metadata": {},
   "outputs": [
    {
     "data": {
      "text/plain": [
       "dict_keys(['accuracy', 'perf_loss', 'loss', 'spike_loss', 'weight_loss', 'iteration'])"
      ]
     },
     "execution_count": 78,
     "metadata": {},
     "output_type": "execute_result"
    }
   ],
   "source": [
    "model_performance_path.keys()"
   ]
  },
  {
   "cell_type": "code",
   "execution_count": 97,
   "metadata": {},
   "outputs": [
    {
     "data": {
      "image/png": "[encoded data removed]",
      "text/plain": [
       "<Figure size 432x288 with 1 Axes>"
      ]
     },
     "metadata": {
      "needs_background": "light"
     },
     "output_type": "display_data"
    }
   ],
   "source": [
    "plt.plot(model_performance_path['perf_loss'][:280],'red')\n",
    "plt.plot(model_performance_pos_NNL['perf_loss'][:280],'blue')\n",
    "plt.show()"
   ]
  },
  {
   "cell_type": "code",
   "execution_count": 96,
   "metadata": {},
   "outputs": [
    {
     "data": {
      "image/png": "[encoded data removed]",
      "text/plain": [
       "<Figure size 432x288 with 1 Axes>"
      ]
     },
     "metadata": {
      "needs_background": "light"
     },
     "output_type": "display_data"
    }
   ],
   "source": [
    "plt.plot(model_performance_path['accuracy'][:280],'red')\n",
    "plt.plot(model_performance_pos_NNL['accuracy'][:280],'blue')\n",
    "plt.show()"
   ]
  },
  {
   "cell_type": "code",
   "execution_count": null,
   "metadata": {},
   "outputs": [],
   "source": []
  },
  {
   "cell_type": "code",
   "execution_count": null,
   "metadata": {},
   "outputs": [],
   "source": []
  },
  {
   "cell_type": "code",
   "execution_count": 84,
   "metadata": {},
   "outputs": [
    {
     "data": {
      "text/plain": [
       "[<matplotlib.lines.Line2D at 0x1a55a81828>]"
      ]
     },
     "execution_count": 84,
     "metadata": {},
     "output_type": "execute_result"
    },
    {
     "data": {
      "image/png": "[encoded data removed]",
      "text/plain": [
       "<Figure size 432x288 with 1 Axes>"
      ]
     },
     "metadata": {
      "needs_background": "light"
     },
     "output_type": "display_data"
    }
   ],
   "source": [
    "plt.plot(model_performance_path['perf_loss'])"
   ]
  },
  {
   "cell_type": "code",
   "execution_count": null,
   "metadata": {},
   "outputs": [],
   "source": [
    "plt.plot(model_performance_path['perf_loss'])"
   ]
  },
  {
   "cell_type": "code",
   "execution_count": 77,
   "metadata": {},
   "outputs": [
    {
     "data": {
      "text/plain": [
       "[<matplotlib.lines.Line2D at 0x1a554a7dd8>]"
      ]
     },
     "execution_count": 77,
     "metadata": {},
     "output_type": "execute_result"
    },
    {
     "data": {
      "image/png": "[encoded data removed]",
      "text/plain": [
       "<Figure size 432x288 with 1 Axes>"
      ]
     },
     "metadata": {
      "needs_background": "light"
     },
     "output_type": "display_data"
    }
   ],
   "source": [
    "plt.plot(model_performance_path['accuracy'])"
   ]
  },
  {
   "cell_type": "code",
   "execution_count": 75,
   "metadata": {},
   "outputs": [
    {
     "data": {
      "text/plain": [
       "[<matplotlib.lines.Line2D at 0x1a55080438>]"
      ]
     },
     "execution_count": 75,
     "metadata": {},
     "output_type": "execute_result"
    },
    {
     "data": {
      "image/png": "[encoded data removed]",
      "text/plain": [
       "<Figure size 432x288 with 1 Axes>"
      ]
     },
     "metadata": {
      "needs_background": "light"
     },
     "output_type": "display_data"
    }
   ],
   "source": [
    "plt.plot(model_performance_pos_NEL['accuracy'])"
   ]
  },
  {
   "cell_type": "code",
   "execution_count": 76,
   "metadata": {},
   "outputs": [
    {
     "data": {
      "text/plain": [
       "[<matplotlib.lines.Line2D at 0x1a553a25f8>]"
      ]
     },
     "execution_count": 76,
     "metadata": {},
     "output_type": "execute_result"
    },
    {
     "data": {
      "image/png": "[encoded data removed]",
      "text/plain": [
       "<Figure size 432x288 with 1 Axes>"
      ]
     },
     "metadata": {
      "needs_background": "light"
     },
     "output_type": "display_data"
    }
   ],
   "source": [
    "plt.plot(model_performance_pos_NNL['accuracy'])"
   ]
  },
  {
   "cell_type": "code",
   "execution_count": 59,
   "metadata": {},
   "outputs": [],
   "source": []
  },
  {
   "cell_type": "code",
   "execution_count": 73,
   "metadata": {},
   "outputs": [
    {
     "name": "stdout",
     "output_type": "stream",
     "text": [
      "DMS Iter.    0 | Accuracy 0.5000 | perf loss 2.8953 | Spike loss 4.7664 | Weight loss 0.0002 | Mean activity 1.2353\n",
      "DMS Iter.    1 | Accuracy 0.4953 | perf loss 0.3794 | Spike loss 0.2187 | Weight loss 0.0002 | Mean activity 0.1928\n",
      "DMS Iter.    2 | Accuracy 0.5167 | perf loss 0.3703 | Spike loss 0.1368 | Weight loss 0.0003 | Mean activity 0.1227\n",
      "DMS Iter.    3 | Accuracy 0.4870 | perf loss 0.3940 | Spike loss 0.1094 | Weight loss 0.0004 | Mean activity 0.0986\n",
      "DMS Iter.    4 | Accuracy 0.5111 | perf loss 0.3408 | Spike loss 0.0958 | Weight loss 0.0006 | Mean activity 0.0889\n",
      "DMS Iter.    5 | Accuracy 0.5160 | perf loss 0.3322 | Spike loss 0.0890 | Weight loss 0.0008 | Mean activity 0.0858\n",
      "DMS Iter.    6 | Accuracy 0.5107 | perf loss 0.3145 | Spike loss 0.0861 | Weight loss 0.0010 | Mean activity 0.0841\n",
      "DMS Iter.    7 | Accuracy 0.5253 | perf loss 0.3040 | Spike loss 0.0835 | Weight loss 0.0012 | Mean activity 0.0833\n",
      "DMS Iter.    8 | Accuracy 0.4956 | perf loss 0.3065 | Spike loss 0.0802 | Weight loss 0.0013 | Mean activity 0.0851\n",
      "DMS Iter.    9 | Accuracy 0.5124 | perf loss 0.2982 | Spike loss 0.0853 | Weight loss 0.0015 | Mean activity 0.0918\n",
      "DMS Iter.   10 | Accuracy 0.4699 | perf loss 0.2953 | Spike loss 0.0987 | Weight loss 0.0017 | Mean activity 0.1033\n",
      "DMS Iter.   11 | Accuracy 0.5115 | perf loss 0.2822 | Spike loss 0.1274 | Weight loss 0.0019 | Mean activity 0.1237\n",
      "DMS Iter.   12 | Accuracy 0.4995 | perf loss 0.2811 | Spike loss 0.2474 | Weight loss 0.0021 | Mean activity 0.1734\n",
      "DMS Iter.   13 | Accuracy 0.5000 | perf loss 0.2773 | Spike loss 0.9769 | Weight loss 0.0023 | Mean activity 0.3347\n",
      "DMS Iter.   14 | Accuracy 0.5000 | perf loss 0.2774 | Spike loss 11.8038 | Weight loss 0.0026 | Mean activity 1.0420\n",
      "DMS Iter.   15 | Accuracy 0.5000 | perf loss 0.2774 | Spike loss 598.2424 | Weight loss 0.0028 | Mean activity 6.0683\n",
      "DMS Iter.   16 | Accuracy 0.5000 | perf loss 0.2774 | Spike loss 3103.0647 | Weight loss 0.0030 | Mean activity 12.9095\n",
      "DMS Iter.   17 | Accuracy 0.5000 | perf loss 0.2774 | Spike loss 2480.0081 | Weight loss 0.0032 | Mean activity 11.5591\n",
      "DMS Iter.   18 | Accuracy 0.5000 | perf loss 0.2774 | Spike loss 710.6580 | Weight loss 0.0034 | Mean activity 6.5239\n",
      "DMS Iter.   19 | Accuracy 0.5000 | perf loss 0.2774 | Spike loss 106.9755 | Weight loss 0.0035 | Mean activity 2.7661\n",
      "DMS Iter.   20 | Accuracy 0.5000 | perf loss 0.2774 | Spike loss 13.8364 | Weight loss 0.0036 | Mean activity 1.1056\n",
      "DMS Iter.   21 | Accuracy 0.5000 | perf loss 0.2774 | Spike loss 4.1665 | Weight loss 0.0038 | Mean activity 0.6462\n",
      "DMS Iter.   22 | Accuracy 0.5000 | perf loss 0.2774 | Spike loss 2.6376 | Weight loss 0.0039 | Mean activity 0.5273\n",
      "DMS Iter.   23 | Accuracy 0.5000 | perf loss 0.2774 | Spike loss 2.6805 | Weight loss 0.0041 | Mean activity 0.5348\n",
      "DMS Iter.   24 | Accuracy 0.5000 | perf loss 0.2774 | Spike loss 4.0998 | Weight loss 0.0043 | Mean activity 0.6534\n",
      "DMS Iter.   25 | Accuracy 0.5000 | perf loss 0.2774 | Spike loss 2.6436 | Weight loss 0.0045 | Mean activity 0.5399\n",
      "DMS Iter.   26 | Accuracy 0.5000 | perf loss 0.2773 | Spike loss 1.1192 | Weight loss 0.0047 | Mean activity 0.3609\n",
      "DMS Iter.   27 | Accuracy 0.5000 | perf loss 0.2781 | Spike loss 0.6318 | Weight loss 0.0048 | Mean activity 0.2719\n",
      "DMS Iter.   28 | Accuracy 0.5037 | perf loss 0.2794 | Spike loss 0.4691 | Weight loss 0.0050 | Mean activity 0.2330\n",
      "DMS Iter.   29 | Accuracy 0.5050 | perf loss 0.2772 | Spike loss 0.4373 | Weight loss 0.0051 | Mean activity 0.2229\n",
      "DMS Iter.   30 | Accuracy 0.5031 | perf loss 0.2774 | Spike loss 0.5068 | Weight loss 0.0053 | Mean activity 0.2374\n",
      "DMS Iter.   31 | Accuracy 0.5000 | perf loss 0.2771 | Spike loss 0.7095 | Weight loss 0.0054 | Mean activity 0.2815\n",
      "DMS Iter.   32 | Accuracy 0.5000 | perf loss 0.2768 | Spike loss 0.8782 | Weight loss 0.0055 | Mean activity 0.3125\n",
      "DMS Iter.   33 | Accuracy 0.5018 | perf loss 0.2768 | Spike loss 0.6875 | Weight loss 0.0057 | Mean activity 0.2761\n",
      "DMS Iter.   34 | Accuracy 0.5021 | perf loss 0.2753 | Spike loss 0.7330 | Weight loss 0.0058 | Mean activity 0.2866\n",
      "DMS Iter.   35 | Accuracy 0.5040 | perf loss 0.2757 | Spike loss 1.4798 | Weight loss 0.0059 | Mean activity 0.4082\n",
      "DMS Iter.   36 | Accuracy 0.5040 | perf loss 0.2700 | Spike loss 1.2691 | Weight loss 0.0060 | Mean activity 0.3808\n",
      "DMS Iter.   37 | Accuracy 0.5156 | perf loss 0.2798 | Spike loss 0.5563 | Weight loss 0.0062 | Mean activity 0.2556\n",
      "DMS Iter.   38 | Accuracy 0.5134 | perf loss 0.2878 | Spike loss 0.6355 | Weight loss 0.0063 | Mean activity 0.2714\n",
      "DMS Iter.   39 | Accuracy 0.5043 | perf loss 0.2682 | Spike loss 2.3946 | Weight loss 0.0064 | Mean activity 0.5056\n",
      "DMS Iter.   40 | Accuracy 0.5056 | perf loss 0.2725 | Spike loss 21.7765 | Weight loss 0.0065 | Mean activity 1.3480\n",
      "DMS Iter.   41 | Accuracy 0.5000 | perf loss 0.2773 | Spike loss 472.9279 | Weight loss 0.0065 | Mean activity 5.3514\n",
      "DMS Iter.   42 | Accuracy 0.5000 | perf loss 0.2773 | Spike loss 574.7390 | Weight loss 0.0066 | Mean activity 5.8683\n",
      "DMS Iter.   43 | Accuracy 0.5000 | perf loss 0.2773 | Spike loss 155.4420 | Weight loss 0.0066 | Mean activity 3.2363\n",
      "DMS Iter.   44 | Accuracy 0.5000 | perf loss 0.2773 | Spike loss 17.1523 | Weight loss 0.0066 | Mean activity 1.2065\n",
      "DMS Iter.   45 | Accuracy 0.5028 | perf loss 0.2772 | Spike loss 2.1814 | Weight loss 0.0066 | Mean activity 0.4769\n",
      "DMS Iter.   46 | Accuracy 0.4922 | perf loss 0.2748 | Spike loss 0.4736 | Weight loss 0.0066 | Mean activity 0.2246\n",
      "DMS Iter.   47 | Accuracy 0.5194 | perf loss 0.2802 | Spike loss 0.2232 | Weight loss 0.0066 | Mean activity 0.1510\n",
      "DMS Iter.   48 | Accuracy 0.5266 | perf loss 0.2887 | Spike loss 0.1767 | Weight loss 0.0066 | Mean activity 0.1320\n",
      "DMS Iter.   49 | Accuracy 0.5178 | perf loss 0.2879 | Spike loss 0.1718 | Weight loss 0.0066 | Mean activity 0.1279\n",
      "DMS Iter.   50 | Accuracy 0.5020 | perf loss 0.2769 | Spike loss 0.1720 | Weight loss 0.0066 | Mean activity 0.1291\n",
      "DMS Iter.   51 | Accuracy 0.5069 | perf loss 0.2734 | Spike loss 0.2017 | Weight loss 0.0066 | Mean activity 0.1405\n",
      "DMS Iter.   52 | Accuracy 0.5091 | perf loss 0.2737 | Spike loss 0.2648 | Weight loss 0.0067 | Mean activity 0.1602\n",
      "DMS Iter.   53 | Accuracy 0.5125 | perf loss 0.2728 | Spike loss 0.3194 | Weight loss 0.0067 | Mean activity 0.1751\n",
      "DMS Iter.   54 | Accuracy 0.5095 | perf loss 0.2705 | Spike loss 0.3133 | Weight loss 0.0067 | Mean activity 0.1744\n",
      "DMS Iter.   55 | Accuracy 0.5166 | perf loss 0.2657 | Spike loss 0.2362 | Weight loss 0.0068 | Mean activity 0.1539\n",
      "DMS Iter.   56 | Accuracy 0.5211 | perf loss 0.2707 | Spike loss 0.2371 | Weight loss 0.0068 | Mean activity 0.1526\n",
      "DMS Iter.   57 | Accuracy 0.5145 | perf loss 0.2642 | Spike loss 0.3124 | Weight loss 0.0068 | Mean activity 0.1705\n",
      "DMS Iter.   58 | Accuracy 0.5193 | perf loss 0.2580 | Spike loss 0.6432 | Weight loss 0.0069 | Mean activity 0.2255\n",
      "DMS Iter.   59 | Accuracy 0.5155 | perf loss 0.2649 | Spike loss 1.1822 | Weight loss 0.0069 | Mean activity 0.2897\n",
      "DMS Iter.   60 | Accuracy 0.5140 | perf loss 0.2607 | Spike loss 1.8001 | Weight loss 0.0070 | Mean activity 0.3367\n",
      "DMS Iter.   61 | Accuracy 0.5136 | perf loss 0.2589 | Spike loss 3.2070 | Weight loss 0.0071 | Mean activity 0.4268\n",
      "DMS Iter.   62 | Accuracy 0.5265 | perf loss 0.2649 | Spike loss 6.6501 | Weight loss 0.0071 | Mean activity 0.5807\n",
      "DMS Iter.   63 | Accuracy 0.5319 | perf loss 0.2615 | Spike loss 8.0859 | Weight loss 0.0072 | Mean activity 0.6214\n",
      "DMS Iter.   64 | Accuracy 0.5365 | perf loss 0.2543 | Spike loss 6.8814 | Weight loss 0.0073 | Mean activity 0.5659\n",
      "DMS Iter.   65 | Accuracy 0.5484 | perf loss 0.2486 | Spike loss 3.0373 | Weight loss 0.0074 | Mean activity 0.3904\n",
      "DMS Iter.   66 | Accuracy 0.5605 | perf loss 0.2685 | Spike loss 0.9394 | Weight loss 0.0076 | Mean activity 0.2371\n",
      "DMS Iter.   67 | Accuracy 0.5780 | perf loss 0.2940 | Spike loss 0.6505 | Weight loss 0.0077 | Mean activity 0.1981\n",
      "DMS Iter.   68 | Accuracy 0.5867 | perf loss 0.2469 | Spike loss 0.8339 | Weight loss 0.0078 | Mean activity 0.2176\n",
      "DMS Iter.   69 | Accuracy 0.5985 | perf loss 0.2328 | Spike loss 1.7519 | Weight loss 0.0079 | Mean activity 0.2947\n",
      "DMS Iter.   70 | Accuracy 0.6111 | perf loss 0.2286 | Spike loss 2.5534 | Weight loss 0.0081 | Mean activity 0.3418\n",
      "DMS Iter.   71 | Accuracy 0.5900 | perf loss 0.2197 | Spike loss 2.9258 | Weight loss 0.0082 | Mean activity 0.3582\n",
      "DMS Iter.   72 | Accuracy 0.6279 | perf loss 0.2113 | Spike loss 2.8458 | Weight loss 0.0083 | Mean activity 0.3476\n",
      "DMS Iter.   73 | Accuracy 0.6289 | perf loss 0.2252 | Spike loss 1.7327 | Weight loss 0.0084 | Mean activity 0.2903\n",
      "DMS Iter.   74 | Accuracy 0.6487 | perf loss 0.2581 | Spike loss 0.8251 | Weight loss 0.0085 | Mean activity 0.2067\n",
      "DMS Iter.   75 | Accuracy 0.6445 | perf loss 0.2256 | Spike loss 0.8286 | Weight loss 0.0086 | Mean activity 0.2072\n",
      "DMS Iter.   76 | Accuracy 0.5893 | perf loss 0.2358 | Spike loss 1.4316 | Weight loss 0.0087 | Mean activity 0.2611\n",
      "DMS Iter.   77 | Accuracy 0.6088 | perf loss 0.2260 | Spike loss 2.2273 | Weight loss 0.0088 | Mean activity 0.3171\n",
      "DMS Iter.   78 | Accuracy 0.6624 | perf loss 0.1992 | Spike loss 2.9534 | Weight loss 0.0089 | Mean activity 0.3576\n",
      "DMS Iter.   79 | Accuracy 0.6536 | perf loss 0.1966 | Spike loss 3.8125 | Weight loss 0.0091 | Mean activity 0.4085\n",
      "DMS Iter.   80 | Accuracy 0.6525 | perf loss 0.2006 | Spike loss 5.1513 | Weight loss 0.0092 | Mean activity 0.4749\n",
      "DMS Iter.   81 | Accuracy 0.6695 | perf loss 0.1951 | Spike loss 7.3587 | Weight loss 0.0093 | Mean activity 0.5585\n",
      "DMS Iter.   82 | Accuracy 0.6653 | perf loss 0.1918 | Spike loss 7.1144 | Weight loss 0.0095 | Mean activity 0.5538\n",
      "DMS Iter.   83 | Accuracy 0.6721 | perf loss 0.1906 | Spike loss 6.2916 | Weight loss 0.0096 | Mean activity 0.5247\n",
      "DMS Iter.   84 | Accuracy 0.6683 | perf loss 0.1911 | Spike loss 6.0204 | Weight loss 0.0098 | Mean activity 0.5159\n",
      "DMS Iter.   85 | Accuracy 0.6832 | perf loss 0.1870 | Spike loss 6.3575 | Weight loss 0.0100 | Mean activity 0.5039\n",
      "DMS Iter.   86 | Accuracy 0.6669 | perf loss 0.1889 | Spike loss 10.4343 | Weight loss 0.0103 | Mean activity 0.5950\n",
      "DMS Iter.   87 | Accuracy 0.6708 | perf loss 0.1878 | Spike loss 17.1390 | Weight loss 0.0106 | Mean activity 0.6837\n",
      "DMS Iter.   88 | Accuracy 0.6649 | perf loss 0.1887 | Spike loss 30.5972 | Weight loss 0.0109 | Mean activity 0.7928\n",
      "DMS Iter.   89 | Accuracy 0.6613 | perf loss 0.1851 | Spike loss 53.2562 | Weight loss 0.0113 | Mean activity 0.8967\n",
      "DMS Iter.   90 | Accuracy 0.6726 | perf loss 0.1950 | Spike loss 40.5167 | Weight loss 0.0117 | Mean activity 0.7716\n",
      "DMS Iter.   91 | Accuracy 0.6794 | perf loss 0.1824 | Spike loss 33.7577 | Weight loss 0.0121 | Mean activity 0.7148\n",
      "DMS Iter.   92 | Accuracy 0.6415 | perf loss 0.3397 | Spike loss 26.8697 | Weight loss 0.0125 | Mean activity 0.6221\n",
      "DMS Iter.   93 | Accuracy 0.6774 | perf loss 0.1875 | Spike loss 22.6506 | Weight loss 0.0129 | Mean activity 0.7322\n",
      "DMS Iter.   94 | Accuracy 0.6615 | perf loss 0.1937 | Spike loss 23.9309 | Weight loss 0.0133 | Mean activity 0.8755\n",
      "DMS Iter.   95 | Accuracy 0.6482 | perf loss 0.1966 | Spike loss 25.0475 | Weight loss 0.0136 | Mean activity 0.9311\n",
      "DMS Iter.   96 | Accuracy 0.6530 | perf loss 0.1904 | Spike loss 18.4404 | Weight loss 0.0140 | Mean activity 0.7653\n",
      "DMS Iter.   97 | Accuracy 0.7006 | perf loss 0.1757 | Spike loss 13.0777 | Weight loss 0.0144 | Mean activity 0.6351\n",
      "DMS Iter.   98 | Accuracy 0.6482 | perf loss 0.1884 | Spike loss 11.1662 | Weight loss 0.0148 | Mean activity 0.5633\n",
      "DMS Iter.   99 | Accuracy 0.6503 | perf loss 0.1933 | Spike loss 14.4070 | Weight loss 0.0152 | Mean activity 0.6672\n",
      "DMS Iter.  100 | Accuracy 0.6577 | perf loss 0.1966 | Spike loss 19.1379 | Weight loss 0.0156 | Mean activity 0.7348\n",
      "DMS Iter.  101 | Accuracy 0.6720 | perf loss 0.1835 | Spike loss 19.2363 | Weight loss 0.0160 | Mean activity 0.6914\n",
      "DMS Iter.  102 | Accuracy 0.6657 | perf loss 0.1850 | Spike loss 18.5942 | Weight loss 0.0164 | Mean activity 0.7036\n",
      "DMS Iter.  103 | Accuracy 0.6861 | perf loss 0.1807 | Spike loss 20.5990 | Weight loss 0.0168 | Mean activity 0.7354\n",
      "DMS Iter.  104 | Accuracy 0.6698 | perf loss 0.1867 | Spike loss 25.1100 | Weight loss 0.0172 | Mean activity 0.7675\n",
      "DMS Iter.  105 | Accuracy 0.6542 | perf loss 0.1888 | Spike loss 15.9298 | Weight loss 0.0176 | Mean activity 0.6619\n",
      "DMS Iter.  106 | Accuracy 0.6560 | perf loss 0.1846 | Spike loss 10.3074 | Weight loss 0.0181 | Mean activity 0.5438\n",
      "DMS Iter.  107 | Accuracy 0.6725 | perf loss 0.1929 | Spike loss 5.9340 | Weight loss 0.0186 | Mean activity 0.4194\n",
      "DMS Iter.  108 | Accuracy 0.6655 | perf loss 0.1909 | Spike loss 5.1206 | Weight loss 0.0191 | Mean activity 0.4273\n",
      "DMS Iter.  109 | Accuracy 0.6657 | perf loss 0.1877 | Spike loss 5.3291 | Weight loss 0.0195 | Mean activity 0.4843\n",
      "DMS Iter.  110 | Accuracy 0.6588 | perf loss 0.2062 | Spike loss 5.3412 | Weight loss 0.0200 | Mean activity 0.5436\n",
      "DMS Iter.  111 | Accuracy 0.6526 | perf loss 0.2206 | Spike loss 5.6604 | Weight loss 0.0205 | Mean activity 0.5629\n",
      "DMS Iter.  112 | Accuracy 0.6084 | perf loss 0.2187 | Spike loss 7.0339 | Weight loss 0.0209 | Mean activity 0.6597\n",
      "DMS Iter.  113 | Accuracy 0.6171 | perf loss 0.2169 | Spike loss 6.8243 | Weight loss 0.0212 | Mean activity 0.6491\n",
      "DMS Iter.  114 | Accuracy 0.6180 | perf loss 0.2048 | Spike loss 5.7514 | Weight loss 0.0216 | Mean activity 0.5855\n",
      "DMS Iter.  115 | Accuracy 0.6135 | perf loss 0.2174 | Spike loss 5.3160 | Weight loss 0.0219 | Mean activity 0.5673\n",
      "DMS Iter.  116 | Accuracy 0.6356 | perf loss 0.1938 | Spike loss 4.5760 | Weight loss 0.0222 | Mean activity 0.5168\n",
      "DMS Iter.  117 | Accuracy 0.6628 | perf loss 0.1966 | Spike loss 3.9889 | Weight loss 0.0225 | Mean activity 0.4746\n",
      "DMS Iter.  118 | Accuracy 0.6481 | perf loss 0.1928 | Spike loss 3.6025 | Weight loss 0.0228 | Mean activity 0.4350\n",
      "DMS Iter.  119 | Accuracy 0.6541 | perf loss 0.1839 | Spike loss 3.6302 | Weight loss 0.0230 | Mean activity 0.4165\n",
      "DMS Iter.  120 | Accuracy 0.6557 | perf loss 0.1906 | Spike loss 2.9584 | Weight loss 0.0233 | Mean activity 0.3748\n",
      "DMS Iter.  121 | Accuracy 0.6675 | perf loss 0.1892 | Spike loss 3.1858 | Weight loss 0.0235 | Mean activity 0.4138\n",
      "DMS Iter.  122 | Accuracy 0.6737 | perf loss 0.1833 | Spike loss 3.9243 | Weight loss 0.0237 | Mean activity 0.4668\n",
      "DMS Iter.  123 | Accuracy 0.6931 | perf loss 0.1716 | Spike loss 4.1081 | Weight loss 0.0239 | Mean activity 0.4856\n",
      "DMS Iter.  124 | Accuracy 0.6735 | perf loss 0.1811 | Spike loss 4.2568 | Weight loss 0.0241 | Mean activity 0.5109\n",
      "DMS Iter.  125 | Accuracy 0.6459 | perf loss 0.1922 | Spike loss 3.9820 | Weight loss 0.0244 | Mean activity 0.5090\n",
      "DMS Iter.  126 | Accuracy 0.6916 | perf loss 0.1807 | Spike loss 3.2353 | Weight loss 0.0248 | Mean activity 0.4600\n",
      "DMS Iter.  127 | Accuracy 0.6708 | perf loss 0.1828 | Spike loss 3.8001 | Weight loss 0.0251 | Mean activity 0.4670\n",
      "DMS Iter.  128 | Accuracy 0.6443 | perf loss 0.1865 | Spike loss 8.0958 | Weight loss 0.0254 | Mean activity 0.5236\n",
      "DMS Iter.  129 | Accuracy 0.6852 | perf loss 0.1943 | Spike loss 16.0941 | Weight loss 0.0257 | Mean activity 0.6085\n",
      "DMS Iter.  130 | Accuracy 0.6816 | perf loss 0.1818 | Spike loss 35.9383 | Weight loss 0.0259 | Mean activity 0.7612\n",
      "DMS Iter.  131 | Accuracy 0.6836 | perf loss 0.1782 | Spike loss 33.3465 | Weight loss 0.0261 | Mean activity 0.8041\n",
      "DMS Iter.  132 | Accuracy 0.6542 | perf loss 0.1909 | Spike loss 22.5885 | Weight loss 0.0262 | Mean activity 0.7402\n",
      "DMS Iter.  133 | Accuracy 0.6813 | perf loss 0.1765 | Spike loss 16.4990 | Weight loss 0.0264 | Mean activity 0.6626\n",
      "DMS Iter.  134 | Accuracy 0.6596 | perf loss 0.1919 | Spike loss 12.1338 | Weight loss 0.0266 | Mean activity 0.5876\n",
      "DMS Iter.  135 | Accuracy 0.6755 | perf loss 0.1827 | Spike loss 11.2441 | Weight loss 0.0269 | Mean activity 0.5481\n",
      "DMS Iter.  136 | Accuracy 0.6640 | perf loss 0.1870 | Spike loss 7.7280 | Weight loss 0.0272 | Mean activity 0.4983\n",
      "DMS Iter.  137 | Accuracy 0.6640 | perf loss 0.1843 | Spike loss 5.4719 | Weight loss 0.0276 | Mean activity 0.4602\n",
      "DMS Iter.  138 | Accuracy 0.6735 | perf loss 0.1874 | Spike loss 4.0761 | Weight loss 0.0280 | Mean activity 0.4215\n",
      "DMS Iter.  139 | Accuracy 0.6738 | perf loss 0.1888 | Spike loss 3.1565 | Weight loss 0.0284 | Mean activity 0.4034\n",
      "DMS Iter.  140 | Accuracy 0.6457 | perf loss 0.2065 | Spike loss 2.6079 | Weight loss 0.0288 | Mean activity 0.4013\n",
      "DMS Iter.  141 | Accuracy 0.6516 | perf loss 0.2016 | Spike loss 2.0892 | Weight loss 0.0292 | Mean activity 0.3661\n",
      "DMS Iter.  142 | Accuracy 0.7051 | perf loss 0.1775 | Spike loss 1.7193 | Weight loss 0.0295 | Mean activity 0.3315\n",
      "DMS Iter.  143 | Accuracy 0.6620 | perf loss 0.2052 | Spike loss 1.1473 | Weight loss 0.0299 | Mean activity 0.2772\n",
      "DMS Iter.  144 | Accuracy 0.6810 | perf loss 0.1830 | Spike loss 1.1483 | Weight loss 0.0302 | Mean activity 0.2756\n",
      "DMS Iter.  145 | Accuracy 0.6520 | perf loss 0.1898 | Spike loss 1.6245 | Weight loss 0.0304 | Mean activity 0.3355\n",
      "DMS Iter.  146 | Accuracy 0.6872 | perf loss 0.1907 | Spike loss 2.7436 | Weight loss 0.0307 | Mean activity 0.4185\n",
      "DMS Iter.  147 | Accuracy 0.6855 | perf loss 0.1787 | Spike loss 3.7291 | Weight loss 0.0309 | Mean activity 0.4644\n",
      "DMS Iter.  148 | Accuracy 0.6855 | perf loss 0.1859 | Spike loss 3.9956 | Weight loss 0.0312 | Mean activity 0.4767\n",
      "DMS Iter.  149 | Accuracy 0.7002 | perf loss 0.2974 | Spike loss 2.9577 | Weight loss 0.0315 | Mean activity 0.3894\n",
      "DMS Iter.  150 | Accuracy 0.6808 | perf loss 0.1808 | Spike loss 3.8526 | Weight loss 0.0317 | Mean activity 0.4265\n",
      "DMS Iter.  151 | Accuracy 0.6670 | perf loss 0.1883 | Spike loss 6.1692 | Weight loss 0.0320 | Mean activity 0.5322\n",
      "DMS Iter.  152 | Accuracy 0.6792 | perf loss 0.1833 | Spike loss 10.6583 | Weight loss 0.0321 | Mean activity 0.6738\n",
      "DMS Iter.  153 | Accuracy 0.6875 | perf loss 0.1721 | Spike loss 18.2399 | Weight loss 0.0323 | Mean activity 0.8395\n",
      "DMS Iter.  154 | Accuracy 0.6816 | perf loss 0.1764 | Spike loss 15.7517 | Weight loss 0.0325 | Mean activity 0.7846\n",
      "DMS Iter.  155 | Accuracy 0.6836 | perf loss 0.1748 | Spike loss 10.7260 | Weight loss 0.0327 | Mean activity 0.6277\n",
      "DMS Iter.  156 | Accuracy 0.7011 | perf loss 0.1594 | Spike loss 8.6080 | Weight loss 0.0328 | Mean activity 0.4747\n",
      "DMS Iter.  157 | Accuracy 0.6638 | perf loss 0.2708 | Spike loss 5.5515 | Weight loss 0.0330 | Mean activity 0.3569\n",
      "DMS Iter.  158 | Accuracy 0.6556 | perf loss 0.1956 | Spike loss 5.8744 | Weight loss 0.0332 | Mean activity 0.3486\n",
      "DMS Iter.  159 | Accuracy 0.6926 | perf loss 0.1808 | Spike loss 5.1661 | Weight loss 0.0334 | Mean activity 0.3620\n",
      "DMS Iter.  160 | Accuracy 0.6557 | perf loss 0.1929 | Spike loss 6.2241 | Weight loss 0.0336 | Mean activity 0.4622\n",
      "DMS Iter.  161 | Accuracy 0.6869 | perf loss 0.1831 | Spike loss 7.7765 | Weight loss 0.0338 | Mean activity 0.5468\n",
      "DMS Iter.  162 | Accuracy 0.6523 | perf loss 0.1939 | Spike loss 9.9925 | Weight loss 0.0339 | Mean activity 0.6609\n",
      "DMS Iter.  163 | Accuracy 0.6719 | perf loss 0.1790 | Spike loss 10.5297 | Weight loss 0.0341 | Mean activity 0.6674\n",
      "DMS Iter.  164 | Accuracy 0.6777 | perf loss 0.1825 | Spike loss 8.8710 | Weight loss 0.0342 | Mean activity 0.6235\n",
      "DMS Iter.  165 | Accuracy 0.6855 | perf loss 0.1819 | Spike loss 6.0829 | Weight loss 0.0343 | Mean activity 0.5290\n",
      "DMS Iter.  166 | Accuracy 0.6699 | perf loss 0.1878 | Spike loss 3.6245 | Weight loss 0.0345 | Mean activity 0.4267\n",
      "DMS Iter.  167 | Accuracy 0.6269 | perf loss 1.8144 | Spike loss 1.8829 | Weight loss 0.0347 | Mean activity 0.2983\n",
      "DMS Iter.  168 | Accuracy 0.6186 | perf loss 1.3506 | Spike loss 1.4864 | Weight loss 0.0348 | Mean activity 0.2827\n",
      "DMS Iter.  169 | Accuracy 0.6775 | perf loss 0.1861 | Spike loss 1.6480 | Weight loss 0.0350 | Mean activity 0.3157\n",
      "DMS Iter.  170 | Accuracy 0.6758 | perf loss 0.1840 | Spike loss 1.7064 | Weight loss 0.0351 | Mean activity 0.3237\n",
      "DMS Iter.  171 | Accuracy 0.6523 | perf loss 0.1878 | Spike loss 1.8300 | Weight loss 0.0353 | Mean activity 0.3368\n",
      "DMS Iter.  172 | Accuracy 0.6738 | perf loss 0.1872 | Spike loss 1.9737 | Weight loss 0.0355 | Mean activity 0.3502\n",
      "DMS Iter.  173 | Accuracy 0.6719 | perf loss 0.1788 | Spike loss 1.8981 | Weight loss 0.0356 | Mean activity 0.3415\n",
      "DMS Iter.  174 | Accuracy 0.6719 | perf loss 0.1757 | Spike loss 1.7586 | Weight loss 0.0358 | Mean activity 0.3266\n",
      "DMS Iter.  175 | Accuracy 0.6892 | perf loss 0.1807 | Spike loss 1.5315 | Weight loss 0.0360 | Mean activity 0.3071\n",
      "DMS Iter.  176 | Accuracy 0.6697 | perf loss 0.1893 | Spike loss 1.4270 | Weight loss 0.0363 | Mean activity 0.2951\n",
      "DMS Iter.  177 | Accuracy 0.6464 | perf loss 0.1896 | Spike loss 1.4897 | Weight loss 0.0365 | Mean activity 0.2886\n",
      "DMS Iter.  178 | Accuracy 0.6602 | perf loss 0.1888 | Spike loss 1.5332 | Weight loss 0.0366 | Mean activity 0.2927\n",
      "DMS Iter.  179 | Accuracy 0.6736 | perf loss 0.1824 | Spike loss 1.7591 | Weight loss 0.0368 | Mean activity 0.3086\n",
      "DMS Iter.  180 | Accuracy 0.6699 | perf loss 0.1857 | Spike loss 1.8051 | Weight loss 0.0370 | Mean activity 0.3089\n",
      "DMS Iter.  181 | Accuracy 0.6602 | perf loss 0.1852 | Spike loss 1.8108 | Weight loss 0.0372 | Mean activity 0.2971\n",
      "DMS Iter.  182 | Accuracy 0.6445 | perf loss 0.1844 | Spike loss 1.8103 | Weight loss 0.0374 | Mean activity 0.2812\n",
      "DMS Iter.  183 | Accuracy 0.6680 | perf loss 0.1866 | Spike loss 1.8396 | Weight loss 0.0375 | Mean activity 0.2921\n",
      "DMS Iter.  184 | Accuracy 0.6504 | perf loss 0.1941 | Spike loss 1.9555 | Weight loss 0.0377 | Mean activity 0.3039\n",
      "DMS Iter.  185 | Accuracy 0.6387 | perf loss 0.1874 | Spike loss 2.4075 | Weight loss 0.0378 | Mean activity 0.3293\n",
      "DMS Iter.  186 | Accuracy 0.6660 | perf loss 0.1761 | Spike loss 2.6020 | Weight loss 0.0380 | Mean activity 0.3448\n",
      "DMS Iter.  187 | Accuracy 0.6737 | perf loss 0.1855 | Spike loss 2.3865 | Weight loss 0.0381 | Mean activity 0.3501\n",
      "DMS Iter.  188 | Accuracy 0.6875 | perf loss 0.1731 | Spike loss 2.6101 | Weight loss 0.0383 | Mean activity 0.3658\n",
      "DMS Iter.  189 | Accuracy 0.6699 | perf loss 0.1907 | Spike loss 3.1349 | Weight loss 0.0385 | Mean activity 0.4194\n",
      "DMS Iter.  190 | Accuracy 0.6816 | perf loss 0.1775 | Spike loss 3.3259 | Weight loss 0.0387 | Mean activity 0.4230\n",
      "DMS Iter.  191 | Accuracy 0.6602 | perf loss 0.1845 | Spike loss 3.0672 | Weight loss 0.0388 | Mean activity 0.4112\n",
      "DMS Iter.  192 | Accuracy 0.7031 | perf loss 0.1781 | Spike loss 2.2541 | Weight loss 0.0390 | Mean activity 0.3565\n",
      "DMS Iter.  193 | Accuracy 0.6758 | perf loss 0.1737 | Spike loss 1.6710 | Weight loss 0.0391 | Mean activity 0.3051\n",
      "DMS Iter.  194 | Accuracy 0.6895 | perf loss 0.1741 | Spike loss 1.1645 | Weight loss 0.0393 | Mean activity 0.2562\n",
      "DMS Iter.  195 | Accuracy 0.6751 | perf loss 0.7682 | Spike loss 0.9885 | Weight loss 0.0394 | Mean activity 0.2339\n",
      "DMS Iter.  196 | Accuracy 0.6758 | perf loss 0.2106 | Spike loss 0.9234 | Weight loss 0.0396 | Mean activity 0.2254\n",
      "DMS Iter.  197 | Accuracy 0.6754 | perf loss 0.1877 | Spike loss 0.8846 | Weight loss 0.0397 | Mean activity 0.2307\n",
      "DMS Iter.  198 | Accuracy 0.6777 | perf loss 0.1772 | Spike loss 1.0074 | Weight loss 0.0399 | Mean activity 0.2435\n",
      "DMS Iter.  199 | Accuracy 0.6735 | perf loss 0.1806 | Spike loss 1.1758 | Weight loss 0.0401 | Mean activity 0.2709\n",
      "DMS Iter.  200 | Accuracy 0.6680 | perf loss 0.1795 | Spike loss 1.6314 | Weight loss 0.0402 | Mean activity 0.3177\n",
      "DMS Iter.  201 | Accuracy 0.6895 | perf loss 0.1713 | Spike loss 2.4357 | Weight loss 0.0404 | Mean activity 0.3755\n",
      "DMS Iter.  202 | Accuracy 0.6934 | perf loss 0.1803 | Spike loss 3.5954 | Weight loss 0.0406 | Mean activity 0.4505\n",
      "DMS Iter.  203 | Accuracy 0.6602 | perf loss 0.1862 | Spike loss 4.2638 | Weight loss 0.0407 | Mean activity 0.4902\n",
      "DMS Iter.  204 | Accuracy 0.6992 | perf loss 0.1773 | Spike loss 3.7177 | Weight loss 0.0409 | Mean activity 0.4581\n",
      "DMS Iter.  205 | Accuracy 0.6699 | perf loss 0.1801 | Spike loss 2.9296 | Weight loss 0.0410 | Mean activity 0.4158\n",
      "DMS Iter.  206 | Accuracy 0.6660 | perf loss 0.1848 | Spike loss 2.0208 | Weight loss 0.0411 | Mean activity 0.3572\n",
      "DMS Iter.  207 | Accuracy 0.6836 | perf loss 0.1835 | Spike loss 1.4468 | Weight loss 0.0412 | Mean activity 0.3067\n",
      "DMS Iter.  208 | Accuracy 0.6367 | perf loss 0.1866 | Spike loss 1.0802 | Weight loss 0.0413 | Mean activity 0.2676\n",
      "DMS Iter.  209 | Accuracy 0.6602 | perf loss 0.1842 | Spike loss 0.8410 | Weight loss 0.0414 | Mean activity 0.2353\n",
      "DMS Iter.  210 | Accuracy 0.6894 | perf loss 0.1829 | Spike loss 0.7138 | Weight loss 0.0415 | Mean activity 0.2164\n",
      "DMS Iter.  211 | Accuracy 0.6582 | perf loss 0.1869 | Spike loss 0.7397 | Weight loss 0.0416 | Mean activity 0.2209\n",
      "DMS Iter.  212 | Accuracy 0.6699 | perf loss 0.1762 | Spike loss 0.7829 | Weight loss 0.0417 | Mean activity 0.2245\n",
      "DMS Iter.  213 | Accuracy 0.6816 | perf loss 0.1692 | Spike loss 0.8740 | Weight loss 0.0418 | Mean activity 0.2362\n",
      "DMS Iter.  214 | Accuracy 0.6543 | perf loss 0.1848 | Spike loss 0.9643 | Weight loss 0.0419 | Mean activity 0.2535\n",
      "DMS Iter.  215 | Accuracy 0.6602 | perf loss 0.1826 | Spike loss 1.0392 | Weight loss 0.0420 | Mean activity 0.2625\n",
      "DMS Iter.  216 | Accuracy 0.6660 | perf loss 0.1857 | Spike loss 1.0434 | Weight loss 0.0421 | Mean activity 0.2644\n",
      "DMS Iter.  217 | Accuracy 0.6836 | perf loss 0.1792 | Spike loss 1.0552 | Weight loss 0.0422 | Mean activity 0.2633\n",
      "DMS Iter.  218 | Accuracy 0.6816 | perf loss 0.1791 | Spike loss 1.1407 | Weight loss 0.0423 | Mean activity 0.2741\n",
      "DMS Iter.  219 | Accuracy 0.6797 | perf loss 0.1787 | Spike loss 1.1393 | Weight loss 0.0424 | Mean activity 0.2747\n",
      "DMS Iter.  220 | Accuracy 0.6914 | perf loss 0.1806 | Spike loss 1.1479 | Weight loss 0.0425 | Mean activity 0.2775\n",
      "DMS Iter.  221 | Accuracy 0.6855 | perf loss 0.1812 | Spike loss 1.0370 | Weight loss 0.0426 | Mean activity 0.2652\n",
      "DMS Iter.  222 | Accuracy 0.6777 | perf loss 0.1860 | Spike loss 0.9137 | Weight loss 0.0427 | Mean activity 0.2521\n",
      "DMS Iter.  223 | Accuracy 0.6875 | perf loss 0.1849 | Spike loss 0.7974 | Weight loss 0.0428 | Mean activity 0.2367\n",
      "DMS Iter.  224 | Accuracy 0.6777 | perf loss 0.1834 | Spike loss 0.7678 | Weight loss 0.0429 | Mean activity 0.2324\n",
      "DMS Iter.  225 | Accuracy 0.6680 | perf loss 0.1845 | Spike loss 0.6594 | Weight loss 0.0430 | Mean activity 0.2155\n",
      "DMS Iter.  226 | Accuracy 0.6660 | perf loss 0.1845 | Spike loss 0.9093 | Weight loss 0.0430 | Mean activity 0.2500\n",
      "DMS Iter.  227 | Accuracy 0.6699 | perf loss 0.1887 | Spike loss 0.9664 | Weight loss 0.0431 | Mean activity 0.2566\n",
      "DMS Iter.  228 | Accuracy 0.6875 | perf loss 0.1716 | Spike loss 1.0259 | Weight loss 0.0431 | Mean activity 0.2583\n",
      "DMS Iter.  229 | Accuracy 0.6875 | perf loss 0.1731 | Spike loss 1.0212 | Weight loss 0.0432 | Mean activity 0.2555\n",
      "DMS Iter.  230 | Accuracy 0.6836 | perf loss 0.1832 | Spike loss 1.0830 | Weight loss 0.0432 | Mean activity 0.2653\n",
      "DMS Iter.  231 | Accuracy 0.6895 | perf loss 0.1768 | Spike loss 1.1524 | Weight loss 0.0433 | Mean activity 0.2693\n",
      "DMS Iter.  232 | Accuracy 0.6680 | perf loss 0.1892 | Spike loss 1.1358 | Weight loss 0.0433 | Mean activity 0.2711\n",
      "DMS Iter.  233 | Accuracy 0.6895 | perf loss 0.1737 | Spike loss 0.9903 | Weight loss 0.0434 | Mean activity 0.2482\n",
      "DMS Iter.  234 | Accuracy 0.6504 | perf loss 0.1926 | Spike loss 0.8343 | Weight loss 0.0434 | Mean activity 0.2329\n",
      "DMS Iter.  235 | Accuracy 0.6738 | perf loss 0.1881 | Spike loss 0.7644 | Weight loss 0.0435 | Mean activity 0.2224\n",
      "DMS Iter.  236 | Accuracy 0.6465 | perf loss 0.1942 | Spike loss 0.7712 | Weight loss 0.0436 | Mean activity 0.2255\n",
      "DMS Iter.  237 | Accuracy 0.6641 | perf loss 0.1845 | Spike loss 0.7237 | Weight loss 0.0437 | Mean activity 0.2149\n",
      "DMS Iter.  238 | Accuracy 0.6855 | perf loss 0.1789 | Spike loss 0.6628 | Weight loss 0.0437 | Mean activity 0.2043\n",
      "DMS Iter.  239 | Accuracy 0.6641 | perf loss 0.1839 | Spike loss 0.6132 | Weight loss 0.0438 | Mean activity 0.1979\n",
      "DMS Iter.  240 | Accuracy 0.7012 | perf loss 0.1771 | Spike loss 0.6488 | Weight loss 0.0439 | Mean activity 0.2027\n",
      "DMS Iter.  241 | Accuracy 0.6699 | perf loss 0.1817 | Spike loss 0.6551 | Weight loss 0.0439 | Mean activity 0.2043\n",
      "DMS Iter.  242 | Accuracy 0.6816 | perf loss 0.1757 | Spike loss 0.6378 | Weight loss 0.0440 | Mean activity 0.1995\n",
      "DMS Iter.  243 | Accuracy 0.6875 | perf loss 0.1752 | Spike loss 0.6018 | Weight loss 0.0440 | Mean activity 0.1938\n",
      "DMS Iter.  244 | Accuracy 0.6504 | perf loss 0.1798 | Spike loss 0.6566 | Weight loss 0.0441 | Mean activity 0.2035\n",
      "DMS Iter.  245 | Accuracy 0.6641 | perf loss 0.1754 | Spike loss 0.7104 | Weight loss 0.0441 | Mean activity 0.2140\n",
      "DMS Iter.  246 | Accuracy 0.6621 | perf loss 0.1865 | Spike loss 0.7860 | Weight loss 0.0442 | Mean activity 0.2286\n",
      "DMS Iter.  247 | Accuracy 0.6953 | perf loss 0.1787 | Spike loss 0.7596 | Weight loss 0.0442 | Mean activity 0.2244\n",
      "DMS Iter.  248 | Accuracy 0.6875 | perf loss 0.1815 | Spike loss 0.8180 | Weight loss 0.0442 | Mean activity 0.2343\n",
      "DMS Iter.  249 | Accuracy 0.6855 | perf loss 0.1794 | Spike loss 0.9045 | Weight loss 0.0443 | Mean activity 0.2466\n",
      "DMS Iter.  250 | Accuracy 0.6680 | perf loss 0.1822 | Spike loss 0.9540 | Weight loss 0.0443 | Mean activity 0.2535\n",
      "DMS Iter.  251 | Accuracy 0.6914 | perf loss 0.1756 | Spike loss 0.8973 | Weight loss 0.0443 | Mean activity 0.2452\n",
      "DMS Iter.  252 | Accuracy 0.6680 | perf loss 0.1880 | Spike loss 0.9380 | Weight loss 0.0444 | Mean activity 0.2529\n",
      "DMS Iter.  253 | Accuracy 0.6699 | perf loss 0.1827 | Spike loss 0.9526 | Weight loss 0.0444 | Mean activity 0.2547\n",
      "DMS Iter.  254 | Accuracy 0.6621 | perf loss 0.1807 | Spike loss 0.9257 | Weight loss 0.0444 | Mean activity 0.2512\n",
      "DMS Iter.  255 | Accuracy 0.6797 | perf loss 0.1868 | Spike loss 0.7971 | Weight loss 0.0445 | Mean activity 0.2352\n",
      "DMS Iter.  256 | Accuracy 0.6875 | perf loss 0.1761 | Spike loss 0.7433 | Weight loss 0.0445 | Mean activity 0.2252\n",
      "DMS Iter.  257 | Accuracy 0.6602 | perf loss 0.1849 | Spike loss 0.7476 | Weight loss 0.0445 | Mean activity 0.2276\n",
      "DMS Iter.  258 | Accuracy 0.6797 | perf loss 0.1762 | Spike loss 0.6784 | Weight loss 0.0445 | Mean activity 0.2151\n",
      "DMS Iter.  259 | Accuracy 0.6575 | perf loss 0.1895 | Spike loss 0.6011 | Weight loss 0.0446 | Mean activity 0.2041\n",
      "DMS Iter.  260 | Accuracy 0.6875 | perf loss 0.1772 | Spike loss 0.6486 | Weight loss 0.0446 | Mean activity 0.2103\n",
      "DMS Iter.  261 | Accuracy 0.6621 | perf loss 0.1838 | Spike loss 0.7573 | Weight loss 0.0446 | Mean activity 0.2283\n",
      "DMS Iter.  262 | Accuracy 0.6758 | perf loss 0.1831 | Spike loss 0.9055 | Weight loss 0.0446 | Mean activity 0.2484\n",
      "DMS Iter.  263 | Accuracy 0.6836 | perf loss 0.1751 | Spike loss 1.0162 | Weight loss 0.0446 | Mean activity 0.2605\n",
      "DMS Iter.  264 | Accuracy 0.6797 | perf loss 0.1720 | Spike loss 1.0336 | Weight loss 0.0447 | Mean activity 0.2611\n",
      "DMS Iter.  265 | Accuracy 0.6816 | perf loss 0.1788 | Spike loss 0.9615 | Weight loss 0.0447 | Mean activity 0.2533\n",
      "DMS Iter.  266 | Accuracy 0.6816 | perf loss 0.1857 | Spike loss 0.8042 | Weight loss 0.0447 | Mean activity 0.2336\n",
      "DMS Iter.  267 | Accuracy 0.6602 | perf loss 0.1849 | Spike loss 0.7581 | Weight loss 0.0447 | Mean activity 0.2259\n",
      "DMS Iter.  268 | Accuracy 0.6895 | perf loss 0.1750 | Spike loss 0.7540 | Weight loss 0.0447 | Mean activity 0.2234\n",
      "DMS Iter.  269 | Accuracy 0.6523 | perf loss 0.1828 | Spike loss 0.8317 | Weight loss 0.0447 | Mean activity 0.2365\n",
      "DMS Iter.  270 | Accuracy 0.6816 | perf loss 0.1751 | Spike loss 0.9443 | Weight loss 0.0447 | Mean activity 0.2490\n",
      "DMS Iter.  271 | Accuracy 0.6641 | perf loss 0.1896 | Spike loss 1.0234 | Weight loss 0.0447 | Mean activity 0.2621\n",
      "DMS Iter.  272 | Accuracy 0.6777 | perf loss 0.1767 | Spike loss 0.9486 | Weight loss 0.0447 | Mean activity 0.2500\n",
      "DMS Iter.  273 | Accuracy 0.6758 | perf loss 0.1794 | Spike loss 0.8075 | Weight loss 0.0447 | Mean activity 0.2325\n",
      "DMS Iter.  274 | Accuracy 0.6758 | perf loss 0.1783 | Spike loss 0.7673 | Weight loss 0.0447 | Mean activity 0.2264\n",
      "DMS Iter.  275 | Accuracy 0.6621 | perf loss 0.1901 | Spike loss 0.7537 | Weight loss 0.0447 | Mean activity 0.2272\n",
      "DMS Iter.  276 | Accuracy 0.6680 | perf loss 0.1850 | Spike loss 0.6739 | Weight loss 0.0447 | Mean activity 0.2136\n",
      "DMS Iter.  277 | Accuracy 0.6018 | perf loss 2.8447 | Spike loss 0.5410 | Weight loss 0.0448 | Mean activity 0.1830\n",
      "DMS Iter.  278 | Accuracy 0.6101 | perf loss 3.2003 | Spike loss 0.5274 | Weight loss 0.0448 | Mean activity 0.1785\n",
      "DMS Iter.  279 | Accuracy 0.6557 | perf loss 0.8118 | Spike loss 0.5711 | Weight loss 0.0448 | Mean activity 0.1924\n",
      "DMS Iter.  280 | Accuracy 0.6816 | perf loss 0.1793 | Spike loss 0.6678 | Weight loss 0.0448 | Mean activity 0.2142\n",
      "DMS Iter.  281 | Accuracy 0.6855 | perf loss 0.1845 | Spike loss 0.6836 | Weight loss 0.0448 | Mean activity 0.2202\n",
      "DMS Iter.  282 | Accuracy 0.6914 | perf loss 0.1771 | Spike loss 0.6719 | Weight loss 0.0448 | Mean activity 0.2184\n",
      "DMS Iter.  283 | Accuracy 0.6699 | perf loss 0.1852 | Spike loss 0.6958 | Weight loss 0.0448 | Mean activity 0.2249\n",
      "DMS Iter.  284 | Accuracy 0.6719 | perf loss 0.1879 | Spike loss 0.6325 | Weight loss 0.0448 | Mean activity 0.2151\n",
      "DMS Iter.  285 | Accuracy 0.6875 | perf loss 0.1792 | Spike loss 0.6305 | Weight loss 0.0448 | Mean activity 0.2139\n",
      "DMS Iter.  286 | Accuracy 0.6895 | perf loss 0.1744 | Spike loss 0.6472 | Weight loss 0.0449 | Mean activity 0.2157\n",
      "DMS Iter.  287 | Accuracy 0.6641 | perf loss 0.1801 | Spike loss 0.6197 | Weight loss 0.0449 | Mean activity 0.2125\n",
      "DMS Iter.  288 | Accuracy 0.6330 | perf loss 0.1885 | Spike loss 0.5632 | Weight loss 0.0449 | Mean activity 0.2043\n",
      "DMS Iter.  289 | Accuracy 0.6855 | perf loss 0.1740 | Spike loss 0.5817 | Weight loss 0.0450 | Mean activity 0.2052\n",
      "DMS Iter.  290 | Accuracy 0.6895 | perf loss 0.1776 | Spike loss 0.6640 | Weight loss 0.0450 | Mean activity 0.2210\n",
      "DMS Iter.  291 | Accuracy 0.6621 | perf loss 0.1843 | Spike loss 0.8426 | Weight loss 0.0450 | Mean activity 0.2496\n",
      "DMS Iter.  292 | Accuracy 0.6404 | perf loss 0.1984 | Spike loss 1.1642 | Weight loss 0.0451 | Mean activity 0.2945\n",
      "DMS Iter.  293 | Accuracy 0.6646 | perf loss 0.1978 | Spike loss 1.3962 | Weight loss 0.0451 | Mean activity 0.3179\n",
      "DMS Iter.  294 | Accuracy 0.6484 | perf loss 0.1935 | Spike loss 1.5615 | Weight loss 0.0451 | Mean activity 0.3329\n",
      "DMS Iter.  295 | Accuracy 0.6816 | perf loss 0.1819 | Spike loss 1.4552 | Weight loss 0.0451 | Mean activity 0.3185\n",
      "DMS Iter.  296 | Accuracy 0.6836 | perf loss 0.1745 | Spike loss 1.1840 | Weight loss 0.0452 | Mean activity 0.2865\n",
      "DMS Iter.  297 | Accuracy 0.6680 | perf loss 0.1816 | Spike loss 0.9548 | Weight loss 0.0452 | Mean activity 0.2603\n",
      "DMS Iter.  298 | Accuracy 0.6602 | perf loss 0.1880 | Spike loss 0.7815 | Weight loss 0.0452 | Mean activity 0.2374\n",
      "DMS Iter.  299 | Accuracy 0.6660 | perf loss 0.1869 | Spike loss 0.7471 | Weight loss 0.0452 | Mean activity 0.2316\n"
     ]
    }
   ],
   "source": [
    "eyeTrial.condition = [0,2]\n",
    "with tf.Session(graph=tf.get_default_graph()) as sess: \n",
    "    sess.run(tf.global_variables_initializer())\n",
    "    K.set_session(sess)\n",
    "    model = model_from_json(loaded_model_json)\n",
    "    model.load_weights(\"model.h5\")\n",
    "    OPTIM = Adam()\n",
    "    model.compile(loss='categorical_crossentropy', optimizer=OPTIM, metrics=['accuracy'])\n",
    "    \n",
    "    for i in range(par['num_iterations']):\n",
    "        trial_info = eyeTrial.generate_trial(model, img_list)\n",
    "        res_train_op, res_loss, res_perf_loss,res_spike_loss, res_weight_loss, res_y, res_h = \\\n",
    "        sess.run([train_op, loss, perf_loss, spike_loss, weight_loss, y, h],\n",
    "        feed_dict = {x: trial_info['neural_input'],   # neural_input \n",
    "                     t: trial_info['desired_output'], # desired_output\n",
    "                     m: mask}) # train_mask\n",
    "        \n",
    "        accuracy = get_accuracy(trial_info['desired_output'][eyeTrial.rg_test,:,:], res_y[eyeTrial.rg_test,:,:])\n",
    "        model_performance = append_model_performance(model_performance, accuracy, res_loss, res_perf_loss, res_spike_loss, res_weight_loss, i)\n",
    "        print_results(i,res_perf_loss, res_spike_loss, res_weight_loss, res_h, accuracy)\n",
    "        if i%par['iters_between_outputs']==0:\n",
    "            weights = sess.run(var_dict)\n",
    "#             print_results(i,res_perf_loss, res_spike_loss, res_weight_loss, res_h, accuracy)        \n",
    "            \n"
   ]
  },
  {
   "cell_type": "code",
   "execution_count": 89,
   "metadata": {
    "collapsed": true,
    "jupyter": {
     "outputs_hidden": true
    }
   },
   "outputs": [
    {
     "ename": "RuntimeError",
     "evalue": "Attempted to use a closed Session.",
     "output_type": "error",
     "traceback": [
      "\u001b[0;31m---------------------------------------------------------------------------\u001b[0m",
      "\u001b[0;31mRuntimeError\u001b[0m                              Traceback (most recent call last)",
      "\u001b[0;32m<ipython-input-89-bebb845e2e1e>\u001b[0m in \u001b[0;36m<module>\u001b[0;34m\u001b[0m\n\u001b[1;32m      3\u001b[0m \u001b[0;34m\u001b[0m\u001b[0m\n\u001b[1;32m      4\u001b[0m \u001b[0mmodel\u001b[0m \u001b[0;34m=\u001b[0m \u001b[0mmodel_from_json\u001b[0m\u001b[0;34m(\u001b[0m\u001b[0mloaded_model_json\u001b[0m\u001b[0;34m)\u001b[0m\u001b[0;34m\u001b[0m\u001b[0;34m\u001b[0m\u001b[0m\n\u001b[0;32m----> 5\u001b[0;31m \u001b[0mmodel\u001b[0m\u001b[0;34m.\u001b[0m\u001b[0mload_weights\u001b[0m\u001b[0;34m(\u001b[0m\u001b[0;34m\"model.h5\"\u001b[0m\u001b[0;34m)\u001b[0m\u001b[0;34m\u001b[0m\u001b[0;34m\u001b[0m\u001b[0m\n\u001b[0m\u001b[1;32m      6\u001b[0m \u001b[0mOPTIM\u001b[0m \u001b[0;34m=\u001b[0m \u001b[0mAdam\u001b[0m\u001b[0;34m(\u001b[0m\u001b[0;34m)\u001b[0m\u001b[0;34m\u001b[0m\u001b[0;34m\u001b[0m\u001b[0m\n\u001b[1;32m      7\u001b[0m \u001b[0mmodel\u001b[0m\u001b[0;34m.\u001b[0m\u001b[0mcompile\u001b[0m\u001b[0;34m(\u001b[0m\u001b[0mloss\u001b[0m\u001b[0;34m=\u001b[0m\u001b[0;34m'categorical_crossentropy'\u001b[0m\u001b[0;34m,\u001b[0m \u001b[0moptimizer\u001b[0m\u001b[0;34m=\u001b[0m\u001b[0mOPTIM\u001b[0m\u001b[0;34m,\u001b[0m \u001b[0mmetrics\u001b[0m\u001b[0;34m=\u001b[0m\u001b[0;34m[\u001b[0m\u001b[0;34m'accuracy'\u001b[0m\u001b[0;34m]\u001b[0m\u001b[0;34m)\u001b[0m\u001b[0;34m\u001b[0m\u001b[0;34m\u001b[0m\u001b[0m\n",
      "\u001b[0;32m~/anaconda3/lib/python3.7/site-packages/keras/engine/saving.py\u001b[0m in \u001b[0;36mload_wrapper\u001b[0;34m(*args, **kwargs)\u001b[0m\n\u001b[1;32m    490\u001b[0m                 \u001b[0mos\u001b[0m\u001b[0;34m.\u001b[0m\u001b[0mremove\u001b[0m\u001b[0;34m(\u001b[0m\u001b[0mtmp_filepath\u001b[0m\u001b[0;34m)\u001b[0m\u001b[0;34m\u001b[0m\u001b[0;34m\u001b[0m\u001b[0m\n\u001b[1;32m    491\u001b[0m             \u001b[0;32mreturn\u001b[0m \u001b[0mres\u001b[0m\u001b[0;34m\u001b[0m\u001b[0;34m\u001b[0m\u001b[0m\n\u001b[0;32m--> 492\u001b[0;31m         \u001b[0;32mreturn\u001b[0m \u001b[0mload_function\u001b[0m\u001b[0;34m(\u001b[0m\u001b[0;34m*\u001b[0m\u001b[0margs\u001b[0m\u001b[0;34m,\u001b[0m \u001b[0;34m**\u001b[0m\u001b[0mkwargs\u001b[0m\u001b[0;34m)\u001b[0m\u001b[0;34m\u001b[0m\u001b[0;34m\u001b[0m\u001b[0m\n\u001b[0m\u001b[1;32m    493\u001b[0m \u001b[0;34m\u001b[0m\u001b[0m\n\u001b[1;32m    494\u001b[0m     \u001b[0;32mreturn\u001b[0m \u001b[0mload_wrapper\u001b[0m\u001b[0;34m\u001b[0m\u001b[0;34m\u001b[0m\u001b[0m\n",
      "\u001b[0;32m~/anaconda3/lib/python3.7/site-packages/keras/engine/network.py\u001b[0m in \u001b[0;36mload_weights\u001b[0;34m(self, filepath, by_name, skip_mismatch, reshape)\u001b[0m\n\u001b[1;32m   1228\u001b[0m             \u001b[0;32melse\u001b[0m\u001b[0;34m:\u001b[0m\u001b[0;34m\u001b[0m\u001b[0;34m\u001b[0m\u001b[0m\n\u001b[1;32m   1229\u001b[0m                 saving.load_weights_from_hdf5_group(\n\u001b[0;32m-> 1230\u001b[0;31m                     f, self.layers, reshape=reshape)\n\u001b[0m\u001b[1;32m   1231\u001b[0m             \u001b[0;32mif\u001b[0m \u001b[0mhasattr\u001b[0m\u001b[0;34m(\u001b[0m\u001b[0mf\u001b[0m\u001b[0;34m,\u001b[0m \u001b[0;34m'close'\u001b[0m\u001b[0;34m)\u001b[0m\u001b[0;34m:\u001b[0m\u001b[0;34m\u001b[0m\u001b[0;34m\u001b[0m\u001b[0m\n\u001b[1;32m   1232\u001b[0m                 \u001b[0mf\u001b[0m\u001b[0;34m.\u001b[0m\u001b[0mclose\u001b[0m\u001b[0;34m(\u001b[0m\u001b[0;34m)\u001b[0m\u001b[0;34m\u001b[0m\u001b[0;34m\u001b[0m\u001b[0m\n",
      "\u001b[0;32m~/anaconda3/lib/python3.7/site-packages/keras/engine/saving.py\u001b[0m in \u001b[0;36mload_weights_from_hdf5_group\u001b[0;34m(f, layers, reshape)\u001b[0m\n\u001b[1;32m   1235\u001b[0m                              ' elements.')\n\u001b[1;32m   1236\u001b[0m         \u001b[0mweight_value_tuples\u001b[0m \u001b[0;34m+=\u001b[0m \u001b[0mzip\u001b[0m\u001b[0;34m(\u001b[0m\u001b[0msymbolic_weights\u001b[0m\u001b[0;34m,\u001b[0m \u001b[0mweight_values\u001b[0m\u001b[0;34m)\u001b[0m\u001b[0;34m\u001b[0m\u001b[0;34m\u001b[0m\u001b[0m\n\u001b[0;32m-> 1237\u001b[0;31m     \u001b[0mK\u001b[0m\u001b[0;34m.\u001b[0m\u001b[0mbatch_set_value\u001b[0m\u001b[0;34m(\u001b[0m\u001b[0mweight_value_tuples\u001b[0m\u001b[0;34m)\u001b[0m\u001b[0;34m\u001b[0m\u001b[0;34m\u001b[0m\u001b[0m\n\u001b[0m\u001b[1;32m   1238\u001b[0m \u001b[0;34m\u001b[0m\u001b[0m\n\u001b[1;32m   1239\u001b[0m \u001b[0;34m\u001b[0m\u001b[0m\n",
      "\u001b[0;32m~/anaconda3/lib/python3.7/site-packages/keras/backend/tensorflow_backend.py\u001b[0m in \u001b[0;36mbatch_set_value\u001b[0;34m(tuples)\u001b[0m\n\u001b[1;32m   2958\u001b[0m             \u001b[0;31m`\u001b[0m\u001b[0mvalue\u001b[0m\u001b[0;31m`\u001b[0m \u001b[0mshould\u001b[0m \u001b[0mbe\u001b[0m \u001b[0ma\u001b[0m \u001b[0mNumpy\u001b[0m \u001b[0marray\u001b[0m\u001b[0;34m.\u001b[0m\u001b[0;34m\u001b[0m\u001b[0;34m\u001b[0m\u001b[0m\n\u001b[1;32m   2959\u001b[0m     \"\"\"\n\u001b[0;32m-> 2960\u001b[0;31m     \u001b[0mtf_keras_backend\u001b[0m\u001b[0;34m.\u001b[0m\u001b[0mbatch_set_value\u001b[0m\u001b[0;34m(\u001b[0m\u001b[0mtuples\u001b[0m\u001b[0;34m)\u001b[0m\u001b[0;34m\u001b[0m\u001b[0;34m\u001b[0m\u001b[0m\n\u001b[0m\u001b[1;32m   2961\u001b[0m \u001b[0;34m\u001b[0m\u001b[0m\n\u001b[1;32m   2962\u001b[0m \u001b[0;34m\u001b[0m\u001b[0m\n",
      "\u001b[0;32m~/anaconda3/lib/python3.7/site-packages/tensorflow/python/keras/backend.py\u001b[0m in \u001b[0;36mbatch_set_value\u001b[0;34m(tuples)\u001b[0m\n\u001b[1;32m   3069\u001b[0m           \u001b[0massign_ops\u001b[0m\u001b[0;34m.\u001b[0m\u001b[0mappend\u001b[0m\u001b[0;34m(\u001b[0m\u001b[0massign_op\u001b[0m\u001b[0;34m)\u001b[0m\u001b[0;34m\u001b[0m\u001b[0;34m\u001b[0m\u001b[0m\n\u001b[1;32m   3070\u001b[0m           \u001b[0mfeed_dict\u001b[0m\u001b[0;34m[\u001b[0m\u001b[0massign_placeholder\u001b[0m\u001b[0;34m]\u001b[0m \u001b[0;34m=\u001b[0m \u001b[0mvalue\u001b[0m\u001b[0;34m\u001b[0m\u001b[0;34m\u001b[0m\u001b[0m\n\u001b[0;32m-> 3071\u001b[0;31m         \u001b[0mget_session\u001b[0m\u001b[0;34m(\u001b[0m\u001b[0;34m)\u001b[0m\u001b[0;34m.\u001b[0m\u001b[0mrun\u001b[0m\u001b[0;34m(\u001b[0m\u001b[0massign_ops\u001b[0m\u001b[0;34m,\u001b[0m \u001b[0mfeed_dict\u001b[0m\u001b[0;34m=\u001b[0m\u001b[0mfeed_dict\u001b[0m\u001b[0;34m)\u001b[0m\u001b[0;34m\u001b[0m\u001b[0;34m\u001b[0m\u001b[0m\n\u001b[0m\u001b[1;32m   3072\u001b[0m \u001b[0;34m\u001b[0m\u001b[0m\n\u001b[1;32m   3073\u001b[0m \u001b[0;34m\u001b[0m\u001b[0m\n",
      "\u001b[0;32m~/anaconda3/lib/python3.7/site-packages/tensorflow/python/keras/backend.py\u001b[0m in \u001b[0;36mget_session\u001b[0;34m(op_input_list)\u001b[0m\n\u001b[1;32m    460\u001b[0m   \u001b[0;32mif\u001b[0m \u001b[0;32mnot\u001b[0m \u001b[0m_MANUAL_VAR_INIT\u001b[0m\u001b[0;34m:\u001b[0m\u001b[0;34m\u001b[0m\u001b[0;34m\u001b[0m\u001b[0m\n\u001b[1;32m    461\u001b[0m     \u001b[0;32mwith\u001b[0m \u001b[0msession\u001b[0m\u001b[0;34m.\u001b[0m\u001b[0mgraph\u001b[0m\u001b[0;34m.\u001b[0m\u001b[0mas_default\u001b[0m\u001b[0;34m(\u001b[0m\u001b[0;34m)\u001b[0m\u001b[0;34m:\u001b[0m\u001b[0;34m\u001b[0m\u001b[0;34m\u001b[0m\u001b[0m\n\u001b[0;32m--> 462\u001b[0;31m       \u001b[0m_initialize_variables\u001b[0m\u001b[0;34m(\u001b[0m\u001b[0msession\u001b[0m\u001b[0;34m)\u001b[0m\u001b[0;34m\u001b[0m\u001b[0;34m\u001b[0m\u001b[0m\n\u001b[0m\u001b[1;32m    463\u001b[0m   \u001b[0;32mreturn\u001b[0m \u001b[0msession\u001b[0m\u001b[0;34m\u001b[0m\u001b[0;34m\u001b[0m\u001b[0m\n\u001b[1;32m    464\u001b[0m \u001b[0;34m\u001b[0m\u001b[0m\n",
      "\u001b[0;32m~/anaconda3/lib/python3.7/site-packages/tensorflow/python/keras/backend.py\u001b[0m in \u001b[0;36m_initialize_variables\u001b[0;34m(session)\u001b[0m\n\u001b[1;32m    877\u001b[0m     \u001b[0;31m# marked as initialized.\u001b[0m\u001b[0;34m\u001b[0m\u001b[0;34m\u001b[0m\u001b[0;34m\u001b[0m\u001b[0m\n\u001b[1;32m    878\u001b[0m     is_initialized = session.run(\n\u001b[0;32m--> 879\u001b[0;31m         [variables_module.is_variable_initialized(v) for v in candidate_vars])\n\u001b[0m\u001b[1;32m    880\u001b[0m     \u001b[0muninitialized_vars\u001b[0m \u001b[0;34m=\u001b[0m \u001b[0;34m[\u001b[0m\u001b[0;34m]\u001b[0m\u001b[0;34m\u001b[0m\u001b[0;34m\u001b[0m\u001b[0m\n\u001b[1;32m    881\u001b[0m     \u001b[0;32mfor\u001b[0m \u001b[0mflag\u001b[0m\u001b[0;34m,\u001b[0m \u001b[0mv\u001b[0m \u001b[0;32min\u001b[0m \u001b[0mzip\u001b[0m\u001b[0;34m(\u001b[0m\u001b[0mis_initialized\u001b[0m\u001b[0;34m,\u001b[0m \u001b[0mcandidate_vars\u001b[0m\u001b[0;34m)\u001b[0m\u001b[0;34m:\u001b[0m\u001b[0;34m\u001b[0m\u001b[0;34m\u001b[0m\u001b[0m\n",
      "\u001b[0;32m~/anaconda3/lib/python3.7/site-packages/tensorflow/python/client/session.py\u001b[0m in \u001b[0;36mrun\u001b[0;34m(self, fetches, feed_dict, options, run_metadata)\u001b[0m\n\u001b[1;32m    948\u001b[0m     \u001b[0;32mtry\u001b[0m\u001b[0;34m:\u001b[0m\u001b[0;34m\u001b[0m\u001b[0;34m\u001b[0m\u001b[0m\n\u001b[1;32m    949\u001b[0m       result = self._run(None, fetches, feed_dict, options_ptr,\n\u001b[0;32m--> 950\u001b[0;31m                          run_metadata_ptr)\n\u001b[0m\u001b[1;32m    951\u001b[0m       \u001b[0;32mif\u001b[0m \u001b[0mrun_metadata\u001b[0m\u001b[0;34m:\u001b[0m\u001b[0;34m\u001b[0m\u001b[0;34m\u001b[0m\u001b[0m\n\u001b[1;32m    952\u001b[0m         \u001b[0mproto_data\u001b[0m \u001b[0;34m=\u001b[0m \u001b[0mtf_session\u001b[0m\u001b[0;34m.\u001b[0m\u001b[0mTF_GetBuffer\u001b[0m\u001b[0;34m(\u001b[0m\u001b[0mrun_metadata_ptr\u001b[0m\u001b[0;34m)\u001b[0m\u001b[0;34m\u001b[0m\u001b[0;34m\u001b[0m\u001b[0m\n",
      "\u001b[0;32m~/anaconda3/lib/python3.7/site-packages/tensorflow/python/client/session.py\u001b[0m in \u001b[0;36m_run\u001b[0;34m(self, handle, fetches, feed_dict, options, run_metadata)\u001b[0m\n\u001b[1;32m   1094\u001b[0m     \u001b[0;31m# Check session.\u001b[0m\u001b[0;34m\u001b[0m\u001b[0;34m\u001b[0m\u001b[0;34m\u001b[0m\u001b[0m\n\u001b[1;32m   1095\u001b[0m     \u001b[0;32mif\u001b[0m \u001b[0mself\u001b[0m\u001b[0;34m.\u001b[0m\u001b[0m_closed\u001b[0m\u001b[0;34m:\u001b[0m\u001b[0;34m\u001b[0m\u001b[0;34m\u001b[0m\u001b[0m\n\u001b[0;32m-> 1096\u001b[0;31m       \u001b[0;32mraise\u001b[0m \u001b[0mRuntimeError\u001b[0m\u001b[0;34m(\u001b[0m\u001b[0;34m'Attempted to use a closed Session.'\u001b[0m\u001b[0;34m)\u001b[0m\u001b[0;34m\u001b[0m\u001b[0;34m\u001b[0m\u001b[0m\n\u001b[0m\u001b[1;32m   1097\u001b[0m     \u001b[0;32mif\u001b[0m \u001b[0mself\u001b[0m\u001b[0;34m.\u001b[0m\u001b[0mgraph\u001b[0m\u001b[0;34m.\u001b[0m\u001b[0mversion\u001b[0m \u001b[0;34m==\u001b[0m \u001b[0;36m0\u001b[0m\u001b[0;34m:\u001b[0m\u001b[0;34m\u001b[0m\u001b[0;34m\u001b[0m\u001b[0m\n\u001b[1;32m   1098\u001b[0m       raise RuntimeError('The Session graph is empty.  Add operations to the '\n",
      "\u001b[0;31mRuntimeError\u001b[0m: Attempted to use a closed Session."
     ]
    }
   ],
   "source": [
    "eyeTrial.discrim = 2\n",
    "eyeTrial.condition = [0,1]\n",
    "\n",
    "model = model_from_json(loaded_model_json)\n",
    "model.load_weights(\"model.h5\")\n",
    "OPTIM = Adam()\n",
    "model.compile(loss='categorical_crossentropy', optimizer=OPTIM, metrics=['accuracy'])\n",
    "\n",
    "trial_info = eyeTrial.generate_trial(model, img_list)\n",
    "res_h, res_y = run_model_trial(weights, weights['w_rnn'],trial_info['neural_input'])"
   ]
  },
  {
   "cell_type": "code",
   "execution_count": 86,
   "metadata": {},
   "outputs": [],
   "source": [
    "def rnn_cell_trial(rnn_input, h, var_dict, w_rnn):\n",
    "    # no STSP\n",
    "    h_post = h\n",
    "\n",
    "    # Update the hidden state. Only use excitatory projections from input layer to RNN\n",
    "    # All input and RNN activity will be non-negative\n",
    "    h = np.maximum(h * (1-par['alpha_neuron'])\n",
    "        + par['alpha_neuron'] * (rnn_input @ np.maximum(var_dict['w_in'],0)\n",
    "        + h_post @ (w_rnn*par['w_rnn_mask']) + var_dict['b_rnn'])\n",
    "        + np.random.normal(loc=0, scale=par['noise_rnn'], size=h.shape, dtype=np.float32),0)\n",
    "\n",
    "    return h"
   ]
  },
  {
   "cell_type": "code",
   "execution_count": 87,
   "metadata": {},
   "outputs": [],
   "source": [
    "def run_model_trial(var_dict, w_rnn, input_data):\n",
    "    # Main model loop\n",
    "    h = []\n",
    "    y = []\n",
    "    h_ = var_dict['h']\n",
    "\n",
    "    # Loop through the neural inputs to the RNN, indexed in time\n",
    "    for i in range(len(input_data)):\n",
    "        h_ = rnn_cell_trial(input_data[i], h_, var_dict, w_rnn)\n",
    "        h.append(h_)\n",
    "        y.append(h_ @ np.maximum(var_dict['w_out'],0) + var_dict['b_out'])\n",
    "        \n",
    "    h = np.stack(h)\n",
    "    y = np.stack(y)\n",
    "\n",
    "    return h, y"
   ]
  },
  {
   "cell_type": "code",
   "execution_count": null,
   "metadata": {},
   "outputs": [],
   "source": [
    "with tf.Session(graph=tf.get_default_graph()) as sess: \n",
    "    sess.run(tf.global_variables_initializer())\n",
    "    K.set_session(sess)\n",
    "    model = model_from_json(loaded_model_json)\n",
    "    model.load_weights(\"model.h5\")\n",
    "    OPTIM = Adam()\n",
    "    model.compile(loss='categorical_crossentropy', optimizer=OPTIM, metrics=['accuracy'])\n",
    "    \n",
    "    for i in range(par['num_iterations']):\n",
    "        trial_info = eyeTrial.generate_trial(model, img_list)\n",
    "        res_train_op, res_loss, res_perf_loss,res_spike_loss, res_weight_loss, res_y, res_h = \\\n",
    "        sess.run([train_op, loss, perf_loss, spike_loss, weight_loss, y, h],\n",
    "        feed_dict = {x: trial_info['neural_input'],   # neural_input \n",
    "                     t: trial_info['desired_output'], # desired_output\n",
    "                     m: mask}) # train_mask\n",
    "        \n",
    "        accuracy = get_accuracy(trial_info['desired_output'][eyeTrial.rg_test,:,:], res_y[eyeTrial.rg_test,:,:])\n",
    "        model_performance = append_model_performance(model_performance, accuracy, res_loss, res_perf_loss, res_spike_loss, res_weight_loss, i)\n",
    "        print_results(i,res_perf_loss, res_spike_loss, res_weight_loss, res_h, accuracy)\n",
    "        if i%par['iters_between_outputs']==0:\n",
    "            weights = sess.run(var_dict)"
   ]
  },
  {
   "cell_type": "code",
   "execution_count": 79,
   "metadata": {},
   "outputs": [
    {
     "data": {
      "image/png": "[encoded data removed]",
      "text/plain": [
       "<Figure size 432x288 with 1 Axes>"
      ]
     },
     "metadata": {
      "needs_background": "light"
     },
     "output_type": "display_data"
    }
   ],
   "source": [
    "plt.imshow(weights['w_rnn'], cmap='gray')\n",
    "plt.show()"
   ]
  },
  {
   "cell_type": "code",
   "execution_count": 74,
   "metadata": {},
   "outputs": [
    {
     "data": {
      "image/png": "[encoded data removed]",
      "text/plain": [
       "<Figure size 439.2x72 with 1 Axes>"
      ]
     },
     "metadata": {
      "needs_background": "light"
     },
     "output_type": "display_data"
    },
    {
     "data": {
      "image/png": "[encoded data removed]",
      "text/plain": [
       "<Figure size 439.2x72 with 1 Axes>"
      ]
     },
     "metadata": {
      "needs_background": "light"
     },
     "output_type": "display_data"
    },
    {
     "name": "stdout",
     "output_type": "stream",
     "text": [
      "24\n",
      "[2 1]\n",
      "20\n"
     ]
    }
   ],
   "source": [
    "t = np.random.randint(eyeTrial.batchSize)\n",
    "\n",
    "plt.figure(figsize = (6.1,1))\n",
    "plt.imshow(res_y[:,t,:].T, aspect='auto')\n",
    "plt.show()\n",
    "\n",
    "plt.figure(figsize = (6.1,1))\n",
    "plt.imshow(trial_info['desired_output'][:,t,:].T, aspect='auto')\n",
    "plt.show()\n",
    "\n",
    "print(trial_info['sample_face'][t])\n",
    "print(trial_info['conditions'][t,:])\n",
    "print(trial_info['test_face'][t])"
   ]
  },
  {
   "cell_type": "code",
   "execution_count": 91,
   "metadata": {},
   "outputs": [
    {
     "data": {
      "text/plain": [
       "(100, 512, 2)"
      ]
     },
     "execution_count": 91,
     "metadata": {},
     "output_type": "execute_result"
    }
   ],
   "source": [
    "res_y.shape"
   ]
  },
  {
   "cell_type": "code",
   "execution_count": 31,
   "metadata": {},
   "outputs": [
    {
     "data": {
      "image/png": "[encoded data removed]",
      "text/plain": [
       "<Figure size 432x288 with 1 Axes>"
      ]
     },
     "metadata": {
      "needs_background": "light"
     },
     "output_type": "display_data"
    },
    {
     "data": {
      "image/png": "[encoded data removed]",
      "text/plain": [
       "<Figure size 439.2x72 with 1 Axes>"
      ]
     },
     "metadata": {
      "needs_background": "light"
     },
     "output_type": "display_data"
    }
   ],
   "source": [
    "t = np.random.randint(eyeTrial.batchSize)\n",
    "\n",
    "plt.imshow(trial_info['neural_input'][:,t,:32].T)\n",
    "plt.show()\n",
    "plt.figure(figsize = (6.1,1))\n",
    "plt.imshow(trial_info['desired_output'][:,t,:].T, aspect='auto')\n",
    "plt.show()\n",
    "\n"
   ]
  }
 ],
 "metadata": {
  "kernelspec": {
   "display_name": "Python 3",
   "language": "python",
   "name": "python3"
  },
  "language_info": {
   "codemirror_mode": {
    "name": "ipython",
    "version": 3
   },
   "file_extension": ".py",
   "mimetype": "text/x-python",
   "name": "python",
   "nbconvert_exporter": "python",
   "pygments_lexer": "ipython3",
   "version": "3.7.3"
  }
 },
 "nbformat": 4,
 "nbformat_minor": 4
}
